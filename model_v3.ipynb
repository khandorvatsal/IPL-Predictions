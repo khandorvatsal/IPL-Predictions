{
 "cells": [
  {
   "cell_type": "code",
   "execution_count": 1,
   "metadata": {},
   "outputs": [],
   "source": [
    "# Importing standard libraries\n",
    "import numpy as np\n",
    "import pandas as pd\n",
    "import matplotlib.pyplot as plt\n",
    "import seaborn as sns\n",
    "\n",
    "# We want our plots to appear inside the notebook\n",
    "%matplotlib inline   \n",
    "\n",
    "# Models from Scikit-Learn\n",
    "from sklearn.linear_model import LogisticRegression\n",
    "from sklearn.neighbors import KNeighborsClassifier\n",
    "from sklearn.ensemble import RandomForestClassifier\n",
    "from sklearn.naive_bayes import GaussianNB\n",
    "\n",
    "# Models Evaluation\n",
    "from sklearn.model_selection import train_test_split, cross_val_score\n",
    "from sklearn.model_selection import RandomizedSearchCV, GridSearchCV\n",
    "from sklearn.metrics import confusion_matrix, classification_report\n",
    "from sklearn.metrics import precision_score, recall_score, f1_score\n",
    "from sklearn.metrics import plot_roc_curve"
   ]
  },
  {
   "cell_type": "code",
   "execution_count": 2,
   "metadata": {},
   "outputs": [
    {
     "data": {
      "text/html": [
       "<div>\n",
       "<style scoped>\n",
       "    .dataframe tbody tr th:only-of-type {\n",
       "        vertical-align: middle;\n",
       "    }\n",
       "\n",
       "    .dataframe tbody tr th {\n",
       "        vertical-align: top;\n",
       "    }\n",
       "\n",
       "    .dataframe thead th {\n",
       "        text-align: right;\n",
       "    }\n",
       "</style>\n",
       "<table border=\"1\" class=\"dataframe\">\n",
       "  <thead>\n",
       "    <tr style=\"text-align: right;\">\n",
       "      <th></th>\n",
       "      <th>Unnamed: 0</th>\n",
       "      <th>ID</th>\n",
       "      <th>SEASON</th>\n",
       "      <th>CITY</th>\n",
       "      <th>CITY_Corrrected</th>\n",
       "      <th>TEAM1</th>\n",
       "      <th>TEAM1_MODEL</th>\n",
       "      <th>TEAM2</th>\n",
       "      <th>TEAM2_MODEL</th>\n",
       "      <th>TOSS_WINNER</th>\n",
       "      <th>...</th>\n",
       "      <th>TOSS_DECISION</th>\n",
       "      <th>RESULT</th>\n",
       "      <th>WINNER</th>\n",
       "      <th>WIN_BY_RUNS</th>\n",
       "      <th>TOSS_WINNER_MODEL</th>\n",
       "      <th>WINNER_MODEL</th>\n",
       "      <th>TOSS_DECISION_MODEL</th>\n",
       "      <th>CITY_MODEL</th>\n",
       "      <th>WIN_RATE_TEAM1</th>\n",
       "      <th>WIN_RATE_TEAM2</th>\n",
       "    </tr>\n",
       "  </thead>\n",
       "  <tbody>\n",
       "    <tr>\n",
       "      <th>0</th>\n",
       "      <td>0</td>\n",
       "      <td>60</td>\n",
       "      <td>2008</td>\n",
       "      <td>Bangalore</td>\n",
       "      <td>RCB</td>\n",
       "      <td>KKR</td>\n",
       "      <td>1</td>\n",
       "      <td>RCB</td>\n",
       "      <td>0</td>\n",
       "      <td>RCB</td>\n",
       "      <td>...</td>\n",
       "      <td>field</td>\n",
       "      <td>normal</td>\n",
       "      <td>KKR</td>\n",
       "      <td>140</td>\n",
       "      <td>0</td>\n",
       "      <td>1</td>\n",
       "      <td>0</td>\n",
       "      <td>0</td>\n",
       "      <td>0.000000</td>\n",
       "      <td>0.000000</td>\n",
       "    </tr>\n",
       "    <tr>\n",
       "      <th>1</th>\n",
       "      <td>1</td>\n",
       "      <td>61</td>\n",
       "      <td>2008</td>\n",
       "      <td>Chandigarh</td>\n",
       "      <td>KXIP</td>\n",
       "      <td>CSK</td>\n",
       "      <td>1</td>\n",
       "      <td>KXIP</td>\n",
       "      <td>0</td>\n",
       "      <td>CSK</td>\n",
       "      <td>...</td>\n",
       "      <td>bat</td>\n",
       "      <td>normal</td>\n",
       "      <td>CSK</td>\n",
       "      <td>33</td>\n",
       "      <td>1</td>\n",
       "      <td>1</td>\n",
       "      <td>1</td>\n",
       "      <td>0</td>\n",
       "      <td>0.000000</td>\n",
       "      <td>0.000000</td>\n",
       "    </tr>\n",
       "    <tr>\n",
       "      <th>2</th>\n",
       "      <td>2</td>\n",
       "      <td>62</td>\n",
       "      <td>2008</td>\n",
       "      <td>Delhi</td>\n",
       "      <td>DD</td>\n",
       "      <td>DD</td>\n",
       "      <td>1</td>\n",
       "      <td>RR</td>\n",
       "      <td>0</td>\n",
       "      <td>RR</td>\n",
       "      <td>...</td>\n",
       "      <td>bat</td>\n",
       "      <td>normal</td>\n",
       "      <td>DD</td>\n",
       "      <td>0</td>\n",
       "      <td>0</td>\n",
       "      <td>1</td>\n",
       "      <td>1</td>\n",
       "      <td>1</td>\n",
       "      <td>0.000000</td>\n",
       "      <td>0.000000</td>\n",
       "    </tr>\n",
       "    <tr>\n",
       "      <th>3</th>\n",
       "      <td>3</td>\n",
       "      <td>63</td>\n",
       "      <td>2008</td>\n",
       "      <td>Mumbai</td>\n",
       "      <td>MI</td>\n",
       "      <td>RCB</td>\n",
       "      <td>1</td>\n",
       "      <td>MI</td>\n",
       "      <td>0</td>\n",
       "      <td>MI</td>\n",
       "      <td>...</td>\n",
       "      <td>bat</td>\n",
       "      <td>normal</td>\n",
       "      <td>RCB</td>\n",
       "      <td>0</td>\n",
       "      <td>0</td>\n",
       "      <td>1</td>\n",
       "      <td>1</td>\n",
       "      <td>0</td>\n",
       "      <td>0.000000</td>\n",
       "      <td>0.000000</td>\n",
       "    </tr>\n",
       "    <tr>\n",
       "      <th>4</th>\n",
       "      <td>4</td>\n",
       "      <td>64</td>\n",
       "      <td>2008</td>\n",
       "      <td>Kolkata</td>\n",
       "      <td>KKR</td>\n",
       "      <td>KKR</td>\n",
       "      <td>1</td>\n",
       "      <td>SRH</td>\n",
       "      <td>0</td>\n",
       "      <td>SRH</td>\n",
       "      <td>...</td>\n",
       "      <td>bat</td>\n",
       "      <td>normal</td>\n",
       "      <td>KKR</td>\n",
       "      <td>0</td>\n",
       "      <td>0</td>\n",
       "      <td>1</td>\n",
       "      <td>1</td>\n",
       "      <td>1</td>\n",
       "      <td>1.000000</td>\n",
       "      <td>0.000000</td>\n",
       "    </tr>\n",
       "    <tr>\n",
       "      <th>...</th>\n",
       "      <td>...</td>\n",
       "      <td>...</td>\n",
       "      <td>...</td>\n",
       "      <td>...</td>\n",
       "      <td>...</td>\n",
       "      <td>...</td>\n",
       "      <td>...</td>\n",
       "      <td>...</td>\n",
       "      <td>...</td>\n",
       "      <td>...</td>\n",
       "      <td>...</td>\n",
       "      <td>...</td>\n",
       "      <td>...</td>\n",
       "      <td>...</td>\n",
       "      <td>...</td>\n",
       "      <td>...</td>\n",
       "      <td>...</td>\n",
       "      <td>...</td>\n",
       "      <td>...</td>\n",
       "      <td>...</td>\n",
       "      <td>...</td>\n",
       "    </tr>\n",
       "    <tr>\n",
       "      <th>742</th>\n",
       "      <td>742</td>\n",
       "      <td>11346</td>\n",
       "      <td>2019</td>\n",
       "      <td>Mohali</td>\n",
       "      <td>KXIP</td>\n",
       "      <td>CSK</td>\n",
       "      <td>1</td>\n",
       "      <td>KXIP</td>\n",
       "      <td>0</td>\n",
       "      <td>KXIP</td>\n",
       "      <td>...</td>\n",
       "      <td>field</td>\n",
       "      <td>normal</td>\n",
       "      <td>KXIP</td>\n",
       "      <td>0</td>\n",
       "      <td>0</td>\n",
       "      <td>0</td>\n",
       "      <td>0</td>\n",
       "      <td>0</td>\n",
       "      <td>0.622642</td>\n",
       "      <td>0.465517</td>\n",
       "    </tr>\n",
       "    <tr>\n",
       "      <th>743</th>\n",
       "      <td>743</td>\n",
       "      <td>11347</td>\n",
       "      <td>2019</td>\n",
       "      <td>Mumbai</td>\n",
       "      <td>MI</td>\n",
       "      <td>KKR</td>\n",
       "      <td>1</td>\n",
       "      <td>MI</td>\n",
       "      <td>0</td>\n",
       "      <td>MI</td>\n",
       "      <td>...</td>\n",
       "      <td>field</td>\n",
       "      <td>normal</td>\n",
       "      <td>MI</td>\n",
       "      <td>0</td>\n",
       "      <td>0</td>\n",
       "      <td>0</td>\n",
       "      <td>0</td>\n",
       "      <td>0</td>\n",
       "      <td>0.519774</td>\n",
       "      <td>0.576087</td>\n",
       "    </tr>\n",
       "    <tr>\n",
       "      <th>744</th>\n",
       "      <td>744</td>\n",
       "      <td>11412</td>\n",
       "      <td>2019</td>\n",
       "      <td>Chennai</td>\n",
       "      <td>CSK</td>\n",
       "      <td>CSK</td>\n",
       "      <td>1</td>\n",
       "      <td>MI</td>\n",
       "      <td>0</td>\n",
       "      <td>CSK</td>\n",
       "      <td>...</td>\n",
       "      <td>bat</td>\n",
       "      <td>normal</td>\n",
       "      <td>MI</td>\n",
       "      <td>0</td>\n",
       "      <td>1</td>\n",
       "      <td>0</td>\n",
       "      <td>1</td>\n",
       "      <td>1</td>\n",
       "      <td>0.618750</td>\n",
       "      <td>0.578378</td>\n",
       "    </tr>\n",
       "    <tr>\n",
       "      <th>745</th>\n",
       "      <td>745</td>\n",
       "      <td>11413</td>\n",
       "      <td>2019</td>\n",
       "      <td>Visakhapatnam</td>\n",
       "      <td>Visakhapatnam</td>\n",
       "      <td>SRH</td>\n",
       "      <td>1</td>\n",
       "      <td>DD</td>\n",
       "      <td>0</td>\n",
       "      <td>DD</td>\n",
       "      <td>...</td>\n",
       "      <td>field</td>\n",
       "      <td>normal</td>\n",
       "      <td>DD</td>\n",
       "      <td>0</td>\n",
       "      <td>0</td>\n",
       "      <td>0</td>\n",
       "      <td>0</td>\n",
       "      <td>2</td>\n",
       "      <td>0.478022</td>\n",
       "      <td>0.432749</td>\n",
       "    </tr>\n",
       "    <tr>\n",
       "      <th>746</th>\n",
       "      <td>746</td>\n",
       "      <td>11414</td>\n",
       "      <td>2019</td>\n",
       "      <td>Visakhapatnam</td>\n",
       "      <td>Visakhapatnam</td>\n",
       "      <td>DD</td>\n",
       "      <td>1</td>\n",
       "      <td>CSK</td>\n",
       "      <td>0</td>\n",
       "      <td>CSK</td>\n",
       "      <td>...</td>\n",
       "      <td>field</td>\n",
       "      <td>normal</td>\n",
       "      <td>CSK</td>\n",
       "      <td>0</td>\n",
       "      <td>0</td>\n",
       "      <td>0</td>\n",
       "      <td>0</td>\n",
       "      <td>2</td>\n",
       "      <td>0.436047</td>\n",
       "      <td>0.614907</td>\n",
       "    </tr>\n",
       "  </tbody>\n",
       "</table>\n",
       "<p>747 rows × 24 columns</p>\n",
       "</div>"
      ],
      "text/plain": [
       "     Unnamed: 0     ID  SEASON           CITY CITY_Corrrected TEAM1  \\\n",
       "0             0     60    2008      Bangalore             RCB   KKR   \n",
       "1             1     61    2008     Chandigarh            KXIP   CSK   \n",
       "2             2     62    2008          Delhi              DD    DD   \n",
       "3             3     63    2008         Mumbai              MI   RCB   \n",
       "4             4     64    2008        Kolkata             KKR   KKR   \n",
       "..          ...    ...     ...            ...             ...   ...   \n",
       "742         742  11346    2019         Mohali            KXIP   CSK   \n",
       "743         743  11347    2019         Mumbai              MI   KKR   \n",
       "744         744  11412    2019        Chennai             CSK   CSK   \n",
       "745         745  11413    2019  Visakhapatnam   Visakhapatnam   SRH   \n",
       "746         746  11414    2019  Visakhapatnam   Visakhapatnam    DD   \n",
       "\n",
       "     TEAM1_MODEL TEAM2  TEAM2_MODEL TOSS_WINNER  ...  TOSS_DECISION  RESULT  \\\n",
       "0              1   RCB            0         RCB  ...          field  normal   \n",
       "1              1  KXIP            0         CSK  ...            bat  normal   \n",
       "2              1    RR            0          RR  ...            bat  normal   \n",
       "3              1    MI            0          MI  ...            bat  normal   \n",
       "4              1   SRH            0         SRH  ...            bat  normal   \n",
       "..           ...   ...          ...         ...  ...            ...     ...   \n",
       "742            1  KXIP            0        KXIP  ...          field  normal   \n",
       "743            1    MI            0          MI  ...          field  normal   \n",
       "744            1    MI            0         CSK  ...            bat  normal   \n",
       "745            1    DD            0          DD  ...          field  normal   \n",
       "746            1   CSK            0         CSK  ...          field  normal   \n",
       "\n",
       "     WINNER  WIN_BY_RUNS TOSS_WINNER_MODEL WINNER_MODEL TOSS_DECISION_MODEL  \\\n",
       "0       KKR          140                 0            1                   0   \n",
       "1       CSK           33                 1            1                   1   \n",
       "2        DD            0                 0            1                   1   \n",
       "3       RCB            0                 0            1                   1   \n",
       "4       KKR            0                 0            1                   1   \n",
       "..      ...          ...               ...          ...                 ...   \n",
       "742    KXIP            0                 0            0                   0   \n",
       "743      MI            0                 0            0                   0   \n",
       "744      MI            0                 1            0                   1   \n",
       "745      DD            0                 0            0                   0   \n",
       "746     CSK            0                 0            0                   0   \n",
       "\n",
       "     CITY_MODEL  WIN_RATE_TEAM1  WIN_RATE_TEAM2  \n",
       "0             0        0.000000        0.000000  \n",
       "1             0        0.000000        0.000000  \n",
       "2             1        0.000000        0.000000  \n",
       "3             0        0.000000        0.000000  \n",
       "4             1        1.000000        0.000000  \n",
       "..          ...             ...             ...  \n",
       "742           0        0.622642        0.465517  \n",
       "743           0        0.519774        0.576087  \n",
       "744           1        0.618750        0.578378  \n",
       "745           2        0.478022        0.432749  \n",
       "746           2        0.436047        0.614907  \n",
       "\n",
       "[747 rows x 24 columns]"
      ]
     },
     "execution_count": 2,
     "metadata": {},
     "output_type": "execute_result"
    }
   ],
   "source": [
    "df = pd.read_csv(\"verify_data_v2.csv\")\n",
    "df"
   ]
  },
  {
   "cell_type": "code",
   "execution_count": 3,
   "metadata": {},
   "outputs": [
    {
     "data": {
      "text/html": [
       "<div>\n",
       "<style scoped>\n",
       "    .dataframe tbody tr th:only-of-type {\n",
       "        vertical-align: middle;\n",
       "    }\n",
       "\n",
       "    .dataframe tbody tr th {\n",
       "        vertical-align: top;\n",
       "    }\n",
       "\n",
       "    .dataframe thead th {\n",
       "        text-align: right;\n",
       "    }\n",
       "</style>\n",
       "<table border=\"1\" class=\"dataframe\">\n",
       "  <thead>\n",
       "    <tr style=\"text-align: right;\">\n",
       "      <th></th>\n",
       "      <th>TEAM1_MODEL</th>\n",
       "      <th>TEAM2_MODEL</th>\n",
       "      <th>TEAM1_STRENGTH</th>\n",
       "      <th>TEAM1_CUMU_STRENGTH</th>\n",
       "      <th>TEAM2_STRENGTH</th>\n",
       "      <th>TEAM2_CUMU_STRENGTH</th>\n",
       "      <th>RESULT</th>\n",
       "      <th>TOSS_WINNER_MODEL</th>\n",
       "      <th>WINNER_MODEL</th>\n",
       "      <th>TOSS_DECISION_MODEL</th>\n",
       "      <th>CITY_MODEL</th>\n",
       "      <th>WIN_RATE_TEAM1</th>\n",
       "      <th>WIN_RATE_TEAM2</th>\n",
       "    </tr>\n",
       "  </thead>\n",
       "  <tbody>\n",
       "    <tr>\n",
       "      <th>0</th>\n",
       "      <td>1</td>\n",
       "      <td>0</td>\n",
       "      <td>260.615385</td>\n",
       "      <td>221.184732</td>\n",
       "      <td>226.714286</td>\n",
       "      <td>279.914873</td>\n",
       "      <td>normal</td>\n",
       "      <td>0</td>\n",
       "      <td>1</td>\n",
       "      <td>0</td>\n",
       "      <td>0</td>\n",
       "      <td>0.000000</td>\n",
       "      <td>0.000000</td>\n",
       "    </tr>\n",
       "    <tr>\n",
       "      <th>1</th>\n",
       "      <td>1</td>\n",
       "      <td>0</td>\n",
       "      <td>276.687500</td>\n",
       "      <td>258.815972</td>\n",
       "      <td>311.466667</td>\n",
       "      <td>229.620875</td>\n",
       "      <td>normal</td>\n",
       "      <td>1</td>\n",
       "      <td>1</td>\n",
       "      <td>1</td>\n",
       "      <td>0</td>\n",
       "      <td>0.000000</td>\n",
       "      <td>0.000000</td>\n",
       "    </tr>\n",
       "    <tr>\n",
       "      <th>2</th>\n",
       "      <td>1</td>\n",
       "      <td>0</td>\n",
       "      <td>300.785714</td>\n",
       "      <td>301.876082</td>\n",
       "      <td>341.562500</td>\n",
       "      <td>248.544305</td>\n",
       "      <td>normal</td>\n",
       "      <td>0</td>\n",
       "      <td>1</td>\n",
       "      <td>1</td>\n",
       "      <td>1</td>\n",
       "      <td>0.000000</td>\n",
       "      <td>0.000000</td>\n",
       "    </tr>\n",
       "    <tr>\n",
       "      <th>3</th>\n",
       "      <td>1</td>\n",
       "      <td>0</td>\n",
       "      <td>226.714286</td>\n",
       "      <td>279.914873</td>\n",
       "      <td>289.785714</td>\n",
       "      <td>333.847403</td>\n",
       "      <td>normal</td>\n",
       "      <td>0</td>\n",
       "      <td>1</td>\n",
       "      <td>1</td>\n",
       "      <td>0</td>\n",
       "      <td>0.000000</td>\n",
       "      <td>0.000000</td>\n",
       "    </tr>\n",
       "    <tr>\n",
       "      <th>4</th>\n",
       "      <td>1</td>\n",
       "      <td>0</td>\n",
       "      <td>260.615385</td>\n",
       "      <td>221.184732</td>\n",
       "      <td>265.928571</td>\n",
       "      <td>248.200595</td>\n",
       "      <td>normal</td>\n",
       "      <td>0</td>\n",
       "      <td>1</td>\n",
       "      <td>1</td>\n",
       "      <td>1</td>\n",
       "      <td>1.000000</td>\n",
       "      <td>0.000000</td>\n",
       "    </tr>\n",
       "    <tr>\n",
       "      <th>...</th>\n",
       "      <td>...</td>\n",
       "      <td>...</td>\n",
       "      <td>...</td>\n",
       "      <td>...</td>\n",
       "      <td>...</td>\n",
       "      <td>...</td>\n",
       "      <td>...</td>\n",
       "      <td>...</td>\n",
       "      <td>...</td>\n",
       "      <td>...</td>\n",
       "      <td>...</td>\n",
       "      <td>...</td>\n",
       "      <td>...</td>\n",
       "    </tr>\n",
       "    <tr>\n",
       "      <th>742</th>\n",
       "      <td>1</td>\n",
       "      <td>0</td>\n",
       "      <td>331.588235</td>\n",
       "      <td>305.500955</td>\n",
       "      <td>308.142857</td>\n",
       "      <td>257.462276</td>\n",
       "      <td>normal</td>\n",
       "      <td>0</td>\n",
       "      <td>0</td>\n",
       "      <td>0</td>\n",
       "      <td>0</td>\n",
       "      <td>0.622642</td>\n",
       "      <td>0.465517</td>\n",
       "    </tr>\n",
       "    <tr>\n",
       "      <th>743</th>\n",
       "      <td>1</td>\n",
       "      <td>0</td>\n",
       "      <td>309.357143</td>\n",
       "      <td>287.215136</td>\n",
       "      <td>333.875000</td>\n",
       "      <td>295.880335</td>\n",
       "      <td>normal</td>\n",
       "      <td>0</td>\n",
       "      <td>0</td>\n",
       "      <td>0</td>\n",
       "      <td>0</td>\n",
       "      <td>0.519774</td>\n",
       "      <td>0.576087</td>\n",
       "    </tr>\n",
       "    <tr>\n",
       "      <th>744</th>\n",
       "      <td>1</td>\n",
       "      <td>0</td>\n",
       "      <td>331.588235</td>\n",
       "      <td>305.500955</td>\n",
       "      <td>333.875000</td>\n",
       "      <td>295.880335</td>\n",
       "      <td>normal</td>\n",
       "      <td>1</td>\n",
       "      <td>0</td>\n",
       "      <td>1</td>\n",
       "      <td>1</td>\n",
       "      <td>0.618750</td>\n",
       "      <td>0.578378</td>\n",
       "    </tr>\n",
       "    <tr>\n",
       "      <th>745</th>\n",
       "      <td>1</td>\n",
       "      <td>0</td>\n",
       "      <td>320.400000</td>\n",
       "      <td>301.054683</td>\n",
       "      <td>328.312500</td>\n",
       "      <td>277.032292</td>\n",
       "      <td>normal</td>\n",
       "      <td>0</td>\n",
       "      <td>0</td>\n",
       "      <td>0</td>\n",
       "      <td>2</td>\n",
       "      <td>0.478022</td>\n",
       "      <td>0.432749</td>\n",
       "    </tr>\n",
       "    <tr>\n",
       "      <th>746</th>\n",
       "      <td>1</td>\n",
       "      <td>0</td>\n",
       "      <td>328.312500</td>\n",
       "      <td>277.032292</td>\n",
       "      <td>331.588235</td>\n",
       "      <td>305.500955</td>\n",
       "      <td>normal</td>\n",
       "      <td>0</td>\n",
       "      <td>0</td>\n",
       "      <td>0</td>\n",
       "      <td>2</td>\n",
       "      <td>0.436047</td>\n",
       "      <td>0.614907</td>\n",
       "    </tr>\n",
       "  </tbody>\n",
       "</table>\n",
       "<p>747 rows × 13 columns</p>\n",
       "</div>"
      ],
      "text/plain": [
       "     TEAM1_MODEL  TEAM2_MODEL  TEAM1_STRENGTH  TEAM1_CUMU_STRENGTH  \\\n",
       "0              1            0      260.615385           221.184732   \n",
       "1              1            0      276.687500           258.815972   \n",
       "2              1            0      300.785714           301.876082   \n",
       "3              1            0      226.714286           279.914873   \n",
       "4              1            0      260.615385           221.184732   \n",
       "..           ...          ...             ...                  ...   \n",
       "742            1            0      331.588235           305.500955   \n",
       "743            1            0      309.357143           287.215136   \n",
       "744            1            0      331.588235           305.500955   \n",
       "745            1            0      320.400000           301.054683   \n",
       "746            1            0      328.312500           277.032292   \n",
       "\n",
       "     TEAM2_STRENGTH  TEAM2_CUMU_STRENGTH  RESULT  TOSS_WINNER_MODEL  \\\n",
       "0        226.714286           279.914873  normal                  0   \n",
       "1        311.466667           229.620875  normal                  1   \n",
       "2        341.562500           248.544305  normal                  0   \n",
       "3        289.785714           333.847403  normal                  0   \n",
       "4        265.928571           248.200595  normal                  0   \n",
       "..              ...                  ...     ...                ...   \n",
       "742      308.142857           257.462276  normal                  0   \n",
       "743      333.875000           295.880335  normal                  0   \n",
       "744      333.875000           295.880335  normal                  1   \n",
       "745      328.312500           277.032292  normal                  0   \n",
       "746      331.588235           305.500955  normal                  0   \n",
       "\n",
       "     WINNER_MODEL  TOSS_DECISION_MODEL  CITY_MODEL  WIN_RATE_TEAM1  \\\n",
       "0               1                    0           0        0.000000   \n",
       "1               1                    1           0        0.000000   \n",
       "2               1                    1           1        0.000000   \n",
       "3               1                    1           0        0.000000   \n",
       "4               1                    1           1        1.000000   \n",
       "..            ...                  ...         ...             ...   \n",
       "742             0                    0           0        0.622642   \n",
       "743             0                    0           0        0.519774   \n",
       "744             0                    1           1        0.618750   \n",
       "745             0                    0           2        0.478022   \n",
       "746             0                    0           2        0.436047   \n",
       "\n",
       "     WIN_RATE_TEAM2  \n",
       "0          0.000000  \n",
       "1          0.000000  \n",
       "2          0.000000  \n",
       "3          0.000000  \n",
       "4          0.000000  \n",
       "..              ...  \n",
       "742        0.465517  \n",
       "743        0.576087  \n",
       "744        0.578378  \n",
       "745        0.432749  \n",
       "746        0.614907  \n",
       "\n",
       "[747 rows x 13 columns]"
      ]
     },
     "execution_count": 3,
     "metadata": {},
     "output_type": "execute_result"
    }
   ],
   "source": [
    "df.drop([\"Unnamed: 0\", \"ID\", \"TEAM1\", \"TEAM2\", \"CITY\", \"TOSS_DECISION\", \"WIN_BY_RUNS\", \"CITY_Corrrected\", \"TOSS_WINNER\", \"SEASON\", \"WINNER\"], axis=1, inplace=True)\n",
    "df"
   ]
  },
  {
   "cell_type": "code",
   "execution_count": 4,
   "metadata": {},
   "outputs": [
    {
     "data": {
      "text/html": [
       "<div>\n",
       "<style scoped>\n",
       "    .dataframe tbody tr th:only-of-type {\n",
       "        vertical-align: middle;\n",
       "    }\n",
       "\n",
       "    .dataframe tbody tr th {\n",
       "        vertical-align: top;\n",
       "    }\n",
       "\n",
       "    .dataframe thead th {\n",
       "        text-align: right;\n",
       "    }\n",
       "</style>\n",
       "<table border=\"1\" class=\"dataframe\">\n",
       "  <thead>\n",
       "    <tr style=\"text-align: right;\">\n",
       "      <th></th>\n",
       "      <th>TEAM1_MODEL</th>\n",
       "      <th>TEAM2_MODEL</th>\n",
       "      <th>TEAM1_STRENGTH</th>\n",
       "      <th>TEAM1_CUMU_STRENGTH</th>\n",
       "      <th>TEAM2_STRENGTH</th>\n",
       "      <th>TEAM2_CUMU_STRENGTH</th>\n",
       "      <th>RESULT</th>\n",
       "      <th>TOSS_WINNER_MODEL</th>\n",
       "      <th>WINNER_MODEL</th>\n",
       "      <th>TOSS_DECISION_MODEL</th>\n",
       "      <th>CITY_MODEL</th>\n",
       "      <th>WIN_RATE_TEAM1</th>\n",
       "      <th>WIN_RATE_TEAM2</th>\n",
       "    </tr>\n",
       "  </thead>\n",
       "  <tbody>\n",
       "    <tr>\n",
       "      <th>0</th>\n",
       "      <td>1</td>\n",
       "      <td>0</td>\n",
       "      <td>260.615385</td>\n",
       "      <td>221.184732</td>\n",
       "      <td>226.714286</td>\n",
       "      <td>279.914873</td>\n",
       "      <td>1</td>\n",
       "      <td>0</td>\n",
       "      <td>1</td>\n",
       "      <td>0</td>\n",
       "      <td>0</td>\n",
       "      <td>0.000000</td>\n",
       "      <td>0.000000</td>\n",
       "    </tr>\n",
       "    <tr>\n",
       "      <th>1</th>\n",
       "      <td>1</td>\n",
       "      <td>0</td>\n",
       "      <td>276.687500</td>\n",
       "      <td>258.815972</td>\n",
       "      <td>311.466667</td>\n",
       "      <td>229.620875</td>\n",
       "      <td>1</td>\n",
       "      <td>1</td>\n",
       "      <td>1</td>\n",
       "      <td>1</td>\n",
       "      <td>0</td>\n",
       "      <td>0.000000</td>\n",
       "      <td>0.000000</td>\n",
       "    </tr>\n",
       "    <tr>\n",
       "      <th>2</th>\n",
       "      <td>1</td>\n",
       "      <td>0</td>\n",
       "      <td>300.785714</td>\n",
       "      <td>301.876082</td>\n",
       "      <td>341.562500</td>\n",
       "      <td>248.544305</td>\n",
       "      <td>1</td>\n",
       "      <td>0</td>\n",
       "      <td>1</td>\n",
       "      <td>1</td>\n",
       "      <td>1</td>\n",
       "      <td>0.000000</td>\n",
       "      <td>0.000000</td>\n",
       "    </tr>\n",
       "    <tr>\n",
       "      <th>3</th>\n",
       "      <td>1</td>\n",
       "      <td>0</td>\n",
       "      <td>226.714286</td>\n",
       "      <td>279.914873</td>\n",
       "      <td>289.785714</td>\n",
       "      <td>333.847403</td>\n",
       "      <td>1</td>\n",
       "      <td>0</td>\n",
       "      <td>1</td>\n",
       "      <td>1</td>\n",
       "      <td>0</td>\n",
       "      <td>0.000000</td>\n",
       "      <td>0.000000</td>\n",
       "    </tr>\n",
       "    <tr>\n",
       "      <th>4</th>\n",
       "      <td>1</td>\n",
       "      <td>0</td>\n",
       "      <td>260.615385</td>\n",
       "      <td>221.184732</td>\n",
       "      <td>265.928571</td>\n",
       "      <td>248.200595</td>\n",
       "      <td>1</td>\n",
       "      <td>0</td>\n",
       "      <td>1</td>\n",
       "      <td>1</td>\n",
       "      <td>1</td>\n",
       "      <td>1.000000</td>\n",
       "      <td>0.000000</td>\n",
       "    </tr>\n",
       "    <tr>\n",
       "      <th>...</th>\n",
       "      <td>...</td>\n",
       "      <td>...</td>\n",
       "      <td>...</td>\n",
       "      <td>...</td>\n",
       "      <td>...</td>\n",
       "      <td>...</td>\n",
       "      <td>...</td>\n",
       "      <td>...</td>\n",
       "      <td>...</td>\n",
       "      <td>...</td>\n",
       "      <td>...</td>\n",
       "      <td>...</td>\n",
       "      <td>...</td>\n",
       "    </tr>\n",
       "    <tr>\n",
       "      <th>742</th>\n",
       "      <td>1</td>\n",
       "      <td>0</td>\n",
       "      <td>331.588235</td>\n",
       "      <td>305.500955</td>\n",
       "      <td>308.142857</td>\n",
       "      <td>257.462276</td>\n",
       "      <td>1</td>\n",
       "      <td>0</td>\n",
       "      <td>0</td>\n",
       "      <td>0</td>\n",
       "      <td>0</td>\n",
       "      <td>0.622642</td>\n",
       "      <td>0.465517</td>\n",
       "    </tr>\n",
       "    <tr>\n",
       "      <th>743</th>\n",
       "      <td>1</td>\n",
       "      <td>0</td>\n",
       "      <td>309.357143</td>\n",
       "      <td>287.215136</td>\n",
       "      <td>333.875000</td>\n",
       "      <td>295.880335</td>\n",
       "      <td>1</td>\n",
       "      <td>0</td>\n",
       "      <td>0</td>\n",
       "      <td>0</td>\n",
       "      <td>0</td>\n",
       "      <td>0.519774</td>\n",
       "      <td>0.576087</td>\n",
       "    </tr>\n",
       "    <tr>\n",
       "      <th>744</th>\n",
       "      <td>1</td>\n",
       "      <td>0</td>\n",
       "      <td>331.588235</td>\n",
       "      <td>305.500955</td>\n",
       "      <td>333.875000</td>\n",
       "      <td>295.880335</td>\n",
       "      <td>1</td>\n",
       "      <td>1</td>\n",
       "      <td>0</td>\n",
       "      <td>1</td>\n",
       "      <td>1</td>\n",
       "      <td>0.618750</td>\n",
       "      <td>0.578378</td>\n",
       "    </tr>\n",
       "    <tr>\n",
       "      <th>745</th>\n",
       "      <td>1</td>\n",
       "      <td>0</td>\n",
       "      <td>320.400000</td>\n",
       "      <td>301.054683</td>\n",
       "      <td>328.312500</td>\n",
       "      <td>277.032292</td>\n",
       "      <td>1</td>\n",
       "      <td>0</td>\n",
       "      <td>0</td>\n",
       "      <td>0</td>\n",
       "      <td>2</td>\n",
       "      <td>0.478022</td>\n",
       "      <td>0.432749</td>\n",
       "    </tr>\n",
       "    <tr>\n",
       "      <th>746</th>\n",
       "      <td>1</td>\n",
       "      <td>0</td>\n",
       "      <td>328.312500</td>\n",
       "      <td>277.032292</td>\n",
       "      <td>331.588235</td>\n",
       "      <td>305.500955</td>\n",
       "      <td>1</td>\n",
       "      <td>0</td>\n",
       "      <td>0</td>\n",
       "      <td>0</td>\n",
       "      <td>2</td>\n",
       "      <td>0.436047</td>\n",
       "      <td>0.614907</td>\n",
       "    </tr>\n",
       "  </tbody>\n",
       "</table>\n",
       "<p>747 rows × 13 columns</p>\n",
       "</div>"
      ],
      "text/plain": [
       "     TEAM1_MODEL  TEAM2_MODEL  TEAM1_STRENGTH  TEAM1_CUMU_STRENGTH  \\\n",
       "0              1            0      260.615385           221.184732   \n",
       "1              1            0      276.687500           258.815972   \n",
       "2              1            0      300.785714           301.876082   \n",
       "3              1            0      226.714286           279.914873   \n",
       "4              1            0      260.615385           221.184732   \n",
       "..           ...          ...             ...                  ...   \n",
       "742            1            0      331.588235           305.500955   \n",
       "743            1            0      309.357143           287.215136   \n",
       "744            1            0      331.588235           305.500955   \n",
       "745            1            0      320.400000           301.054683   \n",
       "746            1            0      328.312500           277.032292   \n",
       "\n",
       "     TEAM2_STRENGTH  TEAM2_CUMU_STRENGTH  RESULT  TOSS_WINNER_MODEL  \\\n",
       "0        226.714286           279.914873       1                  0   \n",
       "1        311.466667           229.620875       1                  1   \n",
       "2        341.562500           248.544305       1                  0   \n",
       "3        289.785714           333.847403       1                  0   \n",
       "4        265.928571           248.200595       1                  0   \n",
       "..              ...                  ...     ...                ...   \n",
       "742      308.142857           257.462276       1                  0   \n",
       "743      333.875000           295.880335       1                  0   \n",
       "744      333.875000           295.880335       1                  1   \n",
       "745      328.312500           277.032292       1                  0   \n",
       "746      331.588235           305.500955       1                  0   \n",
       "\n",
       "     WINNER_MODEL  TOSS_DECISION_MODEL  CITY_MODEL  WIN_RATE_TEAM1  \\\n",
       "0               1                    0           0        0.000000   \n",
       "1               1                    1           0        0.000000   \n",
       "2               1                    1           1        0.000000   \n",
       "3               1                    1           0        0.000000   \n",
       "4               1                    1           1        1.000000   \n",
       "..            ...                  ...         ...             ...   \n",
       "742             0                    0           0        0.622642   \n",
       "743             0                    0           0        0.519774   \n",
       "744             0                    1           1        0.618750   \n",
       "745             0                    0           2        0.478022   \n",
       "746             0                    0           2        0.436047   \n",
       "\n",
       "     WIN_RATE_TEAM2  \n",
       "0          0.000000  \n",
       "1          0.000000  \n",
       "2          0.000000  \n",
       "3          0.000000  \n",
       "4          0.000000  \n",
       "..              ...  \n",
       "742        0.465517  \n",
       "743        0.576087  \n",
       "744        0.578378  \n",
       "745        0.432749  \n",
       "746        0.614907  \n",
       "\n",
       "[747 rows x 13 columns]"
      ]
     },
     "execution_count": 4,
     "metadata": {},
     "output_type": "execute_result"
    }
   ],
   "source": [
    "df['RESULT'] = df['RESULT'].map({'normal': 1, 'tie': 0})\n",
    "df"
   ]
  },
  {
   "cell_type": "code",
   "execution_count": 5,
   "metadata": {},
   "outputs": [],
   "source": [
    "X = df.drop(\"WINNER_MODEL\", axis=1)\n",
    "y = df[\"WINNER_MODEL\"]"
   ]
  },
  {
   "cell_type": "code",
   "execution_count": 6,
   "metadata": {},
   "outputs": [],
   "source": [
    "from sklearn.model_selection import train_test_split\n",
    "X_train, X_test, y_train, y_test = train_test_split(X,\n",
    "                                                    y,\n",
    "                                                    test_size=0.2,\n",
    "                                                    random_state=12)"
   ]
  },
  {
   "cell_type": "markdown",
   "metadata": {},
   "source": [
    "# Naive Bayes"
   ]
  },
  {
   "cell_type": "code",
   "execution_count": 7,
   "metadata": {},
   "outputs": [
    {
     "data": {
      "text/plain": [
       "GaussianNB(priors=None, var_smoothing=1e-09)"
      ]
     },
     "execution_count": 7,
     "metadata": {},
     "output_type": "execute_result"
    }
   ],
   "source": [
    "clf1 = GaussianNB()\n",
    "clf1.fit(X_train, y_train)"
   ]
  },
  {
   "cell_type": "code",
   "execution_count": 8,
   "metadata": {},
   "outputs": [
    {
     "data": {
      "text/plain": [
       "0.644891122278057"
      ]
     },
     "execution_count": 8,
     "metadata": {},
     "output_type": "execute_result"
    }
   ],
   "source": [
    "clf1.score(X_train, y_train)"
   ]
  },
  {
   "cell_type": "code",
   "execution_count": 9,
   "metadata": {},
   "outputs": [
    {
     "data": {
      "text/plain": [
       "0.6"
      ]
     },
     "execution_count": 9,
     "metadata": {},
     "output_type": "execute_result"
    }
   ],
   "source": [
    "clf1.score(X_test, y_test)"
   ]
  },
  {
   "cell_type": "markdown",
   "metadata": {},
   "source": [
    "# Random Forest Classifier"
   ]
  },
  {
   "cell_type": "code",
   "execution_count": 10,
   "metadata": {},
   "outputs": [
    {
     "data": {
      "text/plain": [
       "RandomForestClassifier(bootstrap=True, ccp_alpha=0.0, class_weight=None,\n",
       "                       criterion='gini', max_depth=None, max_features='auto',\n",
       "                       max_leaf_nodes=None, max_samples=None,\n",
       "                       min_impurity_decrease=0.0, min_impurity_split=None,\n",
       "                       min_samples_leaf=1, min_samples_split=2,\n",
       "                       min_weight_fraction_leaf=0.0, n_estimators=100,\n",
       "                       n_jobs=None, oob_score=False, random_state=None,\n",
       "                       verbose=0, warm_start=False)"
      ]
     },
     "execution_count": 10,
     "metadata": {},
     "output_type": "execute_result"
    }
   ],
   "source": [
    "clf2 = RandomForestClassifier()\n",
    "clf2.fit(X_train, y_train)"
   ]
  },
  {
   "cell_type": "code",
   "execution_count": 11,
   "metadata": {},
   "outputs": [
    {
     "data": {
      "text/plain": [
       "1.0"
      ]
     },
     "execution_count": 11,
     "metadata": {},
     "output_type": "execute_result"
    }
   ],
   "source": [
    "clf2.score(X_train, y_train)"
   ]
  },
  {
   "cell_type": "code",
   "execution_count": 12,
   "metadata": {},
   "outputs": [
    {
     "data": {
      "text/plain": [
       "0.54"
      ]
     },
     "execution_count": 12,
     "metadata": {},
     "output_type": "execute_result"
    }
   ],
   "source": [
    "clf2.score(X_test, y_test)"
   ]
  },
  {
   "cell_type": "markdown",
   "metadata": {},
   "source": [
    "# KNeighbors Classifier"
   ]
  },
  {
   "cell_type": "code",
   "execution_count": 13,
   "metadata": {},
   "outputs": [
    {
     "data": {
      "text/plain": [
       "KNeighborsClassifier(algorithm='auto', leaf_size=30, metric='minkowski',\n",
       "                     metric_params=None, n_jobs=None, n_neighbors=5, p=2,\n",
       "                     weights='uniform')"
      ]
     },
     "execution_count": 13,
     "metadata": {},
     "output_type": "execute_result"
    }
   ],
   "source": [
    "clf3 = KNeighborsClassifier()\n",
    "clf3.fit(X_train, y_train)"
   ]
  },
  {
   "cell_type": "code",
   "execution_count": 14,
   "metadata": {},
   "outputs": [
    {
     "data": {
      "text/plain": [
       "0.7269681742043551"
      ]
     },
     "execution_count": 14,
     "metadata": {},
     "output_type": "execute_result"
    }
   ],
   "source": [
    "clf3.score(X_train, y_train)"
   ]
  },
  {
   "cell_type": "code",
   "execution_count": 15,
   "metadata": {},
   "outputs": [
    {
     "data": {
      "text/plain": [
       "0.6133333333333333"
      ]
     },
     "execution_count": 15,
     "metadata": {},
     "output_type": "execute_result"
    }
   ],
   "source": [
    "clf3.score(X_test, y_test)"
   ]
  },
  {
   "cell_type": "markdown",
   "metadata": {},
   "source": [
    "# Logistic Regression"
   ]
  },
  {
   "cell_type": "code",
   "execution_count": 16,
   "metadata": {},
   "outputs": [
    {
     "name": "stderr",
     "output_type": "stream",
     "text": [
      "C:\\Users\\khand\\anaconda3\\lib\\site-packages\\sklearn\\linear_model\\_logistic.py:940: ConvergenceWarning: lbfgs failed to converge (status=1):\n",
      "STOP: TOTAL NO. of ITERATIONS REACHED LIMIT.\n",
      "\n",
      "Increase the number of iterations (max_iter) or scale the data as shown in:\n",
      "    https://scikit-learn.org/stable/modules/preprocessing.html\n",
      "Please also refer to the documentation for alternative solver options:\n",
      "    https://scikit-learn.org/stable/modules/linear_model.html#logistic-regression\n",
      "  extra_warning_msg=_LOGISTIC_SOLVER_CONVERGENCE_MSG)\n"
     ]
    },
    {
     "data": {
      "text/plain": [
       "LogisticRegression(C=1.0, class_weight=None, dual=False, fit_intercept=True,\n",
       "                   intercept_scaling=1, l1_ratio=None, max_iter=100,\n",
       "                   multi_class='auto', n_jobs=None, penalty='l2',\n",
       "                   random_state=None, solver='lbfgs', tol=0.0001, verbose=0,\n",
       "                   warm_start=False)"
      ]
     },
     "execution_count": 16,
     "metadata": {},
     "output_type": "execute_result"
    }
   ],
   "source": [
    "clf4 = LogisticRegression()\n",
    "clf4.fit(X_train, y_train)"
   ]
  },
  {
   "cell_type": "code",
   "execution_count": 17,
   "metadata": {},
   "outputs": [
    {
     "data": {
      "text/plain": [
       "0.6314907872696818"
      ]
     },
     "execution_count": 17,
     "metadata": {},
     "output_type": "execute_result"
    }
   ],
   "source": [
    "clf4.score(X_train, y_train)"
   ]
  },
  {
   "cell_type": "code",
   "execution_count": 18,
   "metadata": {},
   "outputs": [
    {
     "data": {
      "text/plain": [
       "0.5866666666666667"
      ]
     },
     "execution_count": 18,
     "metadata": {},
     "output_type": "execute_result"
    }
   ],
   "source": [
    "clf4.score(X_test, y_test)"
   ]
  },
  {
   "cell_type": "markdown",
   "metadata": {},
   "source": [
    "## Hyperparameter tuning on RFC"
   ]
  },
  {
   "cell_type": "code",
   "execution_count": 19,
   "metadata": {},
   "outputs": [],
   "source": [
    "# Create a hyperparameter grid for RandomForestClassifier\n",
    "rf_grid = {\"n_estimators\": np.arange(10, 1000, 20),\n",
    "           \"max_depth\": [None, 3, 5, 10, 15, 20],\n",
    "           \"min_samples_split\": np.arange(2, 20, 2),\n",
    "           \"min_samples_leaf\": np.arange(1, 20, 2)}"
   ]
  },
  {
   "cell_type": "code",
   "execution_count": 20,
   "metadata": {},
   "outputs": [
    {
     "name": "stdout",
     "output_type": "stream",
     "text": [
      "Fitting 5 folds for each of 100 candidates, totalling 500 fits\n"
     ]
    },
    {
     "name": "stderr",
     "output_type": "stream",
     "text": [
      "[Parallel(n_jobs=-1)]: Using backend LokyBackend with 8 concurrent workers.\n",
      "[Parallel(n_jobs=-1)]: Done  34 tasks      | elapsed:    6.8s\n",
      "[Parallel(n_jobs=-1)]: Done 184 tasks      | elapsed:   30.5s\n",
      "[Parallel(n_jobs=-1)]: Done 434 tasks      | elapsed:  1.5min\n",
      "[Parallel(n_jobs=-1)]: Done 500 out of 500 | elapsed:  1.7min finished\n"
     ]
    },
    {
     "data": {
      "text/plain": [
       "RandomizedSearchCV(cv=5, error_score=nan,\n",
       "                   estimator=RandomForestClassifier(bootstrap=True,\n",
       "                                                    ccp_alpha=0.0,\n",
       "                                                    class_weight=None,\n",
       "                                                    criterion='gini',\n",
       "                                                    max_depth=None,\n",
       "                                                    max_features='auto',\n",
       "                                                    max_leaf_nodes=None,\n",
       "                                                    max_samples=None,\n",
       "                                                    min_impurity_decrease=0.0,\n",
       "                                                    min_impurity_split=None,\n",
       "                                                    min_samples_leaf=1,\n",
       "                                                    min_samples_split=2,\n",
       "                                                    min_weight_fraction_leaf=0.0,\n",
       "                                                    n_estimators=100,\n",
       "                                                    n_jobs...\n",
       "                                        'min_samples_split': array([ 2,  4,  6,  8, 10, 12, 14, 16, 18]),\n",
       "                                        'n_estimators': array([ 10,  30,  50,  70,  90, 110, 130, 150, 170, 190, 210, 230, 250,\n",
       "       270, 290, 310, 330, 350, 370, 390, 410, 430, 450, 470, 490, 510,\n",
       "       530, 550, 570, 590, 610, 630, 650, 670, 690, 710, 730, 750, 770,\n",
       "       790, 810, 830, 850, 870, 890, 910, 930, 950, 970, 990])},\n",
       "                   pre_dispatch='2*n_jobs', random_state=None, refit=True,\n",
       "                   return_train_score=False, scoring=None, verbose=True)"
      ]
     },
     "execution_count": 20,
     "metadata": {},
     "output_type": "execute_result"
    }
   ],
   "source": [
    "# Setup random seed\n",
    "np.random.seed(12)\n",
    "\n",
    "# Setup random hyperparameter search for RandomForestClassifier\n",
    "rs_rf = RandomizedSearchCV(RandomForestClassifier(),\n",
    "                           param_distributions=rf_grid,\n",
    "                           cv=5,\n",
    "                           n_iter=100,\n",
    "                           verbose=True,\n",
    "                           n_jobs=-1)\n",
    "\n",
    "# Fit the random hyperparameter search model for RandomForestClassifier()\n",
    "rs_rf.fit(X_train, y_train)"
   ]
  },
  {
   "cell_type": "code",
   "execution_count": 21,
   "metadata": {},
   "outputs": [
    {
     "data": {
      "text/plain": [
       "{'n_estimators': 970,\n",
       " 'min_samples_split': 14,\n",
       " 'min_samples_leaf': 1,\n",
       " 'max_depth': 3}"
      ]
     },
     "execution_count": 21,
     "metadata": {},
     "output_type": "execute_result"
    }
   ],
   "source": [
    "rs_rf.best_params_"
   ]
  },
  {
   "cell_type": "code",
   "execution_count": 23,
   "metadata": {},
   "outputs": [
    {
     "data": {
      "text/plain": [
       "0.7085427135678392"
      ]
     },
     "execution_count": 23,
     "metadata": {},
     "output_type": "execute_result"
    }
   ],
   "source": [
    "rs_rf.score(X_train, y_train)"
   ]
  },
  {
   "cell_type": "code",
   "execution_count": 24,
   "metadata": {},
   "outputs": [
    {
     "data": {
      "text/plain": [
       "0.58"
      ]
     },
     "execution_count": 24,
     "metadata": {},
     "output_type": "execute_result"
    }
   ],
   "source": [
    "rs_rf.score(X_test, y_test)"
   ]
  },
  {
   "cell_type": "code",
   "execution_count": 27,
   "metadata": {},
   "outputs": [
    {
     "name": "stdout",
     "output_type": "stream",
     "text": [
      "Fitting 5 folds for each of 840 candidates, totalling 4200 fits\n"
     ]
    },
    {
     "name": "stderr",
     "output_type": "stream",
     "text": [
      "[Parallel(n_jobs=-1)]: Using backend LokyBackend with 8 concurrent workers.\n",
      "[Parallel(n_jobs=-1)]: Done  34 tasks      | elapsed:   15.9s\n",
      "[Parallel(n_jobs=-1)]: Done 184 tasks      | elapsed:  1.4min\n",
      "[Parallel(n_jobs=-1)]: Done 434 tasks      | elapsed:  3.4min\n",
      "[Parallel(n_jobs=-1)]: Done 784 tasks      | elapsed:  6.1min\n",
      "[Parallel(n_jobs=-1)]: Done 1234 tasks      | elapsed:  9.2min\n",
      "[Parallel(n_jobs=-1)]: Done 1784 tasks      | elapsed: 13.2min\n",
      "[Parallel(n_jobs=-1)]: Done 2434 tasks      | elapsed: 18.2min\n",
      "[Parallel(n_jobs=-1)]: Done 3184 tasks      | elapsed: 24.5min\n",
      "[Parallel(n_jobs=-1)]: Done 4034 tasks      | elapsed: 31.3min\n",
      "[Parallel(n_jobs=-1)]: Done 4200 out of 4200 | elapsed: 33.2min finished\n"
     ]
    },
    {
     "data": {
      "text/plain": [
       "GridSearchCV(cv=5, error_score=nan,\n",
       "             estimator=RandomForestClassifier(bootstrap=True, ccp_alpha=0.0,\n",
       "                                              class_weight=None,\n",
       "                                              criterion='gini', max_depth=None,\n",
       "                                              max_features='auto',\n",
       "                                              max_leaf_nodes=None,\n",
       "                                              max_samples=None,\n",
       "                                              min_impurity_decrease=0.0,\n",
       "                                              min_impurity_split=None,\n",
       "                                              min_samples_leaf=1,\n",
       "                                              min_samples_split=2,\n",
       "                                              min_weight_fraction_leaf=0.0,\n",
       "                                              n_estimators=100, n_jobs=None,\n",
       "                                              oob_score=False,\n",
       "                                              random_state=None, verbose=0,\n",
       "                                              warm_start=False),\n",
       "             iid='deprecated', n_jobs=-1,\n",
       "             param_grid={'max_depth': [None, 3, 5, 8, 10, 12, 20],\n",
       "                         'min_samples_leaf': [1, 3, 5, 7, 9, 11],\n",
       "                         'min_samples_split': [12, 14, 16, 18],\n",
       "                         'n_estimators': array([900, 920, 940, 960, 980])},\n",
       "             pre_dispatch='2*n_jobs', refit=True, return_train_score=False,\n",
       "             scoring=None, verbose=True)"
      ]
     },
     "execution_count": 27,
     "metadata": {},
     "output_type": "execute_result"
    }
   ],
   "source": [
    "# Setup random seed\n",
    "np.random.seed(12)\n",
    "\n",
    "rf_gs_grid = {\"n_estimators\": np.arange(900, 1000, 20),\n",
    "           \"max_depth\": [None, 3, 5, 8, 10, 12, 20],\n",
    "           \"min_samples_split\": [12, 14, 16, 18],\n",
    "           \"min_samples_leaf\": [1, 3, 5, 7, 9, 11]}\n",
    "\n",
    "gs_rfc = GridSearchCV(RandomForestClassifier(),\n",
    "                          param_grid=rf_gs_grid,\n",
    "                          cv=5,\n",
    "                          verbose=True,\n",
    "                          n_jobs=-1)\n",
    "\n",
    "# Fit grid hyperparameter search model\n",
    "gs_rfc.fit(X_train, y_train)"
   ]
  },
  {
   "cell_type": "code",
   "execution_count": 28,
   "metadata": {},
   "outputs": [
    {
     "data": {
      "text/plain": [
       "{'max_depth': 3,\n",
       " 'min_samples_leaf': 7,\n",
       " 'min_samples_split': 14,\n",
       " 'n_estimators': 940}"
      ]
     },
     "execution_count": 28,
     "metadata": {},
     "output_type": "execute_result"
    }
   ],
   "source": [
    "gs_rfc.best_params_"
   ]
  },
  {
   "cell_type": "code",
   "execution_count": 29,
   "metadata": {},
   "outputs": [
    {
     "data": {
      "text/plain": [
       "0.7102177554438861"
      ]
     },
     "execution_count": 29,
     "metadata": {},
     "output_type": "execute_result"
    }
   ],
   "source": [
    "gs_rfc.score(X_train, y_train)"
   ]
  },
  {
   "cell_type": "code",
   "execution_count": 30,
   "metadata": {},
   "outputs": [
    {
     "data": {
      "text/plain": [
       "0.58"
      ]
     },
     "execution_count": 30,
     "metadata": {},
     "output_type": "execute_result"
    }
   ],
   "source": [
    "gs_rfc.score(X_test, y_test)"
   ]
  },
  {
   "cell_type": "markdown",
   "metadata": {},
   "source": [
    "## Hyperparameter tuning on LogisticRegression"
   ]
  },
  {
   "cell_type": "code",
   "execution_count": 31,
   "metadata": {},
   "outputs": [],
   "source": [
    "# Create a hyperparameter grid for LogisticRegression\n",
    "log_reg_grid = {\"C\": np.logspace(-4, 4, 20),\n",
    "                \"solver\": [\"liblinear\"]}"
   ]
  },
  {
   "cell_type": "code",
   "execution_count": 32,
   "metadata": {},
   "outputs": [
    {
     "name": "stdout",
     "output_type": "stream",
     "text": [
      "Fitting 5 folds for each of 20 candidates, totalling 100 fits\n"
     ]
    },
    {
     "name": "stderr",
     "output_type": "stream",
     "text": [
      "[Parallel(n_jobs=1)]: Using backend SequentialBackend with 1 concurrent workers.\n",
      "[Parallel(n_jobs=1)]: Done 100 out of 100 | elapsed:    0.3s finished\n"
     ]
    },
    {
     "data": {
      "text/plain": [
       "RandomizedSearchCV(cv=5, error_score=nan,\n",
       "                   estimator=LogisticRegression(C=1.0, class_weight=None,\n",
       "                                                dual=False, fit_intercept=True,\n",
       "                                                intercept_scaling=1,\n",
       "                                                l1_ratio=None, max_iter=100,\n",
       "                                                multi_class='auto', n_jobs=None,\n",
       "                                                penalty='l2', random_state=None,\n",
       "                                                solver='lbfgs', tol=0.0001,\n",
       "                                                verbose=0, warm_start=False),\n",
       "                   iid='deprecated', n_iter=20, n_jobs=None,\n",
       "                   param_distributions={'C':...\n",
       "       4.83293024e-03, 1.27427499e-02, 3.35981829e-02, 8.85866790e-02,\n",
       "       2.33572147e-01, 6.15848211e-01, 1.62377674e+00, 4.28133240e+00,\n",
       "       1.12883789e+01, 2.97635144e+01, 7.84759970e+01, 2.06913808e+02,\n",
       "       5.45559478e+02, 1.43844989e+03, 3.79269019e+03, 1.00000000e+04]),\n",
       "                                        'solver': ['liblinear']},\n",
       "                   pre_dispatch='2*n_jobs', random_state=None, refit=True,\n",
       "                   return_train_score=False, scoring=None, verbose=True)"
      ]
     },
     "execution_count": 32,
     "metadata": {},
     "output_type": "execute_result"
    }
   ],
   "source": [
    "# Tune LogisticRegression\n",
    "np.random.seed(12)\n",
    "\n",
    "# Setup random hyperparameeter search for LogisticRegression\n",
    "rs_log_reg = RandomizedSearchCV(LogisticRegression(),\n",
    "                                param_distributions=log_reg_grid,\n",
    "                                cv=5,\n",
    "                                n_iter=20,\n",
    "                                verbose=True)\n",
    "\n",
    "# Fit random hyperparameter search model for LogisticRegression\n",
    "rs_log_reg.fit(X_train, y_train)"
   ]
  },
  {
   "cell_type": "code",
   "execution_count": 33,
   "metadata": {},
   "outputs": [
    {
     "data": {
      "text/plain": [
       "{'solver': 'liblinear', 'C': 4.281332398719396}"
      ]
     },
     "execution_count": 33,
     "metadata": {},
     "output_type": "execute_result"
    }
   ],
   "source": [
    "rs_log_reg.best_params_"
   ]
  },
  {
   "cell_type": "code",
   "execution_count": 34,
   "metadata": {},
   "outputs": [
    {
     "data": {
      "text/plain": [
       "0.6348408710217756"
      ]
     },
     "execution_count": 34,
     "metadata": {},
     "output_type": "execute_result"
    }
   ],
   "source": [
    "rs_log_reg.score(X_train, y_train)"
   ]
  },
  {
   "cell_type": "code",
   "execution_count": 35,
   "metadata": {},
   "outputs": [
    {
     "data": {
      "text/plain": [
       "0.58"
      ]
     },
     "execution_count": 35,
     "metadata": {},
     "output_type": "execute_result"
    }
   ],
   "source": [
    "rs_log_reg.score(X_test, y_test)"
   ]
  },
  {
   "cell_type": "code",
   "execution_count": 36,
   "metadata": {},
   "outputs": [
    {
     "name": "stdout",
     "output_type": "stream",
     "text": [
      "Fitting 5 folds for each of 30 candidates, totalling 150 fits\n"
     ]
    },
    {
     "name": "stderr",
     "output_type": "stream",
     "text": [
      "[Parallel(n_jobs=1)]: Using backend SequentialBackend with 1 concurrent workers.\n",
      "[Parallel(n_jobs=1)]: Done 150 out of 150 | elapsed:    0.5s finished\n"
     ]
    },
    {
     "data": {
      "text/plain": [
       "GridSearchCV(cv=5, error_score=nan,\n",
       "             estimator=LogisticRegression(C=1.0, class_weight=None, dual=False,\n",
       "                                          fit_intercept=True,\n",
       "                                          intercept_scaling=1, l1_ratio=None,\n",
       "                                          max_iter=100, multi_class='auto',\n",
       "                                          n_jobs=None, penalty='l2',\n",
       "                                          random_state=None, solver='lbfgs',\n",
       "                                          tol=0.0001, verbose=0,\n",
       "                                          warm_start=False),\n",
       "             iid='deprecated', n_jobs=None,\n",
       "             param_grid={'C': array([1.00000000e-04, 1.8...\n",
       "       2.04335972e-01, 3.85662042e-01, 7.27895384e-01, 1.37382380e+00,\n",
       "       2.59294380e+00, 4.89390092e+00, 9.23670857e+00, 1.74332882e+01,\n",
       "       3.29034456e+01, 6.21016942e+01, 1.17210230e+02, 2.21221629e+02,\n",
       "       4.17531894e+02, 7.88046282e+02, 1.48735211e+03, 2.80721620e+03,\n",
       "       5.29831691e+03, 1.00000000e+04]),\n",
       "                         'solver': ['liblinear']},\n",
       "             pre_dispatch='2*n_jobs', refit=True, return_train_score=False,\n",
       "             scoring=None, verbose=True)"
      ]
     },
     "execution_count": 36,
     "metadata": {},
     "output_type": "execute_result"
    }
   ],
   "source": [
    "# Different hyperparameters for our LogisticRegression model\n",
    "log_reg_grid = {\"C\": np.logspace(-4, 4, 30),\n",
    "                \"solver\": [\"liblinear\"]}\n",
    "\n",
    "# Setup grid hyperparameter search for LogisticRegression\n",
    "gs_log_reg = GridSearchCV(LogisticRegression(),\n",
    "                          param_grid=log_reg_grid,\n",
    "                          cv=5,\n",
    "                          verbose=True)\n",
    "\n",
    "# Fit grid hyperparameter search model\n",
    "gs_log_reg.fit(X_train, y_train)"
   ]
  },
  {
   "cell_type": "code",
   "execution_count": 37,
   "metadata": {},
   "outputs": [
    {
     "data": {
      "text/plain": [
       "{'C': 4.893900918477489, 'solver': 'liblinear'}"
      ]
     },
     "execution_count": 37,
     "metadata": {},
     "output_type": "execute_result"
    }
   ],
   "source": [
    "gs_log_reg.best_params_"
   ]
  },
  {
   "cell_type": "code",
   "execution_count": 38,
   "metadata": {},
   "outputs": [
    {
     "data": {
      "text/plain": [
       "0.6314907872696818"
      ]
     },
     "execution_count": 38,
     "metadata": {},
     "output_type": "execute_result"
    }
   ],
   "source": [
    "gs_log_reg.score(X_train, y_train)"
   ]
  },
  {
   "cell_type": "code",
   "execution_count": 39,
   "metadata": {},
   "outputs": [
    {
     "data": {
      "text/plain": [
       "0.58"
      ]
     },
     "execution_count": 39,
     "metadata": {},
     "output_type": "execute_result"
    }
   ],
   "source": [
    "gs_log_reg.score(X_test, y_test)"
   ]
  },
  {
   "cell_type": "code",
   "execution_count": null,
   "metadata": {},
   "outputs": [],
   "source": []
  }
 ],
 "metadata": {
  "kernelspec": {
   "display_name": "Python 3",
   "language": "python",
   "name": "python3"
  },
  "language_info": {
   "codemirror_mode": {
    "name": "ipython",
    "version": 3
   },
   "file_extension": ".py",
   "mimetype": "text/x-python",
   "name": "python",
   "nbconvert_exporter": "python",
   "pygments_lexer": "ipython3",
   "version": "3.7.6"
  }
 },
 "nbformat": 4,
 "nbformat_minor": 4
}
