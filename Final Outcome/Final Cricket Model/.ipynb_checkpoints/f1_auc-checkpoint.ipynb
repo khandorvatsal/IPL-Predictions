{
 "cells": [
  {
   "cell_type": "code",
   "execution_count": null,
   "metadata": {},
   "outputs": [],
   "source": [
    "def performance_metrics(model,X,y):#pass the model with estimators\n",
    "    skf = RepeatedStratifiedKFold(n_splits=10, n_repeats=2 , random_state=827)\n",
    "    for _, index in skf.split(X,y):\n",
    "        X_train, y_train, X_test1, y_test1, X_test2, y_test2 = symmetric_splitting(X, y, \n",
    "                                                                                   #split_size = split_ratio, \n",
    "                                                                                   #random = rand_st, \n",
    "                                                                                   test_index = index )\n",
    "    model.fit(X_train,y_train)#fitting the model to the train data\n",
    "    pred_test1 = model.predict(X_test1)#getting the prediction using the data for the test1\n",
    "    print(\"The F1 score for the test1 is:\",sklearn.metrics.f1_score(y_test1,pred_test1))\n",
    "    print(\"The F1 score for the test1 is:\",sklearn.metrics.cohen_kappa_score(y_test1,pred_test1))\n",
    "    sklearn.metrics.plot_roc_curve(model,X_test1,pred_test1)"
   ]
  }
 ],
 "metadata": {
  "kernelspec": {
   "display_name": "Python 3",
   "language": "python",
   "name": "python3"
  },
  "language_info": {
   "codemirror_mode": {
    "name": "ipython",
    "version": 3
   },
   "file_extension": ".py",
   "mimetype": "text/x-python",
   "name": "python",
   "nbconvert_exporter": "python",
   "pygments_lexer": "ipython3",
   "version": "3.7.7"
  }
 },
 "nbformat": 4,
 "nbformat_minor": 4
}
