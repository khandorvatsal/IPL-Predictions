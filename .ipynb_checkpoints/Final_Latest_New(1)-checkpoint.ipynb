{
 "cells": [
  {
   "cell_type": "code",
   "execution_count": 1,
   "metadata": {},
   "outputs": [],
   "source": [
    "import pandas as pd\n",
    "import numpy as np\n",
    "import matplotlib.pyplot as plt\n",
    "import seaborn as sns\n",
    "import glob\n",
    "import scipy.stats as stats\n",
    "import numpy as np \n",
    "import pandas as pd\n",
    "import seaborn as sns\n",
    "import matplotlib.pyplot as plt"
   ]
  },
  {
   "cell_type": "markdown",
   "metadata": {},
   "source": [
    "# Reading the File"
   ]
  },
  {
   "cell_type": "markdown",
   "metadata": {},
   "source": [
    "### The below Data is scraped from the cricinfo and cleaned separately and dumped in this CSV"
   ]
  },
  {
   "cell_type": "code",
   "execution_count": 2,
   "metadata": {},
   "outputs": [],
   "source": [
    "match_data = pd.read_csv('Match Data.csv',index_col=0)"
   ]
  },
  {
   "cell_type": "code",
   "execution_count": 3,
   "metadata": {},
   "outputs": [
    {
     "data": {
      "text/html": [
       "<div>\n",
       "<style scoped>\n",
       "    .dataframe tbody tr th:only-of-type {\n",
       "        vertical-align: middle;\n",
       "    }\n",
       "\n",
       "    .dataframe tbody tr th {\n",
       "        vertical-align: top;\n",
       "    }\n",
       "\n",
       "    .dataframe thead th {\n",
       "        text-align: right;\n",
       "    }\n",
       "</style>\n",
       "<table border=\"1\" class=\"dataframe\">\n",
       "  <thead>\n",
       "    <tr style=\"text-align: right;\">\n",
       "      <th></th>\n",
       "      <th>ID</th>\n",
       "      <th>SEASON</th>\n",
       "      <th>CITY</th>\n",
       "      <th>CITY_Corrrected</th>\n",
       "      <th>TEAM1</th>\n",
       "      <th>TEAM1_MODEL</th>\n",
       "      <th>TEAM2</th>\n",
       "      <th>TEAM2_MODEL</th>\n",
       "      <th>TOSS_WINNER</th>\n",
       "      <th>TOSS_DECISION</th>\n",
       "      <th>RESULT</th>\n",
       "      <th>WINNER</th>\n",
       "      <th>WIN_BY_RUNS</th>\n",
       "      <th>TOSS_WINNER_MODEL</th>\n",
       "      <th>WINNER_MODEL</th>\n",
       "      <th>TOSS_DECISION_MODEL</th>\n",
       "      <th>CITY_MODEL</th>\n",
       "      <th>TEAM1_WIN_RATE</th>\n",
       "      <th>TEAM2_WIN_RATE</th>\n",
       "    </tr>\n",
       "  </thead>\n",
       "  <tbody>\n",
       "    <tr>\n",
       "      <th>0</th>\n",
       "      <td>60</td>\n",
       "      <td>2008</td>\n",
       "      <td>Bangalore</td>\n",
       "      <td>RCB</td>\n",
       "      <td>KKR</td>\n",
       "      <td>1</td>\n",
       "      <td>RCB</td>\n",
       "      <td>0</td>\n",
       "      <td>RCB</td>\n",
       "      <td>field</td>\n",
       "      <td>normal</td>\n",
       "      <td>KKR</td>\n",
       "      <td>140</td>\n",
       "      <td>0</td>\n",
       "      <td>1</td>\n",
       "      <td>0</td>\n",
       "      <td>0</td>\n",
       "      <td>0.0</td>\n",
       "      <td>0.0</td>\n",
       "    </tr>\n",
       "    <tr>\n",
       "      <th>1</th>\n",
       "      <td>61</td>\n",
       "      <td>2008</td>\n",
       "      <td>Chandigarh</td>\n",
       "      <td>KXIP</td>\n",
       "      <td>CSK</td>\n",
       "      <td>1</td>\n",
       "      <td>KXIP</td>\n",
       "      <td>0</td>\n",
       "      <td>CSK</td>\n",
       "      <td>bat</td>\n",
       "      <td>normal</td>\n",
       "      <td>CSK</td>\n",
       "      <td>33</td>\n",
       "      <td>1</td>\n",
       "      <td>1</td>\n",
       "      <td>1</td>\n",
       "      <td>0</td>\n",
       "      <td>0.0</td>\n",
       "      <td>0.0</td>\n",
       "    </tr>\n",
       "    <tr>\n",
       "      <th>2</th>\n",
       "      <td>62</td>\n",
       "      <td>2008</td>\n",
       "      <td>Delhi</td>\n",
       "      <td>DD</td>\n",
       "      <td>DD</td>\n",
       "      <td>1</td>\n",
       "      <td>RR</td>\n",
       "      <td>0</td>\n",
       "      <td>RR</td>\n",
       "      <td>bat</td>\n",
       "      <td>normal</td>\n",
       "      <td>DD</td>\n",
       "      <td>0</td>\n",
       "      <td>0</td>\n",
       "      <td>1</td>\n",
       "      <td>1</td>\n",
       "      <td>1</td>\n",
       "      <td>0.0</td>\n",
       "      <td>0.0</td>\n",
       "    </tr>\n",
       "    <tr>\n",
       "      <th>3</th>\n",
       "      <td>63</td>\n",
       "      <td>2008</td>\n",
       "      <td>Mumbai</td>\n",
       "      <td>MI</td>\n",
       "      <td>RCB</td>\n",
       "      <td>1</td>\n",
       "      <td>MI</td>\n",
       "      <td>0</td>\n",
       "      <td>MI</td>\n",
       "      <td>bat</td>\n",
       "      <td>normal</td>\n",
       "      <td>RCB</td>\n",
       "      <td>0</td>\n",
       "      <td>0</td>\n",
       "      <td>1</td>\n",
       "      <td>1</td>\n",
       "      <td>0</td>\n",
       "      <td>0.0</td>\n",
       "      <td>0.0</td>\n",
       "    </tr>\n",
       "    <tr>\n",
       "      <th>4</th>\n",
       "      <td>64</td>\n",
       "      <td>2008</td>\n",
       "      <td>Kolkata</td>\n",
       "      <td>KKR</td>\n",
       "      <td>KKR</td>\n",
       "      <td>1</td>\n",
       "      <td>SRH</td>\n",
       "      <td>0</td>\n",
       "      <td>SRH</td>\n",
       "      <td>bat</td>\n",
       "      <td>normal</td>\n",
       "      <td>KKR</td>\n",
       "      <td>0</td>\n",
       "      <td>0</td>\n",
       "      <td>1</td>\n",
       "      <td>1</td>\n",
       "      <td>1</td>\n",
       "      <td>1.0</td>\n",
       "      <td>0.0</td>\n",
       "    </tr>\n",
       "  </tbody>\n",
       "</table>\n",
       "</div>"
      ],
      "text/plain": [
       "   ID  SEASON        CITY CITY_Corrrected TEAM1  TEAM1_MODEL TEAM2  \\\n",
       "0  60    2008   Bangalore             RCB   KKR            1   RCB   \n",
       "1  61    2008  Chandigarh            KXIP   CSK            1  KXIP   \n",
       "2  62    2008       Delhi              DD    DD            1    RR   \n",
       "3  63    2008      Mumbai              MI   RCB            1    MI   \n",
       "4  64    2008     Kolkata             KKR   KKR            1   SRH   \n",
       "\n",
       "   TEAM2_MODEL TOSS_WINNER TOSS_DECISION  RESULT WINNER  WIN_BY_RUNS  \\\n",
       "0            0         RCB         field  normal    KKR          140   \n",
       "1            0         CSK           bat  normal    CSK           33   \n",
       "2            0          RR           bat  normal     DD            0   \n",
       "3            0          MI           bat  normal    RCB            0   \n",
       "4            0         SRH           bat  normal    KKR            0   \n",
       "\n",
       "   TOSS_WINNER_MODEL  WINNER_MODEL  TOSS_DECISION_MODEL  CITY_MODEL  \\\n",
       "0                  0             1                    0           0   \n",
       "1                  1             1                    1           0   \n",
       "2                  0             1                    1           1   \n",
       "3                  0             1                    1           0   \n",
       "4                  0             1                    1           1   \n",
       "\n",
       "   TEAM1_WIN_RATE  TEAM2_WIN_RATE  \n",
       "0             0.0             0.0  \n",
       "1             0.0             0.0  \n",
       "2             0.0             0.0  \n",
       "3             0.0             0.0  \n",
       "4             1.0             0.0  "
      ]
     },
     "execution_count": 3,
     "metadata": {},
     "output_type": "execute_result"
    }
   ],
   "source": [
    "match_data.head()"
   ]
  },
  {
   "cell_type": "markdown",
   "metadata": {},
   "source": [
    "# Label Encoding"
   ]
  },
  {
   "cell_type": "markdown",
   "metadata": {},
   "source": [
    "<dl>\n",
    "  <dt>TEAM1_MODEL and TEAM2_MODEL</dt>\n",
    "      <dd>- Team 1 = 1</dd>\n",
    "      <dd>- Team 2 = 0</dd>\n",
    "  <dt>TOSS_WINNER_MODEL</dt>\n",
    "      <dd>- Team 1 Toss Win = 1</dd>\n",
    "      <dd>- Team 2 Toss Win = 0</dd>\n",
    "  <dt>WINNER_MODEL</dt>\n",
    "      <dd>- Team 1 Winner = 1</dd>\n",
    "      <dd>- Team 2 Winner = 0</dd>\n",
    "  <dt>CITY_MODEL</dt>\n",
    "      <dd>- Team 1 Venue = 1</dd>\n",
    "      <dd>- Team 2 Venue = 0</dd>\n",
    "      <dd>- Outside Venue = 2</dd>\n",
    "  <dt>TOSS_DECISION_MODEL</dt>\n",
    "      <dd>- Field = 1</dd>\n",
    "      <dd>- Bat = 0 </dd>\n",
    "</dl>"
   ]
  },
  {
   "cell_type": "markdown",
   "metadata": {},
   "source": [
    "## Analysis of the Data"
   ]
  },
  {
   "cell_type": "markdown",
   "metadata": {},
   "source": [
    "### Chi Square Results of Categorical Data"
   ]
  },
  {
   "cell_type": "code",
   "execution_count": 4,
   "metadata": {},
   "outputs": [],
   "source": [
    "def plot_graph(ct):\n",
    "    ct.plot.bar(stacked=True)\n",
    "    plt.legend(title='mark')\n",
    "\n",
    "    plt.show()"
   ]
  },
  {
   "cell_type": "code",
   "execution_count": 5,
   "metadata": {},
   "outputs": [
    {
     "data": {
      "text/html": [
       "<div>\n",
       "<style scoped>\n",
       "    .dataframe tbody tr th:only-of-type {\n",
       "        vertical-align: middle;\n",
       "    }\n",
       "\n",
       "    .dataframe tbody tr th {\n",
       "        vertical-align: top;\n",
       "    }\n",
       "\n",
       "    .dataframe thead th {\n",
       "        text-align: right;\n",
       "    }\n",
       "</style>\n",
       "<table border=\"1\" class=\"dataframe\">\n",
       "  <thead>\n",
       "    <tr style=\"text-align: right;\">\n",
       "      <th>WINNER_MODEL</th>\n",
       "      <th>0</th>\n",
       "      <th>1</th>\n",
       "    </tr>\n",
       "    <tr>\n",
       "      <th>TOSS_WINNER_MODEL</th>\n",
       "      <th></th>\n",
       "      <th></th>\n",
       "    </tr>\n",
       "  </thead>\n",
       "  <tbody>\n",
       "    <tr>\n",
       "      <th>0</th>\n",
       "      <td>227</td>\n",
       "      <td>212</td>\n",
       "    </tr>\n",
       "    <tr>\n",
       "      <th>1</th>\n",
       "      <td>146</td>\n",
       "      <td>162</td>\n",
       "    </tr>\n",
       "  </tbody>\n",
       "</table>\n",
       "</div>"
      ],
      "text/plain": [
       "WINNER_MODEL         0    1\n",
       "TOSS_WINNER_MODEL          \n",
       "0                  227  212\n",
       "1                  146  162"
      ]
     },
     "execution_count": 5,
     "metadata": {},
     "output_type": "execute_result"
    }
   ],
   "source": [
    "toss_winner = pd.crosstab(match_data['TOSS_WINNER_MODEL'],match_data['WINNER_MODEL'])\n",
    "toss_winner\n"
   ]
  },
  {
   "cell_type": "code",
   "execution_count": 6,
   "metadata": {},
   "outputs": [
    {
     "data": {
      "image/png": "[encoded data removed]",
      "text/plain": [
       "<Figure size 432x288 with 1 Axes>"
      ]
     },
     "metadata": {
      "needs_background": "light"
     },
     "output_type": "display_data"
    }
   ],
   "source": [
    "plot_graph(toss_winner)"
   ]
  },
  {
   "cell_type": "markdown",
   "metadata": {},
   "source": [
    "- Explanation: If Team1(1) wins the toss then Team2(0) wins 146 times while Team1(1) wins 162 times"
   ]
  },
  {
   "cell_type": "code",
   "execution_count": 7,
   "metadata": {},
   "outputs": [
    {
     "data": {
      "text/html": [
       "<div>\n",
       "<style scoped>\n",
       "    .dataframe tbody tr th:only-of-type {\n",
       "        vertical-align: middle;\n",
       "    }\n",
       "\n",
       "    .dataframe tbody tr th {\n",
       "        vertical-align: top;\n",
       "    }\n",
       "\n",
       "    .dataframe thead th {\n",
       "        text-align: right;\n",
       "    }\n",
       "</style>\n",
       "<table border=\"1\" class=\"dataframe\">\n",
       "  <thead>\n",
       "    <tr style=\"text-align: right;\">\n",
       "      <th>WINNER_MODEL</th>\n",
       "      <th>0</th>\n",
       "      <th>1</th>\n",
       "    </tr>\n",
       "    <tr>\n",
       "      <th>CITY_MODEL</th>\n",
       "      <th></th>\n",
       "      <th></th>\n",
       "    </tr>\n",
       "  </thead>\n",
       "  <tbody>\n",
       "    <tr>\n",
       "      <th>0</th>\n",
       "      <td>136</td>\n",
       "      <td>108</td>\n",
       "    </tr>\n",
       "    <tr>\n",
       "      <th>1</th>\n",
       "      <td>135</td>\n",
       "      <td>174</td>\n",
       "    </tr>\n",
       "    <tr>\n",
       "      <th>2</th>\n",
       "      <td>102</td>\n",
       "      <td>92</td>\n",
       "    </tr>\n",
       "  </tbody>\n",
       "</table>\n",
       "</div>"
      ],
      "text/plain": [
       "WINNER_MODEL    0    1\n",
       "CITY_MODEL            \n",
       "0             136  108\n",
       "1             135  174\n",
       "2             102   92"
      ]
     },
     "execution_count": 7,
     "metadata": {},
     "output_type": "execute_result"
    }
   ],
   "source": [
    "city_winner = pd.crosstab(match_data['CITY_MODEL'],match_data['WINNER_MODEL'])\n",
    "city_winner\n"
   ]
  },
  {
   "cell_type": "code",
   "execution_count": 8,
   "metadata": {},
   "outputs": [
    {
     "data": {
      "image/png": "[encoded data removed]",
      "text/plain": [
       "<Figure size 432x288 with 1 Axes>"
      ]
     },
     "metadata": {
      "needs_background": "light"
     },
     "output_type": "display_data"
    }
   ],
   "source": [
    "plot_graph(city_winner)"
   ]
  },
  {
   "cell_type": "markdown",
   "metadata": {},
   "source": [
    "- Explanation: If City_Model = 0 ( Match is played in homeground of Team2) then Team2 wins 136 times and Team1 wins 108 times"
   ]
  },
  {
   "cell_type": "code",
   "execution_count": 9,
   "metadata": {},
   "outputs": [
    {
     "data": {
      "text/html": [
       "<div>\n",
       "<style scoped>\n",
       "    .dataframe tbody tr th:only-of-type {\n",
       "        vertical-align: middle;\n",
       "    }\n",
       "\n",
       "    .dataframe tbody tr th {\n",
       "        vertical-align: top;\n",
       "    }\n",
       "\n",
       "    .dataframe thead th {\n",
       "        text-align: right;\n",
       "    }\n",
       "</style>\n",
       "<table border=\"1\" class=\"dataframe\">\n",
       "  <thead>\n",
       "    <tr style=\"text-align: right;\">\n",
       "      <th>WINNER_MODEL</th>\n",
       "      <th>0</th>\n",
       "      <th>1</th>\n",
       "    </tr>\n",
       "    <tr>\n",
       "      <th>TOSS_DECISION_MODEL</th>\n",
       "      <th></th>\n",
       "      <th></th>\n",
       "    </tr>\n",
       "  </thead>\n",
       "  <tbody>\n",
       "    <tr>\n",
       "      <th>0</th>\n",
       "      <td>227</td>\n",
       "      <td>231</td>\n",
       "    </tr>\n",
       "    <tr>\n",
       "      <th>1</th>\n",
       "      <td>146</td>\n",
       "      <td>143</td>\n",
       "    </tr>\n",
       "  </tbody>\n",
       "</table>\n",
       "</div>"
      ],
      "text/plain": [
       "WINNER_MODEL           0    1\n",
       "TOSS_DECISION_MODEL          \n",
       "0                    227  231\n",
       "1                    146  143"
      ]
     },
     "execution_count": 9,
     "metadata": {},
     "output_type": "execute_result"
    }
   ],
   "source": [
    "descion_winner = pd.crosstab(match_data['TOSS_DECISION_MODEL'],match_data['WINNER_MODEL'])\n",
    "descion_winner"
   ]
  },
  {
   "cell_type": "code",
   "execution_count": 10,
   "metadata": {},
   "outputs": [
    {
     "data": {
      "image/png": "[encoded data removed]",
      "text/plain": [
       "<Figure size 432x288 with 1 Axes>"
      ]
     },
     "metadata": {
      "needs_background": "light"
     },
     "output_type": "display_data"
    }
   ],
   "source": [
    "plot_graph(descion_winner)"
   ]
  },
  {
   "cell_type": "markdown",
   "metadata": {},
   "source": [
    "- Explanation: If TOSS_DECISION_MODEL = 0(Irrespective of who won the toss if winner decision is bat) then Team1 wins 231 times\n",
    "and Team2 wins 227 times"
   ]
  },
  {
   "cell_type": "markdown",
   "metadata": {},
   "source": [
    "### Winners Overall"
   ]
  },
  {
   "cell_type": "code",
   "execution_count": 11,
   "metadata": {},
   "outputs": [
    {
     "data": {
      "image/png": "[encoded data removed]",
      "text/plain": [
       "<Figure size 432x288 with 1 Axes>"
      ]
     },
     "metadata": {
      "needs_background": "light"
     },
     "output_type": "display_data"
    }
   ],
   "source": [
    "match_data[\"WINNER\"].value_counts().plot(kind=\"bar\", color=[\"salmon\", \"lightblue\"]);"
   ]
  },
  {
   "cell_type": "markdown",
   "metadata": {},
   "source": [
    "# Calculating Win Rate "
   ]
  },
  {
   "cell_type": "markdown",
   "metadata": {},
   "source": [
    "- Win Rata for a particular match of a team is calculated solely based on it's past performance.\n",
    "- Untill a team wins a match the win rate will remain 0\n",
    "- Eg 2015 MI vs CSK, we will take into account the data from 2008 till 2015 before that match"
   ]
  },
  {
   "cell_type": "code",
   "execution_count": 12,
   "metadata": {},
   "outputs": [],
   "source": [
    "def update_win_rate(dataframe):\n",
    "    \n",
    "    #creating two new columns and setting them to 0 by default\n",
    "    null_values = []\n",
    "    for i in range(len(dataframe)):\n",
    "        null_values.append(0)\n",
    "    dataframe['TEAM1_WIN_RATE'] = null_values\n",
    "    dataframe['TEAM2_WIN_RATE'] = null_values\n",
    "\n",
    "\n",
    "    #initialising the number of matches played by each team to 0\n",
    "    total_match_team_wise = {'KKR':0,'CSK':0,'RCB':0,'KXIP':0,'DD':0,'SRH':0,'RPS':0,'GL':0,'KTK':0,'RR':0,'MI':0}\n",
    "\n",
    "    total_matches = 0;\n",
    "    #initializing the number of matches won by each team to zero\n",
    "    match_wins_team_wise = {'KKR':0,'CSK':0,'RCB':0,'KXIP':0,'DD':0,'SRH':0,'RPS':0,'GL':0,'KTK':0,'RR':0,'MI':0}\n",
    "    \n",
    "    years = [2008,2009,2010,2011,2012,2013,2014,2015,2016,2017,2018,2019]\n",
    "    \n",
    "    for k in range(len(dataframe)):\n",
    "        #we want win_rate of a team before a match so this condition is used\n",
    "        #so we start calculating winrate only after each team has won a match\n",
    "        if match_wins_team_wise[dataframe.loc[k,'TEAM1']] > 0: \n",
    "            dataframe.loc[k,'TEAM1_WIN_RATE'] = match_wins_team_wise[dataframe.loc[k,'TEAM1']]/total_match_team_wise[dataframe.loc[k,'TEAM1']]\n",
    "        \n",
    "        if match_wins_team_wise[dataframe.loc[k,'TEAM2']] >0:#same as before\n",
    "            dataframe.loc[k,'TEAM2_WIN_RATE'] = match_wins_team_wise[dataframe.loc[k,'TEAM2']]/total_match_team_wise[dataframe.loc[k,'TEAM2']]\n",
    "        \n",
    "        #increamenting the match wins,total matches of teams \n",
    "        match_wins_team_wise[dataframe.loc[k,'WINNER']] +=1\n",
    "        total_match_team_wise[dataframe.loc[k,'TEAM1']]+=1;\n",
    "        total_match_team_wise[dataframe.loc[k,'TEAM2']]+=1;\n",
    "        \n",
    "    return dataframe \n"
   ]
  },
  {
   "cell_type": "code",
   "execution_count": 13,
   "metadata": {},
   "outputs": [],
   "source": [
    "match_data_with_win_rate = update_win_rate(match_data)"
   ]
  },
  {
   "cell_type": "code",
   "execution_count": 14,
   "metadata": {},
   "outputs": [
    {
     "data": {
      "text/html": [
       "<div>\n",
       "<style scoped>\n",
       "    .dataframe tbody tr th:only-of-type {\n",
       "        vertical-align: middle;\n",
       "    }\n",
       "\n",
       "    .dataframe tbody tr th {\n",
       "        vertical-align: top;\n",
       "    }\n",
       "\n",
       "    .dataframe thead th {\n",
       "        text-align: right;\n",
       "    }\n",
       "</style>\n",
       "<table border=\"1\" class=\"dataframe\">\n",
       "  <thead>\n",
       "    <tr style=\"text-align: right;\">\n",
       "      <th></th>\n",
       "      <th>ID</th>\n",
       "      <th>SEASON</th>\n",
       "      <th>CITY</th>\n",
       "      <th>CITY_Corrrected</th>\n",
       "      <th>TEAM1</th>\n",
       "      <th>TEAM1_MODEL</th>\n",
       "      <th>TEAM2</th>\n",
       "      <th>TEAM2_MODEL</th>\n",
       "      <th>TOSS_WINNER</th>\n",
       "      <th>TOSS_DECISION</th>\n",
       "      <th>RESULT</th>\n",
       "      <th>WINNER</th>\n",
       "      <th>WIN_BY_RUNS</th>\n",
       "      <th>TOSS_WINNER_MODEL</th>\n",
       "      <th>WINNER_MODEL</th>\n",
       "      <th>TOSS_DECISION_MODEL</th>\n",
       "      <th>CITY_MODEL</th>\n",
       "      <th>TEAM1_WIN_RATE</th>\n",
       "      <th>TEAM2_WIN_RATE</th>\n",
       "    </tr>\n",
       "  </thead>\n",
       "  <tbody>\n",
       "    <tr>\n",
       "      <th>0</th>\n",
       "      <td>60</td>\n",
       "      <td>2008</td>\n",
       "      <td>Bangalore</td>\n",
       "      <td>RCB</td>\n",
       "      <td>KKR</td>\n",
       "      <td>1</td>\n",
       "      <td>RCB</td>\n",
       "      <td>0</td>\n",
       "      <td>RCB</td>\n",
       "      <td>field</td>\n",
       "      <td>normal</td>\n",
       "      <td>KKR</td>\n",
       "      <td>140</td>\n",
       "      <td>0</td>\n",
       "      <td>1</td>\n",
       "      <td>0</td>\n",
       "      <td>0</td>\n",
       "      <td>0.0</td>\n",
       "      <td>0.0</td>\n",
       "    </tr>\n",
       "    <tr>\n",
       "      <th>1</th>\n",
       "      <td>61</td>\n",
       "      <td>2008</td>\n",
       "      <td>Chandigarh</td>\n",
       "      <td>KXIP</td>\n",
       "      <td>CSK</td>\n",
       "      <td>1</td>\n",
       "      <td>KXIP</td>\n",
       "      <td>0</td>\n",
       "      <td>CSK</td>\n",
       "      <td>bat</td>\n",
       "      <td>normal</td>\n",
       "      <td>CSK</td>\n",
       "      <td>33</td>\n",
       "      <td>1</td>\n",
       "      <td>1</td>\n",
       "      <td>1</td>\n",
       "      <td>0</td>\n",
       "      <td>0.0</td>\n",
       "      <td>0.0</td>\n",
       "    </tr>\n",
       "    <tr>\n",
       "      <th>2</th>\n",
       "      <td>62</td>\n",
       "      <td>2008</td>\n",
       "      <td>Delhi</td>\n",
       "      <td>DD</td>\n",
       "      <td>DD</td>\n",
       "      <td>1</td>\n",
       "      <td>RR</td>\n",
       "      <td>0</td>\n",
       "      <td>RR</td>\n",
       "      <td>bat</td>\n",
       "      <td>normal</td>\n",
       "      <td>DD</td>\n",
       "      <td>0</td>\n",
       "      <td>0</td>\n",
       "      <td>1</td>\n",
       "      <td>1</td>\n",
       "      <td>1</td>\n",
       "      <td>0.0</td>\n",
       "      <td>0.0</td>\n",
       "    </tr>\n",
       "    <tr>\n",
       "      <th>3</th>\n",
       "      <td>63</td>\n",
       "      <td>2008</td>\n",
       "      <td>Mumbai</td>\n",
       "      <td>MI</td>\n",
       "      <td>RCB</td>\n",
       "      <td>1</td>\n",
       "      <td>MI</td>\n",
       "      <td>0</td>\n",
       "      <td>MI</td>\n",
       "      <td>bat</td>\n",
       "      <td>normal</td>\n",
       "      <td>RCB</td>\n",
       "      <td>0</td>\n",
       "      <td>0</td>\n",
       "      <td>1</td>\n",
       "      <td>1</td>\n",
       "      <td>0</td>\n",
       "      <td>0.0</td>\n",
       "      <td>0.0</td>\n",
       "    </tr>\n",
       "    <tr>\n",
       "      <th>4</th>\n",
       "      <td>64</td>\n",
       "      <td>2008</td>\n",
       "      <td>Kolkata</td>\n",
       "      <td>KKR</td>\n",
       "      <td>KKR</td>\n",
       "      <td>1</td>\n",
       "      <td>SRH</td>\n",
       "      <td>0</td>\n",
       "      <td>SRH</td>\n",
       "      <td>bat</td>\n",
       "      <td>normal</td>\n",
       "      <td>KKR</td>\n",
       "      <td>0</td>\n",
       "      <td>0</td>\n",
       "      <td>1</td>\n",
       "      <td>1</td>\n",
       "      <td>1</td>\n",
       "      <td>1.0</td>\n",
       "      <td>0.0</td>\n",
       "    </tr>\n",
       "  </tbody>\n",
       "</table>\n",
       "</div>"
      ],
      "text/plain": [
       "   ID  SEASON        CITY CITY_Corrrected TEAM1  TEAM1_MODEL TEAM2  \\\n",
       "0  60    2008   Bangalore             RCB   KKR            1   RCB   \n",
       "1  61    2008  Chandigarh            KXIP   CSK            1  KXIP   \n",
       "2  62    2008       Delhi              DD    DD            1    RR   \n",
       "3  63    2008      Mumbai              MI   RCB            1    MI   \n",
       "4  64    2008     Kolkata             KKR   KKR            1   SRH   \n",
       "\n",
       "   TEAM2_MODEL TOSS_WINNER TOSS_DECISION  RESULT WINNER  WIN_BY_RUNS  \\\n",
       "0            0         RCB         field  normal    KKR          140   \n",
       "1            0         CSK           bat  normal    CSK           33   \n",
       "2            0          RR           bat  normal     DD            0   \n",
       "3            0          MI           bat  normal    RCB            0   \n",
       "4            0         SRH           bat  normal    KKR            0   \n",
       "\n",
       "   TOSS_WINNER_MODEL  WINNER_MODEL  TOSS_DECISION_MODEL  CITY_MODEL  \\\n",
       "0                  0             1                    0           0   \n",
       "1                  1             1                    1           0   \n",
       "2                  0             1                    1           1   \n",
       "3                  0             1                    1           0   \n",
       "4                  0             1                    1           1   \n",
       "\n",
       "   TEAM1_WIN_RATE  TEAM2_WIN_RATE  \n",
       "0             0.0             0.0  \n",
       "1             0.0             0.0  \n",
       "2             0.0             0.0  \n",
       "3             0.0             0.0  \n",
       "4             1.0             0.0  "
      ]
     },
     "execution_count": 14,
     "metadata": {},
     "output_type": "execute_result"
    }
   ],
   "source": [
    "match_data_with_win_rate.head()"
   ]
  },
  {
   "cell_type": "markdown",
   "metadata": {},
   "source": [
    "# Reading all files"
   ]
  },
  {
   "cell_type": "markdown",
   "metadata": {},
   "source": [
    "- Reading all the stats of a player to calculate the team strength\n",
    "- Converting the datatypes for computation"
   ]
  },
  {
   "cell_type": "code",
   "execution_count": 15,
   "metadata": {},
   "outputs": [],
   "source": [
    "def convert_datatype(dataset):\n",
    "    #Setting dtypes\n",
    "\n",
    "    dataset[\"Batting Innings\"] = dataset[\"Batting Innings\"].astype(int)\n",
    "    dataset[\"Not out\"] = dataset[\"Not out\"].astype(int)\n",
    "    dataset[\"Runs\"] = dataset[\"Runs\"].astype(int)\n",
    "    dataset[\"High Score\"] = dataset[\"High Score\"].astype(int)\n",
    "    dataset[\"Batting Average\"] = dataset[\"Batting Average\"].astype(float)\n",
    "    dataset[\"Balls Faced\"] = dataset[\"Balls Faced\"].astype(int)\n",
    "    dataset[\"Batting SR\"] = dataset[\"Batting SR\"].astype(float)\n",
    "    dataset[\"100's\"] = dataset[\"100's\"].astype(int)\n",
    "    dataset[\"50's\"] = dataset[\"50's\"].astype(int)\n",
    "    dataset[\"0's\"] = dataset[\"0's\"].astype(int)\n",
    "    dataset[\"4s\"] = dataset[\"4s\"].astype(int)\n",
    "    dataset[\"6s\"] = dataset[\"6s\"].astype(int)\n",
    "    dataset[\"Bowling Innings\"] = dataset[\"Bowling Innings\"].astype(int)\n",
    "    dataset[\"Overs\"] = dataset[\"Overs\"].astype(float)\n",
    "    dataset[\"Maidens\"] = dataset[\"Maidens\"].astype(int)\n",
    "    dataset[\"Bowling Runs\"] = dataset[\"Bowling Runs\"].astype(int)\n",
    "    dataset[\"Wickets\"] = dataset[\"Wickets\"].astype(int)\n",
    "    dataset[\"Bowling Average\"] = dataset[\"Bowling Average\"].astype(float)\n",
    "    dataset[\"Bowling Economy\"] = dataset[\"Bowling Economy\"].astype(float)\n",
    "    dataset[\"Bowling SR\"] = dataset[\"Bowling SR\"].astype(float)\n",
    "    dataset[\"4W Haul\"] = dataset[\"4W Haul\"].astype(int)\n",
    "    dataset[\"5W Haul\"] = dataset[\"5W Haul\"].astype(int)\n",
    "    dataset[\"Year\"] = dataset[\"Year\"].astype(int)\n",
    "    \n",
    "    return dataset"
   ]
  },
  {
   "cell_type": "code",
   "execution_count": 16,
   "metadata": {},
   "outputs": [],
   "source": [
    "def read_player_data():\n",
    "    path = r'C:\\Users\\khand\\Desktop\\IPL Predictions\\data_version5'\n",
    "    all_files = glob.glob(path + \"/*.csv\")\n",
    "    columns=['Player', 'Matches', 'Batting Innings', 'Not out', 'Runs', 'High Score',\n",
    "       'Batting Average', 'Balls Faced', 'Batting SR', \"100's\", \"50's\", \"0's\",\n",
    "       '4s', '6s', 'Bowling Innings', 'Overs', 'Maidens', 'Bowling Runs',\n",
    "       'Wickets', 'BBI', 'Bowling Average', 'Bowling Economy', 'Bowling SR',\n",
    "       '4W Haul', '5W Haul', 'Catches', 'Stumpings']\n",
    "    path\n",
    "    li = []\n",
    "\n",
    "    for filename in all_files:\n",
    "        df = pd.read_csv(filename, index_col=None, header=0)\n",
    "        df.columns = columns\n",
    "        df['High Score'] = df['High Score'].astype('str').str.strip('*')\n",
    "        df[\"Year\"] = filename[-8: -4]                                      #Extracting Year from filename \n",
    "        df[\"Team\"] = filename[-13: -9].strip(path[-1]+'\\\\').upper()        #Extracting Team Name from filename \n",
    "        df = df.replace('-','0')\n",
    "        li.append(df)\n",
    "\n",
    "    all_years_player_performance = pd.concat(li, axis=0, ignore_index=True)\n",
    "    all_years_player_performance.drop(\"BBI\", axis=1, inplace=True) #BBI information is not needed\n",
    "    all_years_player_performance = convert_datatype(all_years_player_performance)\n",
    "    return all_years_player_performance\n",
    "    "
   ]
  },
  {
   "cell_type": "code",
   "execution_count": 17,
   "metadata": {},
   "outputs": [],
   "source": [
    "all_years_player_performance = read_player_data()"
   ]
  },
  {
   "cell_type": "markdown",
   "metadata": {},
   "source": [
    "# Calculate Player Strength (DREAM11 Formula)"
   ]
  },
  {
   "cell_type": "markdown",
   "metadata": {},
   "source": [
    "### Concept of Calculating Strength \n",
    "    \n",
    "- Initially we are calculating the strength of an individual player based on DREAM11 formula\n",
    "- https://get.dream11.help/hc/en-us/articles/360021110932-Fantasy-Cricket-Points-System\n",
    "- Aggregating the individual strength to calculate the overall team strength of the team.\n",
    "- Feeding the strength of a team for a season to it's next season\n",
    "- Eg. strength of MI for season 2010 will be fed to the 2011 season, for the prediction purpose. As while predicting the results of IPL2020 we will not have the strength of IPL2020 player performances. We will predict the results of 2020 based on 2019 IPL performance."
   ]
  },
  {
   "cell_type": "markdown",
   "metadata": {},
   "source": [
    "| Team1 | Team2 | Season | Strength1 | Strength2 | Win | Description |\n",
    "| --- | --- | --- | --- | ---| ---| ---|\n",
    "| MI | CSK | 2015 | 100 | 110 | MI |(Strength1 and Strength2 is actual strength of 2014) |"
   ]
  },
  {
   "cell_type": "markdown",
   "metadata": {},
   "source": [
    "- Calculating the strength of a team based on the DREAM11 formula\n",
    "- https://get.dream11.help/hc/en-us/articles/360021110932-Fantasy-Cricket-Points-System"
   ]
  },
  {
   "cell_type": "code",
   "execution_count": 18,
   "metadata": {},
   "outputs": [],
   "source": [
    "def player_strength(df):\n",
    "    \"\"\"Calculates Player Batting, Bowling and Overall Strength with Dream 11 Formula per inning played\n",
    "    \"\"\"\n",
    "    df['Batting Strength'] = (df['Batting Innings'] != 0).astype(int)*\\\n",
    "    ((df['Runs']+df['4s']+2*df['6s']+8*df[\"50's\"]+16*df[\"100's\"]-2*df[\"0's\"])//df['Batting Innings']\\\n",
    "    +(lambda a: (a<=50)*-6 +((a>50) & (a<=60))*-4 + ((a>60) & (a<=70))*-2)(df['Batting SR']))\n",
    "\n",
    "    df['Bowling Strength'] = (df['Bowling Innings'] != 0).astype(int)*\\\n",
    "    ((25*df['Wickets']+8*df['Maidens']+8*df['4W Haul']+16*df['5W Haul'])/df['Bowling Innings']\\\n",
    "    +(lambda a: (a>=11)*-6 +((a>=10) & (a<11))*-4 + ((a>=9) & (a<10))*-2)(df['Bowling Economy'])\\\n",
    "    +(lambda a: (a<=4)*6 +((a>4) & (a<=5))*4 + ((a>5) & (a<=6))*2)(df['Bowling Economy']))\n",
    "   \n",
    "    df['Strength'] = (df['Runs']+25*df['Wickets']+8*df['Catches']+12*df['Stumpings']+df['4s']+2*df['6s']\\\n",
    "    +8*df[\"50's\"]+16*df[\"100's\"]+8*df['Maidens']+8*df['4W Haul']+16*df['5W Haul']-2*df[\"0's\"]\\\n",
    "    +(lambda a: (a>=11)*-6 +((a>=10) & (a<11))*-4 + ((a>=9) & (a<10))*-2)(df['Bowling Economy'])*df['Bowling Innings']\\\n",
    "    +(lambda a: (a<=4)*6 +((a>4) & (a<=5))*4 + ((a>5) & (a<=6))*2)(df['Bowling Economy'])*df['Bowling Innings']\\\n",
    "    +(lambda a: (a<=50)*-6 +((a>50) & (a<=60))*-4 + ((a>60) & (a<=70))*-2)(df['Batting SR'])*df['Batting Innings'])/df['Matches']"
   ]
  },
  {
   "cell_type": "code",
   "execution_count": 19,
   "metadata": {},
   "outputs": [],
   "source": [
    "#Run the desired function\n",
    "player_strength(all_years_player_performance)"
   ]
  },
  {
   "cell_type": "code",
   "execution_count": 20,
   "metadata": {},
   "outputs": [],
   "source": [
    "all_years_player_performance.fillna(0, inplace=True)"
   ]
  },
  {
   "cell_type": "code",
   "execution_count": 21,
   "metadata": {},
   "outputs": [
    {
     "data": {
      "text/html": [
       "<div>\n",
       "<style scoped>\n",
       "    .dataframe tbody tr th:only-of-type {\n",
       "        vertical-align: middle;\n",
       "    }\n",
       "\n",
       "    .dataframe tbody tr th {\n",
       "        vertical-align: top;\n",
       "    }\n",
       "\n",
       "    .dataframe thead th {\n",
       "        text-align: right;\n",
       "    }\n",
       "</style>\n",
       "<table border=\"1\" class=\"dataframe\">\n",
       "  <thead>\n",
       "    <tr style=\"text-align: right;\">\n",
       "      <th></th>\n",
       "      <th>Player</th>\n",
       "      <th>Matches</th>\n",
       "      <th>Batting Innings</th>\n",
       "      <th>Not out</th>\n",
       "      <th>Runs</th>\n",
       "      <th>High Score</th>\n",
       "      <th>Batting Average</th>\n",
       "      <th>Balls Faced</th>\n",
       "      <th>Batting SR</th>\n",
       "      <th>100's</th>\n",
       "      <th>...</th>\n",
       "      <th>Bowling SR</th>\n",
       "      <th>4W Haul</th>\n",
       "      <th>5W Haul</th>\n",
       "      <th>Catches</th>\n",
       "      <th>Stumpings</th>\n",
       "      <th>Year</th>\n",
       "      <th>Team</th>\n",
       "      <th>Batting Strength</th>\n",
       "      <th>Bowling Strength</th>\n",
       "      <th>Strength</th>\n",
       "    </tr>\n",
       "  </thead>\n",
       "  <tbody>\n",
       "    <tr>\n",
       "      <th>0</th>\n",
       "      <td>MEK Hussey</td>\n",
       "      <td>4</td>\n",
       "      <td>3</td>\n",
       "      <td>1</td>\n",
       "      <td>168</td>\n",
       "      <td>116</td>\n",
       "      <td>84.0</td>\n",
       "      <td>100</td>\n",
       "      <td>168.00</td>\n",
       "      <td>1</td>\n",
       "      <td>...</td>\n",
       "      <td>0.0</td>\n",
       "      <td>0</td>\n",
       "      <td>0</td>\n",
       "      <td>2</td>\n",
       "      <td>0</td>\n",
       "      <td>2008</td>\n",
       "      <td>CSK</td>\n",
       "      <td>72.0</td>\n",
       "      <td>0.000000</td>\n",
       "      <td>58.500000</td>\n",
       "    </tr>\n",
       "    <tr>\n",
       "      <th>1</th>\n",
       "      <td>M Ntini</td>\n",
       "      <td>9</td>\n",
       "      <td>2</td>\n",
       "      <td>1</td>\n",
       "      <td>11</td>\n",
       "      <td>11</td>\n",
       "      <td>11.0</td>\n",
       "      <td>18</td>\n",
       "      <td>61.11</td>\n",
       "      <td>0</td>\n",
       "      <td>...</td>\n",
       "      <td>30.0</td>\n",
       "      <td>1</td>\n",
       "      <td>0</td>\n",
       "      <td>1</td>\n",
       "      <td>0</td>\n",
       "      <td>2008</td>\n",
       "      <td>CSK</td>\n",
       "      <td>4.0</td>\n",
       "      <td>22.111111</td>\n",
       "      <td>24.000000</td>\n",
       "    </tr>\n",
       "    <tr>\n",
       "      <th>2</th>\n",
       "      <td>ML Hayden</td>\n",
       "      <td>4</td>\n",
       "      <td>4</td>\n",
       "      <td>1</td>\n",
       "      <td>189</td>\n",
       "      <td>81</td>\n",
       "      <td>63.0</td>\n",
       "      <td>131</td>\n",
       "      <td>144.27</td>\n",
       "      <td>0</td>\n",
       "      <td>...</td>\n",
       "      <td>0.0</td>\n",
       "      <td>0</td>\n",
       "      <td>0</td>\n",
       "      <td>0</td>\n",
       "      <td>0</td>\n",
       "      <td>2008</td>\n",
       "      <td>CSK</td>\n",
       "      <td>60.0</td>\n",
       "      <td>0.000000</td>\n",
       "      <td>60.250000</td>\n",
       "    </tr>\n",
       "    <tr>\n",
       "      <th>3</th>\n",
       "      <td>M Muralitharan</td>\n",
       "      <td>15</td>\n",
       "      <td>1</td>\n",
       "      <td>0</td>\n",
       "      <td>0</td>\n",
       "      <td>0</td>\n",
       "      <td>0.0</td>\n",
       "      <td>3</td>\n",
       "      <td>0.00</td>\n",
       "      <td>0</td>\n",
       "      <td>...</td>\n",
       "      <td>31.6</td>\n",
       "      <td>0</td>\n",
       "      <td>0</td>\n",
       "      <td>4</td>\n",
       "      <td>0</td>\n",
       "      <td>2008</td>\n",
       "      <td>CSK</td>\n",
       "      <td>-8.0</td>\n",
       "      <td>18.333333</td>\n",
       "      <td>19.933333</td>\n",
       "    </tr>\n",
       "    <tr>\n",
       "      <th>4</th>\n",
       "      <td>MS Dhoni</td>\n",
       "      <td>16</td>\n",
       "      <td>14</td>\n",
       "      <td>4</td>\n",
       "      <td>414</td>\n",
       "      <td>65</td>\n",
       "      <td>41.4</td>\n",
       "      <td>310</td>\n",
       "      <td>133.54</td>\n",
       "      <td>0</td>\n",
       "      <td>...</td>\n",
       "      <td>0.0</td>\n",
       "      <td>0</td>\n",
       "      <td>0</td>\n",
       "      <td>6</td>\n",
       "      <td>0</td>\n",
       "      <td>2008</td>\n",
       "      <td>CSK</td>\n",
       "      <td>35.0</td>\n",
       "      <td>0.000000</td>\n",
       "      <td>34.125000</td>\n",
       "    </tr>\n",
       "  </tbody>\n",
       "</table>\n",
       "<p>5 rows × 31 columns</p>\n",
       "</div>"
      ],
      "text/plain": [
       "           Player  Matches  Batting Innings  Not out  Runs  High Score  \\\n",
       "0      MEK Hussey        4                3        1   168         116   \n",
       "1         M Ntini        9                2        1    11          11   \n",
       "2       ML Hayden        4                4        1   189          81   \n",
       "3  M Muralitharan       15                1        0     0           0   \n",
       "4        MS Dhoni       16               14        4   414          65   \n",
       "\n",
       "   Batting Average  Balls Faced  Batting SR  100's  ...  Bowling SR  4W Haul  \\\n",
       "0             84.0          100      168.00      1  ...         0.0        0   \n",
       "1             11.0           18       61.11      0  ...        30.0        1   \n",
       "2             63.0          131      144.27      0  ...         0.0        0   \n",
       "3              0.0            3        0.00      0  ...        31.6        0   \n",
       "4             41.4          310      133.54      0  ...         0.0        0   \n",
       "\n",
       "   5W Haul  Catches  Stumpings  Year  Team  Batting Strength  \\\n",
       "0        0        2          0  2008   CSK              72.0   \n",
       "1        0        1          0  2008   CSK               4.0   \n",
       "2        0        0          0  2008   CSK              60.0   \n",
       "3        0        4          0  2008   CSK              -8.0   \n",
       "4        0        6          0  2008   CSK              35.0   \n",
       "\n",
       "   Bowling Strength   Strength  \n",
       "0          0.000000  58.500000  \n",
       "1         22.111111  24.000000  \n",
       "2          0.000000  60.250000  \n",
       "3         18.333333  19.933333  \n",
       "4          0.000000  34.125000  \n",
       "\n",
       "[5 rows x 31 columns]"
      ]
     },
     "execution_count": 21,
     "metadata": {},
     "output_type": "execute_result"
    }
   ],
   "source": [
    "all_years_player_performance.head()"
   ]
  },
  {
   "cell_type": "code",
   "execution_count": 22,
   "metadata": {},
   "outputs": [],
   "source": [
    "#Initializing the strength columns\n",
    "\n",
    "all_years_player_performance[\"Strength For Model\"] = 0\n",
    "all_years_player_performance[\"Bat Strength For Model\"] = 0\n",
    "all_years_player_performance[\"Bowl Strength For Model\"] = 0\n",
    "all_years_player_performance[\"Cumul Strength For Model\"] = 0"
   ]
  },
  {
   "cell_type": "markdown",
   "metadata": {},
   "source": [
    "- Here we have shifted the current year strength to next year(For prediction)\n",
    "- 'Strength For Model' , 'Bat Strength For Model','Bowl Strength For Model' is shifted strength(Strength)\n",
    "- 'Cumulative Strength for Model' is the mean strength for all the previous year strengths \n",
    "- Eg for MI in 2016 : Strength will be 2015 strength : Cumulative strength will be mean(2015,2014,......2008 strength)"
   ]
  },
  {
   "cell_type": "code",
   "execution_count": 23,
   "metadata": {},
   "outputs": [
    {
     "name": "stdout",
     "output_type": "stream",
     "text": [
      "Wall time: 6.96 s\n"
     ]
    }
   ],
   "source": [
    "%%time\n",
    "for a in all_years_player_performance.Player.unique():          #Iteration for Players\n",
    "    \n",
    "    #Series of years the player has played sorted in descending order\n",
    "    b = all_years_player_performance[all_years_player_performance['Player']==a]['Year'].sort_values(ascending=False)\n",
    "    \n",
    "    #Mean strength of player over IPL\n",
    "    c = all_years_player_performance[all_years_player_performance['Player']==a]['Strength'].mean()\n",
    "    \n",
    "    #Mean strength of player over IPL\n",
    "    d = all_years_player_performance[all_years_player_performance['Player']==a]['Batting Strength'].mean()\n",
    "    \n",
    "    #Mean strength of player over IPL\n",
    "    e = all_years_player_performance[all_years_player_performance['Player']==a]['Bowling Strength'].mean()\n",
    "    \n",
    "    \n",
    "    for i in range(len(b)):                     #Iteration over the years\n",
    "        if sum(b.isin([b[b.index[i]]-1])):      #enters if year-1 is present in b\n",
    "            #copies value to stren_mod from previous year stren_calc\n",
    "            all_years_player_performance.loc[b.index[i],'Strength For Model'] = all_years_player_performance.loc[b.index[i+1],'Strength']   \n",
    "        else:                                   #enters when previous year is not available\n",
    "            #Mean strength of player over IPL is imputed\n",
    "            all_years_player_performance.loc[b.index[i],'Strength For Model'] = c\n",
    "\n",
    "        if sum(b.isin([b[b.index[i]]-1])):      #enters if year-1 is present in b\n",
    "            #copies value to stren_mod from previous year stren_calc\n",
    "            all_years_player_performance.loc[b.index[i],'Bat Strength For Model'] = all_years_player_performance.loc[b.index[i+1],'Batting Strength']   \n",
    "        else:                                   #enters when previous year is not available\n",
    "            #Mean strength of player over IPL is imputed\n",
    "            all_years_player_performance.loc[b.index[i],'Bat Strength For Model'] = d\n",
    "\n",
    "        if sum(b.isin([b[b.index[i]]-1])):      #enters if year-1 is present in b\n",
    "            #copies value to stren_mod from previous year stren_calc\n",
    "            all_years_player_performance.loc[b.index[i],'Bowl Strength For Model'] = all_years_player_performance.loc[b.index[i+1],'Bowling Strength']   \n",
    "        else:                                   #enters when previous year is not available\n",
    "            #Mean strength of player over IPL is imputed\n",
    "            all_years_player_performance.loc[b.index[i],'Bowl Strength For Model'] = e\n",
    "\n",
    "            \n",
    "        #Cumulative Strength over all years played\n",
    "        if i < len(b)-1:\n",
    "            all_years_player_performance.loc[b.index[i],'Cumul Strength For Model'] = all_years_player_performance.loc[b.index[i+1:], 'Strength'].mean()\n",
    "        else:\n",
    "            all_years_player_performance.loc[b.index[i],'Cumul Strength For Model'] = c"
   ]
  },
  {
   "cell_type": "code",
   "execution_count": 24,
   "metadata": {},
   "outputs": [
    {
     "data": {
      "text/html": [
       "<div>\n",
       "<style scoped>\n",
       "    .dataframe tbody tr th:only-of-type {\n",
       "        vertical-align: middle;\n",
       "    }\n",
       "\n",
       "    .dataframe tbody tr th {\n",
       "        vertical-align: top;\n",
       "    }\n",
       "\n",
       "    .dataframe thead th {\n",
       "        text-align: right;\n",
       "    }\n",
       "</style>\n",
       "<table border=\"1\" class=\"dataframe\">\n",
       "  <thead>\n",
       "    <tr style=\"text-align: right;\">\n",
       "      <th></th>\n",
       "      <th>Player</th>\n",
       "      <th>Matches</th>\n",
       "      <th>Batting Innings</th>\n",
       "      <th>Not out</th>\n",
       "      <th>Runs</th>\n",
       "      <th>High Score</th>\n",
       "      <th>Batting Average</th>\n",
       "      <th>Balls Faced</th>\n",
       "      <th>Batting SR</th>\n",
       "      <th>100's</th>\n",
       "      <th>...</th>\n",
       "      <th>Stumpings</th>\n",
       "      <th>Year</th>\n",
       "      <th>Team</th>\n",
       "      <th>Batting Strength</th>\n",
       "      <th>Bowling Strength</th>\n",
       "      <th>Strength</th>\n",
       "      <th>Strength For Model</th>\n",
       "      <th>Bat Strength For Model</th>\n",
       "      <th>Bowl Strength For Model</th>\n",
       "      <th>Cumul Strength For Model</th>\n",
       "    </tr>\n",
       "  </thead>\n",
       "  <tbody>\n",
       "    <tr>\n",
       "      <th>0</th>\n",
       "      <td>MEK Hussey</td>\n",
       "      <td>4</td>\n",
       "      <td>3</td>\n",
       "      <td>1</td>\n",
       "      <td>168</td>\n",
       "      <td>116</td>\n",
       "      <td>84.0</td>\n",
       "      <td>100</td>\n",
       "      <td>168.00</td>\n",
       "      <td>1</td>\n",
       "      <td>...</td>\n",
       "      <td>0</td>\n",
       "      <td>2008</td>\n",
       "      <td>CSK</td>\n",
       "      <td>72.0</td>\n",
       "      <td>0.000000</td>\n",
       "      <td>58.500000</td>\n",
       "      <td>39.357860</td>\n",
       "      <td>38.571429</td>\n",
       "      <td>0.000000</td>\n",
       "      <td>39.357860</td>\n",
       "    </tr>\n",
       "    <tr>\n",
       "      <th>1</th>\n",
       "      <td>M Ntini</td>\n",
       "      <td>9</td>\n",
       "      <td>2</td>\n",
       "      <td>1</td>\n",
       "      <td>11</td>\n",
       "      <td>11</td>\n",
       "      <td>11.0</td>\n",
       "      <td>18</td>\n",
       "      <td>61.11</td>\n",
       "      <td>0</td>\n",
       "      <td>...</td>\n",
       "      <td>0</td>\n",
       "      <td>2008</td>\n",
       "      <td>CSK</td>\n",
       "      <td>4.0</td>\n",
       "      <td>22.111111</td>\n",
       "      <td>24.000000</td>\n",
       "      <td>24.000000</td>\n",
       "      <td>4.000000</td>\n",
       "      <td>22.111111</td>\n",
       "      <td>24.000000</td>\n",
       "    </tr>\n",
       "    <tr>\n",
       "      <th>2</th>\n",
       "      <td>ML Hayden</td>\n",
       "      <td>4</td>\n",
       "      <td>4</td>\n",
       "      <td>1</td>\n",
       "      <td>189</td>\n",
       "      <td>81</td>\n",
       "      <td>63.0</td>\n",
       "      <td>131</td>\n",
       "      <td>144.27</td>\n",
       "      <td>0</td>\n",
       "      <td>...</td>\n",
       "      <td>0</td>\n",
       "      <td>2008</td>\n",
       "      <td>CSK</td>\n",
       "      <td>60.0</td>\n",
       "      <td>0.000000</td>\n",
       "      <td>60.250000</td>\n",
       "      <td>50.854167</td>\n",
       "      <td>48.333333</td>\n",
       "      <td>0.000000</td>\n",
       "      <td>50.854167</td>\n",
       "    </tr>\n",
       "    <tr>\n",
       "      <th>3</th>\n",
       "      <td>M Muralitharan</td>\n",
       "      <td>15</td>\n",
       "      <td>1</td>\n",
       "      <td>0</td>\n",
       "      <td>0</td>\n",
       "      <td>0</td>\n",
       "      <td>0.0</td>\n",
       "      <td>3</td>\n",
       "      <td>0.00</td>\n",
       "      <td>0</td>\n",
       "      <td>...</td>\n",
       "      <td>0</td>\n",
       "      <td>2008</td>\n",
       "      <td>CSK</td>\n",
       "      <td>-8.0</td>\n",
       "      <td>18.333333</td>\n",
       "      <td>19.933333</td>\n",
       "      <td>25.098718</td>\n",
       "      <td>-1.333333</td>\n",
       "      <td>23.186966</td>\n",
       "      <td>25.098718</td>\n",
       "    </tr>\n",
       "    <tr>\n",
       "      <th>4</th>\n",
       "      <td>MS Dhoni</td>\n",
       "      <td>16</td>\n",
       "      <td>14</td>\n",
       "      <td>4</td>\n",
       "      <td>414</td>\n",
       "      <td>65</td>\n",
       "      <td>41.4</td>\n",
       "      <td>310</td>\n",
       "      <td>133.54</td>\n",
       "      <td>0</td>\n",
       "      <td>...</td>\n",
       "      <td>0</td>\n",
       "      <td>2008</td>\n",
       "      <td>CSK</td>\n",
       "      <td>35.0</td>\n",
       "      <td>0.000000</td>\n",
       "      <td>34.125000</td>\n",
       "      <td>34.630915</td>\n",
       "      <td>31.166667</td>\n",
       "      <td>0.000000</td>\n",
       "      <td>34.630915</td>\n",
       "    </tr>\n",
       "  </tbody>\n",
       "</table>\n",
       "<p>5 rows × 35 columns</p>\n",
       "</div>"
      ],
      "text/plain": [
       "           Player  Matches  Batting Innings  Not out  Runs  High Score  \\\n",
       "0      MEK Hussey        4                3        1   168         116   \n",
       "1         M Ntini        9                2        1    11          11   \n",
       "2       ML Hayden        4                4        1   189          81   \n",
       "3  M Muralitharan       15                1        0     0           0   \n",
       "4        MS Dhoni       16               14        4   414          65   \n",
       "\n",
       "   Batting Average  Balls Faced  Batting SR  100's  ...  Stumpings  Year  \\\n",
       "0             84.0          100      168.00      1  ...          0  2008   \n",
       "1             11.0           18       61.11      0  ...          0  2008   \n",
       "2             63.0          131      144.27      0  ...          0  2008   \n",
       "3              0.0            3        0.00      0  ...          0  2008   \n",
       "4             41.4          310      133.54      0  ...          0  2008   \n",
       "\n",
       "   Team  Batting Strength  Bowling Strength   Strength  Strength For Model  \\\n",
       "0   CSK              72.0          0.000000  58.500000           39.357860   \n",
       "1   CSK               4.0         22.111111  24.000000           24.000000   \n",
       "2   CSK              60.0          0.000000  60.250000           50.854167   \n",
       "3   CSK              -8.0         18.333333  19.933333           25.098718   \n",
       "4   CSK              35.0          0.000000  34.125000           34.630915   \n",
       "\n",
       "   Bat Strength For Model  Bowl Strength For Model  Cumul Strength For Model  \n",
       "0               38.571429                 0.000000                 39.357860  \n",
       "1                4.000000                22.111111                 24.000000  \n",
       "2               48.333333                 0.000000                 50.854167  \n",
       "3               -1.333333                23.186966                 25.098718  \n",
       "4               31.166667                 0.000000                 34.630915  \n",
       "\n",
       "[5 rows x 35 columns]"
      ]
     },
     "execution_count": 24,
     "metadata": {},
     "output_type": "execute_result"
    }
   ],
   "source": [
    "all_years_player_performance.head()"
   ]
  },
  {
   "cell_type": "code",
   "execution_count": 25,
   "metadata": {},
   "outputs": [
    {
     "data": {
      "text/plain": [
       "(-10, 100)"
      ]
     },
     "execution_count": 25,
     "metadata": {},
     "output_type": "execute_result"
    },
    {
     "data": {
      "image/png": "[encoded data removed]",
      "text/plain": [
       "<Figure size 1296x396 with 3 Axes>"
      ]
     },
     "metadata": {
      "needs_background": "light"
     },
     "output_type": "display_data"
    }
   ],
   "source": [
    "plt.figure(figsize=(18,5.5))\n",
    "plt.subplot(131)\n",
    "sns.regplot(x=all_years_player_performance['Strength'], y=all_years_player_performance['Strength For Model'])\n",
    "plt.title('Scatter Plot of Actual Strength and\\nModel Strength')\n",
    "plt.xlim(-10, 100);plt.ylim(-10, 100)\n",
    "plt.subplot(132)\n",
    "sns.regplot(x=all_years_player_performance['Batting Strength'], y=all_years_player_performance['Bat Strength For Model'])\n",
    "plt.title('Scatter Plot of Actual Batting Strength and\\nBatting Model Strength')\n",
    "plt.xlim(-10, 100);plt.ylim(-10, 100)\n",
    "plt.subplot(133)\n",
    "sns.regplot(x=all_years_player_performance['Bowling Strength'], y=all_years_player_performance['Bowl Strength For Model'])\n",
    "plt.title('Scatter Plot of Actual Bowling Strength and\\nBowling Model Strength')\n",
    "plt.xlim(-10, 100);plt.ylim(-10, 100)"
   ]
  },
  {
   "cell_type": "markdown",
   "metadata": {},
   "source": [
    "- Actual Strength is the strength of the same season\n",
    "- Strength is the strength of a season before that we will feed into the model"
   ]
  },
  {
   "cell_type": "code",
   "execution_count": 26,
   "metadata": {},
   "outputs": [
    {
     "data": {
      "image/png": "[encoded data removed]",
      "text/plain": [
       "<Figure size 432x288 with 2 Axes>"
      ]
     },
     "metadata": {
      "needs_background": "light"
     },
     "output_type": "display_data"
    }
   ],
   "source": [
    "#Pearson Corrleation\n",
    "ax = sns.heatmap(all_years_player_performance.loc[:,all_years_player_performance.columns[-8:]].corr(), annot=True)"
   ]
  },
  {
   "cell_type": "markdown",
   "metadata": {},
   "source": [
    "- Here we have the strength of a player according to the formula\n",
    "- Aggregating the individual strength into the team strength of a team"
   ]
  },
  {
   "cell_type": "code",
   "execution_count": 27,
   "metadata": {},
   "outputs": [],
   "source": [
    "team_stren = \\\n",
    "all_years_player_performance.groupby(['Team', 'Year']).apply(lambda a: a[\"Strength For Model\"].sort_values(ascending=False)[:11].sum()/max(a[\"Matches\"]))\n",
    "\n",
    "cum_team_stren = \\\n",
    "all_years_player_performance.groupby(['Team', 'Year']).apply(lambda a: sum(a[\"Cumul Strength For Model\"].sort_values(ascending=False)[:11])/max(a[\"Matches\"]))\n",
    "\n",
    "team_bat_stren = \\\n",
    "all_years_player_performance.groupby(['Team', 'Year']).apply(lambda a: a[\"Bat Strength For Model\"].sort_values(ascending=False)[:11].sum()/max(a[\"Matches\"]))\n",
    "\n",
    "team_bowl_stren = \\\n",
    "all_years_player_performance.groupby(['Team', 'Year']).apply(lambda a: sum(a[\"Bowl Strength For Model\"].sort_values(ascending=False)[:11])/max(a[\"Matches\"]))"
   ]
  },
  {
   "cell_type": "code",
   "execution_count": 28,
   "metadata": {},
   "outputs": [],
   "source": [
    "#new = all_years_player_performance.groupby(['Year','Team'])['Player','Strength For Model','Team'].apply(lambda x: x.nlargest(11, columns=['Strength For Model']))"
   ]
  },
  {
   "cell_type": "code",
   "execution_count": 29,
   "metadata": {},
   "outputs": [
    {
     "data": {
      "text/html": [
       "<div>\n",
       "<style scoped>\n",
       "    .dataframe tbody tr th:only-of-type {\n",
       "        vertical-align: middle;\n",
       "    }\n",
       "\n",
       "    .dataframe tbody tr th {\n",
       "        vertical-align: top;\n",
       "    }\n",
       "\n",
       "    .dataframe thead th {\n",
       "        text-align: right;\n",
       "    }\n",
       "</style>\n",
       "<table border=\"1\" class=\"dataframe\">\n",
       "  <thead>\n",
       "    <tr style=\"text-align: right;\">\n",
       "      <th></th>\n",
       "      <th>Team_Strength</th>\n",
       "      <th>Batting_Team_Strength</th>\n",
       "      <th>Bowling_Team_Strength</th>\n",
       "      <th>Cumulative_Team_Strength</th>\n",
       "    </tr>\n",
       "  </thead>\n",
       "  <tbody>\n",
       "    <tr>\n",
       "      <th>count</th>\n",
       "      <td>100.000000</td>\n",
       "      <td>100.000000</td>\n",
       "      <td>100.000000</td>\n",
       "      <td>100.000000</td>\n",
       "    </tr>\n",
       "    <tr>\n",
       "      <th>mean</th>\n",
       "      <td>26.702428</td>\n",
       "      <td>17.165134</td>\n",
       "      <td>16.557766</td>\n",
       "      <td>26.038402</td>\n",
       "    </tr>\n",
       "    <tr>\n",
       "      <th>std</th>\n",
       "      <td>3.327214</td>\n",
       "      <td>2.560715</td>\n",
       "      <td>3.742815</td>\n",
       "      <td>3.014527</td>\n",
       "    </tr>\n",
       "    <tr>\n",
       "      <th>min</th>\n",
       "      <td>20.436569</td>\n",
       "      <td>11.491228</td>\n",
       "      <td>9.742660</td>\n",
       "      <td>19.937809</td>\n",
       "    </tr>\n",
       "    <tr>\n",
       "      <th>25%</th>\n",
       "      <td>24.262769</td>\n",
       "      <td>15.424370</td>\n",
       "      <td>14.306860</td>\n",
       "      <td>23.732599</td>\n",
       "    </tr>\n",
       "    <tr>\n",
       "      <th>50%</th>\n",
       "      <td>26.086471</td>\n",
       "      <td>17.060897</td>\n",
       "      <td>15.959770</td>\n",
       "      <td>25.800766</td>\n",
       "    </tr>\n",
       "    <tr>\n",
       "      <th>75%</th>\n",
       "      <td>28.765631</td>\n",
       "      <td>18.469538</td>\n",
       "      <td>18.225869</td>\n",
       "      <td>27.672141</td>\n",
       "    </tr>\n",
       "    <tr>\n",
       "      <th>max</th>\n",
       "      <td>35.255482</td>\n",
       "      <td>24.428571</td>\n",
       "      <td>39.307236</td>\n",
       "      <td>34.679584</td>\n",
       "    </tr>\n",
       "  </tbody>\n",
       "</table>\n",
       "</div>"
      ],
      "text/plain": [
       "       Team_Strength  Batting_Team_Strength  Bowling_Team_Strength  \\\n",
       "count     100.000000             100.000000             100.000000   \n",
       "mean       26.702428              17.165134              16.557766   \n",
       "std         3.327214               2.560715               3.742815   \n",
       "min        20.436569              11.491228               9.742660   \n",
       "25%        24.262769              15.424370              14.306860   \n",
       "50%        26.086471              17.060897              15.959770   \n",
       "75%        28.765631              18.469538              18.225869   \n",
       "max        35.255482              24.428571              39.307236   \n",
       "\n",
       "       Cumulative_Team_Strength  \n",
       "count                100.000000  \n",
       "mean                  26.038402  \n",
       "std                    3.014527  \n",
       "min                   19.937809  \n",
       "25%                   23.732599  \n",
       "50%                   25.800766  \n",
       "75%                   27.672141  \n",
       "max                   34.679584  "
      ]
     },
     "execution_count": 29,
     "metadata": {},
     "output_type": "execute_result"
    }
   ],
   "source": [
    "TeamStrength = pd.concat([\n",
    "                          team_stren,                          \n",
    "                          team_bat_stren,\n",
    "                          team_bowl_stren,\n",
    "                          cum_team_stren], axis=1) \n",
    "TeamStrength.columns= [\n",
    "                       'Team_Strength',                        \n",
    "                       'Batting_Team_Strength',\n",
    "                       'Bowling_Team_Strength',\n",
    "                       'Cumulative_Team_Strength']\n",
    "TeamStrength.describe()"
   ]
  },
  {
   "cell_type": "code",
   "execution_count": 30,
   "metadata": {},
   "outputs": [
    {
     "data": {
      "text/plain": [
       "Text(0.5, 1.0, 'Scatter Plot of Team Strength and\\nCumulative Team Strength')"
      ]
     },
     "execution_count": 30,
     "metadata": {},
     "output_type": "execute_result"
    },
    {
     "data": {
      "image/png": "[encoded data removed]",
      "text/plain": [
       "<Figure size 432x288 with 1 Axes>"
      ]
     },
     "metadata": {
      "needs_background": "light"
     },
     "output_type": "display_data"
    }
   ],
   "source": [
    "sns.regplot(x=TeamStrength.loc[:,'Team_Strength'], y=TeamStrength.loc[:,'Cumulative_Team_Strength'])\n",
    "plt.title('Scatter Plot of Team Strength and\\nCumulative Team Strength')"
   ]
  },
  {
   "cell_type": "code",
   "execution_count": 31,
   "metadata": {},
   "outputs": [
    {
     "data": {
      "image/png": "[encoded data removed]",
      "text/plain": [
       "<Figure size 432x288 with 2 Axes>"
      ]
     },
     "metadata": {
      "needs_background": "light"
     },
     "output_type": "display_data"
    }
   ],
   "source": [
    "ax = sns.heatmap(TeamStrength.corr(), annot=True)"
   ]
  },
  {
   "cell_type": "code",
   "execution_count": 32,
   "metadata": {},
   "outputs": [
    {
     "data": {
      "text/html": [
       "<div>\n",
       "<style scoped>\n",
       "    .dataframe tbody tr th:only-of-type {\n",
       "        vertical-align: middle;\n",
       "    }\n",
       "\n",
       "    .dataframe tbody tr th {\n",
       "        vertical-align: top;\n",
       "    }\n",
       "\n",
       "    .dataframe thead th {\n",
       "        text-align: right;\n",
       "    }\n",
       "</style>\n",
       "<table border=\"1\" class=\"dataframe\">\n",
       "  <thead>\n",
       "    <tr style=\"text-align: right;\">\n",
       "      <th></th>\n",
       "      <th></th>\n",
       "      <th>Team_Strength</th>\n",
       "      <th>Batting_Team_Strength</th>\n",
       "      <th>Bowling_Team_Strength</th>\n",
       "      <th>Cumulative_Team_Strength</th>\n",
       "    </tr>\n",
       "    <tr>\n",
       "      <th>Team</th>\n",
       "      <th>Year</th>\n",
       "      <th></th>\n",
       "      <th></th>\n",
       "      <th></th>\n",
       "      <th></th>\n",
       "    </tr>\n",
       "  </thead>\n",
       "  <tbody>\n",
       "    <tr>\n",
       "      <th rowspan=\"5\" valign=\"top\">CSK</th>\n",
       "      <th>2008</th>\n",
       "      <td>22.746533</td>\n",
       "      <td>17.146825</td>\n",
       "      <td>11.497391</td>\n",
       "      <td>22.746533</td>\n",
       "    </tr>\n",
       "    <tr>\n",
       "      <th>2009</th>\n",
       "      <td>30.966321</td>\n",
       "      <td>21.192857</td>\n",
       "      <td>18.312296</td>\n",
       "      <td>30.966321</td>\n",
       "    </tr>\n",
       "    <tr>\n",
       "      <th>2010</th>\n",
       "      <td>27.781762</td>\n",
       "      <td>17.410714</td>\n",
       "      <td>19.920292</td>\n",
       "      <td>28.814597</td>\n",
       "    </tr>\n",
       "    <tr>\n",
       "      <th>2011</th>\n",
       "      <td>24.183259</td>\n",
       "      <td>14.083333</td>\n",
       "      <td>14.535135</td>\n",
       "      <td>27.026374</td>\n",
       "    </tr>\n",
       "    <tr>\n",
       "      <th>2012</th>\n",
       "      <td>21.166494</td>\n",
       "      <td>15.984962</td>\n",
       "      <td>12.667610</td>\n",
       "      <td>21.665932</td>\n",
       "    </tr>\n",
       "  </tbody>\n",
       "</table>\n",
       "</div>"
      ],
      "text/plain": [
       "           Team_Strength  Batting_Team_Strength  Bowling_Team_Strength  \\\n",
       "Team Year                                                                \n",
       "CSK  2008      22.746533              17.146825              11.497391   \n",
       "     2009      30.966321              21.192857              18.312296   \n",
       "     2010      27.781762              17.410714              19.920292   \n",
       "     2011      24.183259              14.083333              14.535135   \n",
       "     2012      21.166494              15.984962              12.667610   \n",
       "\n",
       "           Cumulative_Team_Strength  \n",
       "Team Year                            \n",
       "CSK  2008                 22.746533  \n",
       "     2009                 30.966321  \n",
       "     2010                 28.814597  \n",
       "     2011                 27.026374  \n",
       "     2012                 21.665932  "
      ]
     },
     "execution_count": 32,
     "metadata": {},
     "output_type": "execute_result"
    }
   ],
   "source": [
    "TeamStrength.head()"
   ]
  },
  {
   "cell_type": "code",
   "execution_count": 33,
   "metadata": {},
   "outputs": [],
   "source": [
    "TeamStrength.reset_index(inplace = True)"
   ]
  },
  {
   "cell_type": "markdown",
   "metadata": {},
   "source": [
    "# Win Ratio Ratio of each team vs another Clculations(AHP)"
   ]
  },
  {
   "cell_type": "markdown",
   "metadata": {},
   "source": [
    "- Using Analytic Hierarchy Process (AHP) we will find the coefficient(weights) for win rate of each team with respect to the other\n",
    "- https://www.youtube.com/watch?v=J4T70o8gjlk&t=17s\n",
    "- The below codes are the standard process(algorithm) for the AHP and can be avoided "
   ]
  },
  {
   "cell_type": "code",
   "execution_count": 34,
   "metadata": {},
   "outputs": [],
   "source": [
    "Data = match_data.copy()"
   ]
  },
  {
   "cell_type": "markdown",
   "metadata": {},
   "source": [
    "We are dropping KTK and GL Teams temporarily because these teams have not played against each other."
   ]
  },
  {
   "cell_type": "code",
   "execution_count": 35,
   "metadata": {},
   "outputs": [],
   "source": [
    "# Dropping teams who hasn't played against each other\n",
    "Data.drop(Data[Data[\"TEAM1\"] == \"KTK\"].index, inplace = True) \n",
    "Data.drop(Data[Data[\"TEAM2\"] == \"KTK\"].index, inplace = True) \n",
    "Data.drop(Data[Data[\"TEAM1\"] == \"GL\"].index, inplace = True) \n",
    "Data.drop(Data[Data[\"TEAM2\"] == \"GL\"].index, inplace = True) "
   ]
  },
  {
   "cell_type": "code",
   "execution_count": 36,
   "metadata": {},
   "outputs": [
    {
     "name": "stderr",
     "output_type": "stream",
     "text": [
      "C:\\Users\\khand\\anaconda3\\lib\\site-packages\\ipykernel_launcher.py:3: SettingWithCopyWarning: \n",
      "A value is trying to be set on a copy of a slice from a DataFrame\n",
      "\n",
      "See the caveats in the documentation: https://pandas.pydata.org/pandas-docs/stable/user_guide/indexing.html#returning-a-view-versus-a-copy\n",
      "  This is separate from the ipykernel package so we can avoid doing imports until\n",
      "C:\\Users\\khand\\anaconda3\\lib\\site-packages\\ipykernel_launcher.py:4: SettingWithCopyWarning: \n",
      "A value is trying to be set on a copy of a slice from a DataFrame\n",
      "\n",
      "See the caveats in the documentation: https://pandas.pydata.org/pandas-docs/stable/user_guide/indexing.html#returning-a-view-versus-a-copy\n",
      "  after removing the cwd from sys.path.\n"
     ]
    }
   ],
   "source": [
    "#Creating Selector variable of form 'TEAMBig v/s TEAMSmall'\n",
    "Data['Selector'] = ''\n",
    "Data['Selector'][Data['TEAM1']>Data['TEAM2']] = Data['TEAM1'][Data['TEAM1']>Data['TEAM2']] + \" v/s \" + Data['TEAM2'][Data['TEAM1']>Data['TEAM2']]\n",
    "Data['Selector'][Data['TEAM1']<Data['TEAM2']] = Data['TEAM2'][Data['TEAM1']<Data['TEAM2']] + \" v/s \" + Data['TEAM1'][Data['TEAM1']<Data['TEAM2']]\n",
    "\n",
    "Data = Data[[\"Selector\", \"WINNER\"]]"
   ]
  },
  {
   "cell_type": "code",
   "execution_count": 37,
   "metadata": {},
   "outputs": [],
   "source": [
    "#Applying groupby to find winner count\n",
    "df = pd.DataFrame(Data.groupby('Selector').apply(lambda a: a['WINNER'].value_counts())).reset_index()\n",
    "\n",
    "#Initializing Win Ratio Column\n",
    "df['Win Ratio']=0"
   ]
  },
  {
   "cell_type": "code",
   "execution_count": 38,
   "metadata": {},
   "outputs": [
    {
     "data": {
      "text/html": [
       "<div>\n",
       "<style scoped>\n",
       "    .dataframe tbody tr th:only-of-type {\n",
       "        vertical-align: middle;\n",
       "    }\n",
       "\n",
       "    .dataframe tbody tr th {\n",
       "        vertical-align: top;\n",
       "    }\n",
       "\n",
       "    .dataframe thead th {\n",
       "        text-align: right;\n",
       "    }\n",
       "</style>\n",
       "<table border=\"1\" class=\"dataframe\">\n",
       "  <thead>\n",
       "    <tr style=\"text-align: right;\">\n",
       "      <th></th>\n",
       "      <th>Selector</th>\n",
       "      <th>WINNER</th>\n",
       "    </tr>\n",
       "  </thead>\n",
       "  <tbody>\n",
       "    <tr>\n",
       "      <th>0</th>\n",
       "      <td>RCB v/s KKR</td>\n",
       "      <td>KKR</td>\n",
       "    </tr>\n",
       "    <tr>\n",
       "      <th>1</th>\n",
       "      <td>KXIP v/s CSK</td>\n",
       "      <td>CSK</td>\n",
       "    </tr>\n",
       "    <tr>\n",
       "      <th>2</th>\n",
       "      <td>RR v/s DD</td>\n",
       "      <td>DD</td>\n",
       "    </tr>\n",
       "    <tr>\n",
       "      <th>3</th>\n",
       "      <td>RCB v/s MI</td>\n",
       "      <td>RCB</td>\n",
       "    </tr>\n",
       "    <tr>\n",
       "      <th>4</th>\n",
       "      <td>SRH v/s KKR</td>\n",
       "      <td>KKR</td>\n",
       "    </tr>\n",
       "  </tbody>\n",
       "</table>\n",
       "</div>"
      ],
      "text/plain": [
       "       Selector WINNER\n",
       "0   RCB v/s KKR    KKR\n",
       "1  KXIP v/s CSK    CSK\n",
       "2     RR v/s DD     DD\n",
       "3    RCB v/s MI    RCB\n",
       "4   SRH v/s KKR    KKR"
      ]
     },
     "execution_count": 38,
     "metadata": {},
     "output_type": "execute_result"
    }
   ],
   "source": [
    "Data = Data[[\"Selector\", \"WINNER\"]]\n",
    "Data.head()"
   ]
  },
  {
   "cell_type": "code",
   "execution_count": 39,
   "metadata": {},
   "outputs": [
    {
     "data": {
      "text/html": [
       "<div>\n",
       "<style scoped>\n",
       "    .dataframe tbody tr th:only-of-type {\n",
       "        vertical-align: middle;\n",
       "    }\n",
       "\n",
       "    .dataframe tbody tr th {\n",
       "        vertical-align: top;\n",
       "    }\n",
       "\n",
       "    .dataframe thead th {\n",
       "        text-align: right;\n",
       "    }\n",
       "</style>\n",
       "<table border=\"1\" class=\"dataframe\">\n",
       "  <thead>\n",
       "    <tr style=\"text-align: right;\">\n",
       "      <th></th>\n",
       "      <th>Selector</th>\n",
       "      <th>level_1</th>\n",
       "      <th>WINNER</th>\n",
       "      <th>Win Ratio</th>\n",
       "    </tr>\n",
       "  </thead>\n",
       "  <tbody>\n",
       "    <tr>\n",
       "      <th>0</th>\n",
       "      <td>DD v/s CSK</td>\n",
       "      <td>CSK</td>\n",
       "      <td>15</td>\n",
       "      <td>0</td>\n",
       "    </tr>\n",
       "    <tr>\n",
       "      <th>1</th>\n",
       "      <td>DD v/s CSK</td>\n",
       "      <td>DD</td>\n",
       "      <td>6</td>\n",
       "      <td>0</td>\n",
       "    </tr>\n",
       "    <tr>\n",
       "      <th>2</th>\n",
       "      <td>KKR v/s CSK</td>\n",
       "      <td>CSK</td>\n",
       "      <td>13</td>\n",
       "      <td>0</td>\n",
       "    </tr>\n",
       "    <tr>\n",
       "      <th>3</th>\n",
       "      <td>KKR v/s CSK</td>\n",
       "      <td>KKR</td>\n",
       "      <td>7</td>\n",
       "      <td>0</td>\n",
       "    </tr>\n",
       "    <tr>\n",
       "      <th>4</th>\n",
       "      <td>KKR v/s DD</td>\n",
       "      <td>KKR</td>\n",
       "      <td>13</td>\n",
       "      <td>0</td>\n",
       "    </tr>\n",
       "  </tbody>\n",
       "</table>\n",
       "</div>"
      ],
      "text/plain": [
       "      Selector level_1  WINNER  Win Ratio\n",
       "0   DD v/s CSK     CSK      15          0\n",
       "1   DD v/s CSK      DD       6          0\n",
       "2  KKR v/s CSK     CSK      13          0\n",
       "3  KKR v/s CSK     KKR       7          0\n",
       "4   KKR v/s DD     KKR      13          0"
      ]
     },
     "execution_count": 39,
     "metadata": {},
     "output_type": "execute_result"
    }
   ],
   "source": [
    "#Applying groupby to find winner count\n",
    "df = pd.DataFrame(Data.groupby('Selector').apply(lambda a: a['WINNER'].value_counts())).reset_index()\n",
    "\n",
    "#Initializing Win Ratio Column\n",
    "df['Win Ratio']=0\n",
    "#df['AHP']=0\n",
    "\n",
    "df.head()"
   ]
  },
  {
   "cell_type": "code",
   "execution_count": 40,
   "metadata": {},
   "outputs": [
    {
     "name": "stderr",
     "output_type": "stream",
     "text": [
      "C:\\Users\\khand\\anaconda3\\lib\\site-packages\\pandas\\core\\indexing.py:670: SettingWithCopyWarning: \n",
      "A value is trying to be set on a copy of a slice from a DataFrame\n",
      "\n",
      "See the caveats in the documentation: https://pandas.pydata.org/pandas-docs/stable/user_guide/indexing.html#returning-a-view-versus-a-copy\n",
      "  self._setitem_with_indexer(indexer, value)\n"
     ]
    }
   ],
   "source": [
    "#Computing Win Ratio using WINNER feature\n",
    "for i in range(0, 72, 2):\n",
    "    df[\"Win Ratio\"].iloc[i] = df[\"WINNER\"].iloc[i]/df[\"WINNER\"].iloc[i+1]\n",
    "    df[\"Win Ratio\"].iloc[i+1] = df[\"WINNER\"].iloc[i+1]/df[\"WINNER\"].iloc[i]"
   ]
  },
  {
   "cell_type": "markdown",
   "metadata": {},
   "source": [
    "# AHP Matrix"
   ]
  },
  {
   "cell_type": "code",
   "execution_count": 41,
   "metadata": {},
   "outputs": [
    {
     "data": {
      "text/html": [
       "<div>\n",
       "<style scoped>\n",
       "    .dataframe tbody tr th:only-of-type {\n",
       "        vertical-align: middle;\n",
       "    }\n",
       "\n",
       "    .dataframe tbody tr th {\n",
       "        vertical-align: top;\n",
       "    }\n",
       "\n",
       "    .dataframe thead th {\n",
       "        text-align: right;\n",
       "    }\n",
       "</style>\n",
       "<table border=\"1\" class=\"dataframe\">\n",
       "  <thead>\n",
       "    <tr style=\"text-align: right;\">\n",
       "      <th></th>\n",
       "      <th>CSK</th>\n",
       "      <th>DD</th>\n",
       "      <th>KKR</th>\n",
       "      <th>KXIP</th>\n",
       "      <th>MI</th>\n",
       "      <th>RCB</th>\n",
       "      <th>RPS</th>\n",
       "      <th>RR</th>\n",
       "      <th>SRH</th>\n",
       "    </tr>\n",
       "  </thead>\n",
       "  <tbody>\n",
       "    <tr>\n",
       "      <th>CSK</th>\n",
       "      <td>1</td>\n",
       "      <td>2.5</td>\n",
       "      <td>1.85714</td>\n",
       "      <td>1.33333</td>\n",
       "      <td>0.6875</td>\n",
       "      <td>2.14286</td>\n",
       "      <td>2</td>\n",
       "      <td>2</td>\n",
       "      <td>2.14286</td>\n",
       "    </tr>\n",
       "    <tr>\n",
       "      <th>DD</th>\n",
       "      <td>0.4</td>\n",
       "      <td>1</td>\n",
       "      <td>0.769231</td>\n",
       "      <td>0.642857</td>\n",
       "      <td>1</td>\n",
       "      <td>0.571429</td>\n",
       "      <td>1.25</td>\n",
       "      <td>0.727273</td>\n",
       "      <td>1</td>\n",
       "    </tr>\n",
       "    <tr>\n",
       "      <th>KKR</th>\n",
       "      <td>0.538462</td>\n",
       "      <td>1.3</td>\n",
       "      <td>1</td>\n",
       "      <td>2.125</td>\n",
       "      <td>0.315789</td>\n",
       "      <td>1.4</td>\n",
       "      <td>3.5</td>\n",
       "      <td>1</td>\n",
       "      <td>1.88889</td>\n",
       "    </tr>\n",
       "    <tr>\n",
       "      <th>KXIP</th>\n",
       "      <td>0.75</td>\n",
       "      <td>1.55556</td>\n",
       "      <td>0.470588</td>\n",
       "      <td>1</td>\n",
       "      <td>0.846154</td>\n",
       "      <td>1</td>\n",
       "      <td>1</td>\n",
       "      <td>0.9</td>\n",
       "      <td>0.846154</td>\n",
       "    </tr>\n",
       "    <tr>\n",
       "      <th>MI</th>\n",
       "      <td>1.45455</td>\n",
       "      <td>1</td>\n",
       "      <td>3.16667</td>\n",
       "      <td>1.18182</td>\n",
       "      <td>1</td>\n",
       "      <td>1.77778</td>\n",
       "      <td>1.4</td>\n",
       "      <td>1</td>\n",
       "      <td>1.18182</td>\n",
       "    </tr>\n",
       "    <tr>\n",
       "      <th>RCB</th>\n",
       "      <td>0.466667</td>\n",
       "      <td>1.75</td>\n",
       "      <td>0.714286</td>\n",
       "      <td>1</td>\n",
       "      <td>0.5625</td>\n",
       "      <td>1</td>\n",
       "      <td>3.5</td>\n",
       "      <td>0.7</td>\n",
       "      <td>0.785714</td>\n",
       "    </tr>\n",
       "    <tr>\n",
       "      <th>RPS</th>\n",
       "      <td>0.5</td>\n",
       "      <td>0.8</td>\n",
       "      <td>0.285714</td>\n",
       "      <td>1</td>\n",
       "      <td>0.714286</td>\n",
       "      <td>0.285714</td>\n",
       "      <td>1</td>\n",
       "      <td>0.25</td>\n",
       "      <td>0.666667</td>\n",
       "    </tr>\n",
       "    <tr>\n",
       "      <th>RR</th>\n",
       "      <td>0.5</td>\n",
       "      <td>1.375</td>\n",
       "      <td>1</td>\n",
       "      <td>1.11111</td>\n",
       "      <td>1</td>\n",
       "      <td>1.42857</td>\n",
       "      <td>4</td>\n",
       "      <td>1</td>\n",
       "      <td>1.5</td>\n",
       "    </tr>\n",
       "    <tr>\n",
       "      <th>SRH</th>\n",
       "      <td>0.466667</td>\n",
       "      <td>1</td>\n",
       "      <td>0.529412</td>\n",
       "      <td>1.18182</td>\n",
       "      <td>0.846154</td>\n",
       "      <td>1.27273</td>\n",
       "      <td>1.5</td>\n",
       "      <td>0.666667</td>\n",
       "      <td>1</td>\n",
       "    </tr>\n",
       "  </tbody>\n",
       "</table>\n",
       "</div>"
      ],
      "text/plain": [
       "           CSK       DD       KKR      KXIP        MI       RCB   RPS  \\\n",
       "CSK          1      2.5   1.85714   1.33333    0.6875   2.14286     2   \n",
       "DD         0.4        1  0.769231  0.642857         1  0.571429  1.25   \n",
       "KKR   0.538462      1.3         1     2.125  0.315789       1.4   3.5   \n",
       "KXIP      0.75  1.55556  0.470588         1  0.846154         1     1   \n",
       "MI     1.45455        1   3.16667   1.18182         1   1.77778   1.4   \n",
       "RCB   0.466667     1.75  0.714286         1    0.5625         1   3.5   \n",
       "RPS        0.5      0.8  0.285714         1  0.714286  0.285714     1   \n",
       "RR         0.5    1.375         1   1.11111         1   1.42857     4   \n",
       "SRH   0.466667        1  0.529412   1.18182  0.846154   1.27273   1.5   \n",
       "\n",
       "            RR       SRH  \n",
       "CSK          2   2.14286  \n",
       "DD    0.727273         1  \n",
       "KKR          1   1.88889  \n",
       "KXIP       0.9  0.846154  \n",
       "MI           1   1.18182  \n",
       "RCB        0.7  0.785714  \n",
       "RPS       0.25  0.666667  \n",
       "RR           1       1.5  \n",
       "SRH   0.666667         1  "
      ]
     },
     "execution_count": 41,
     "metadata": {},
     "output_type": "execute_result"
    }
   ],
   "source": [
    "#Initializing Null Dataframe for pair-wise weight matrix \n",
    "Teams = df.level_1.unique()\n",
    "init_df = pd.DataFrame([], index = Teams, columns = Teams)\n",
    "\n",
    "#Assigning pair-wise weights using win ratio\n",
    "for i in range(0,init_df.shape[0]):               #Iteration over rows in init_df\n",
    "    for j in range(0,init_df.shape[0]):           #Iteration over columns in init_df\n",
    "        \n",
    "        if i == j:                                #Enters if element is diagonal\n",
    "            init_df.iloc[i,j] = 1\n",
    "    \n",
    "        elif i != j:                              #Enters if element is non-diagonal\n",
    "            #Creating Selector variable for given pair\n",
    "            if init_df.columns[j]>init_df.index[i]: \n",
    "                a = init_df.columns[j]+\" v/s \"+init_df.index[i]\n",
    "            if init_df.columns[j]<init_df.index[i]:\n",
    "                a = init_df.index[i]+\" v/s \"+init_df.columns[j]\n",
    "            \n",
    "            #Assigns Win Ratio(column index 3) as pair-wise weight \n",
    "            init_df.iloc[i,j] = \\\n",
    "            df[(df['Selector'] == a) & (df['level_1'] == init_df.index[i])].iloc[0,3]\n",
    "\n",
    "init_df"
   ]
  },
  {
   "cell_type": "markdown",
   "metadata": {},
   "source": [
    "- <font color = 'red'> This is the final matrix that we got after the AHP process </font>\n",
    "- Matrix meaning:\n",
    "- Eg CSK row:\n",
    "- DD value is 2.5 it means CSK win rate against DD is 2.5 times more. Bascically CSK has 2.5 times more importance than DD. Similarly 1.85 times more importance than KKR\n"
   ]
  },
  {
   "cell_type": "markdown",
   "metadata": {},
   "source": [
    "- This is the verification Code for AHP. It verifies that the ratios are consistent \n",
    "- Condition : Consistency Ratio < 0.1"
   ]
  },
  {
   "cell_type": "code",
   "execution_count": 42,
   "metadata": {},
   "outputs": [],
   "source": [
    "def AHP(df,random_index):\n",
    "    \"\"\"Reads Dataframe of numerical pair-wise order columns & random index and\n",
    "    returns an array of criteria weights if consistency ratio i.e. CR<0.1 is satisfied.\"\"\"\n",
    "\n",
    "    matrix=np.mat(df)         #Conveting df to numpy matrix\n",
    "        \n",
    "    n=matrix.shape[0]              #Extracting matrix size\n",
    "    \n",
    "    if n != matrix.shape[1]:       #Dimension check\n",
    "        print('Input matrix is not square.\\Please verify the matrix dimensions.')\n",
    "    elif np.multiply(matrix.T,matrix).round(decimals=5).sum()%1 != 0:       #Trnspose elements inverse check\n",
    "        print('Transpose elements are not reciprocal.\\nPlease verify the weights.')\n",
    "    else:                          #Enters AHP algorithm\n",
    "        #Pair-wise weight matrix divided column sums\n",
    "        mat1 = np.divide(matrix, matrix.sum(axis=0))\n",
    "        \n",
    "        #Criteria weights computed by Row-wise mean of mat1\n",
    "        criteria_weights = mat1.mean(axis=1)\n",
    "        \n",
    "        #Weighted sum computed by element wise multiplication of pair-wise matrix with criteria weight followed by\n",
    "        #row-wise addition\n",
    "        weighted_sum = np.multiply(matrix, criteria_weights.T).sum(axis=1)\n",
    "        \n",
    "        #lamda computed by averaging of ratio of weighted sum and criteria weights\n",
    "        lambda_max = (weighted_sum/criteria_weights).mean()\n",
    "    \n",
    "        #CI & CR Calculation\n",
    "        consistency_index = (lambda_max-n)/(n-1)\n",
    "        consistency_ratio = consistency_index/random_index\n",
    "\n",
    "        if consistency_ratio<0.1:\n",
    "            print(f'Consistency Ratio {consistency_ratio:.4} satisfies CR < 0.1 condition')\n",
    "            return criteria_weights\n",
    "        else:\n",
    "            print(f'Consistency Ratio {consistency_ratio:.4} does not satisfy CR < 0.1 condition')\n",
    "            return None"
   ]
  },
  {
   "cell_type": "code",
   "execution_count": 43,
   "metadata": {},
   "outputs": [
    {
     "name": "stdout",
     "output_type": "stream",
     "text": [
      "Consistency Ratio 0.04966 satisfies CR < 0.1 condition\n"
     ]
    }
   ],
   "source": [
    "weights = AHP(init_df.astype('float'), 1.45)"
   ]
  },
  {
   "cell_type": "markdown",
   "metadata": {},
   "source": [
    "## <font color = 'red'>Final Coefficients that we recieved after the AHP Process</red>"
   ]
  },
  {
   "cell_type": "code",
   "execution_count": 44,
   "metadata": {},
   "outputs": [
    {
     "data": {
      "text/html": [
       "<div>\n",
       "<style scoped>\n",
       "    .dataframe tbody tr th:only-of-type {\n",
       "        vertical-align: middle;\n",
       "    }\n",
       "\n",
       "    .dataframe tbody tr th {\n",
       "        vertical-align: top;\n",
       "    }\n",
       "\n",
       "    .dataframe thead th {\n",
       "        text-align: right;\n",
       "    }\n",
       "</style>\n",
       "<table border=\"1\" class=\"dataframe\">\n",
       "  <thead>\n",
       "    <tr style=\"text-align: right;\">\n",
       "      <th></th>\n",
       "      <th>0</th>\n",
       "    </tr>\n",
       "  </thead>\n",
       "  <tbody>\n",
       "    <tr>\n",
       "      <th>RPS</th>\n",
       "      <td>0.604341</td>\n",
       "    </tr>\n",
       "    <tr>\n",
       "      <th>DD</th>\n",
       "      <td>0.809025</td>\n",
       "    </tr>\n",
       "    <tr>\n",
       "      <th>SRH</th>\n",
       "      <td>0.904243</td>\n",
       "    </tr>\n",
       "    <tr>\n",
       "      <th>KXIP</th>\n",
       "      <td>0.939665</td>\n",
       "    </tr>\n",
       "    <tr>\n",
       "      <th>RCB</th>\n",
       "      <td>1.000000</td>\n",
       "    </tr>\n",
       "    <tr>\n",
       "      <th>RR</th>\n",
       "      <td>1.271740</td>\n",
       "    </tr>\n",
       "    <tr>\n",
       "      <th>KKR</th>\n",
       "      <td>1.276790</td>\n",
       "    </tr>\n",
       "    <tr>\n",
       "      <th>MI</th>\n",
       "      <td>1.518754</td>\n",
       "    </tr>\n",
       "    <tr>\n",
       "      <th>CSK</th>\n",
       "      <td>1.693047</td>\n",
       "    </tr>\n",
       "  </tbody>\n",
       "</table>\n",
       "</div>"
      ],
      "text/plain": [
       "             0\n",
       "RPS   0.604341\n",
       "DD    0.809025\n",
       "SRH   0.904243\n",
       "KXIP  0.939665\n",
       "RCB   1.000000\n",
       "RR    1.271740\n",
       "KKR   1.276790\n",
       "MI    1.518754\n",
       "CSK   1.693047"
      ]
     },
     "execution_count": 44,
     "metadata": {},
     "output_type": "execute_result"
    }
   ],
   "source": [
    "Team_criteria_weights= pd.DataFrame(weights, index = init_df.index).sort_values(by=0)\n",
    "Team_weights = Team_criteria_weights/Team_criteria_weights.mean()\n",
    "Team_weights"
   ]
  },
  {
   "cell_type": "markdown",
   "metadata": {},
   "source": [
    "## We have given rankings to the AHP weights highest will be 1 "
   ]
  },
  {
   "cell_type": "code",
   "execution_count": 45,
   "metadata": {},
   "outputs": [],
   "source": [
    "Team_priority_using_AHP = TeamStrength.iloc[:,[0,1]]\n",
    "#Team_priority_using_AHP.head()"
   ]
  },
  {
   "cell_type": "code",
   "execution_count": 46,
   "metadata": {},
   "outputs": [
    {
     "name": "stderr",
     "output_type": "stream",
     "text": [
      "C:\\Users\\khand\\anaconda3\\lib\\site-packages\\pandas\\core\\indexing.py:844: SettingWithCopyWarning: \n",
      "A value is trying to be set on a copy of a slice from a DataFrame.\n",
      "Try using .loc[row_indexer,col_indexer] = value instead\n",
      "\n",
      "See the caveats in the documentation: https://pandas.pydata.org/pandas-docs/stable/user_guide/indexing.html#returning-a-view-versus-a-copy\n",
      "  self.obj[key] = _infer_fill_value(value)\n",
      "C:\\Users\\khand\\anaconda3\\lib\\site-packages\\pandas\\core\\indexing.py:965: SettingWithCopyWarning: \n",
      "A value is trying to be set on a copy of a slice from a DataFrame.\n",
      "Try using .loc[row_indexer,col_indexer] = value instead\n",
      "\n",
      "See the caveats in the documentation: https://pandas.pydata.org/pandas-docs/stable/user_guide/indexing.html#returning-a-view-versus-a-copy\n",
      "  self.obj[item] = s\n"
     ]
    }
   ],
   "source": [
    "for team in Team_weights.index:\n",
    "    \n",
    "    i = Team_priority_using_AHP[Team_priority_using_AHP['Team']==team].index\n",
    "    Team_priority_using_AHP.loc[i,'AHP'] = Team_weights.loc[team,0]"
   ]
  },
  {
   "cell_type": "code",
   "execution_count": 47,
   "metadata": {},
   "outputs": [],
   "source": [
    "Team_priority_using_AHP=Team_priority_using_AHP.fillna(1)"
   ]
  },
  {
   "cell_type": "code",
   "execution_count": 48,
   "metadata": {},
   "outputs": [],
   "source": [
    "Team_priority_using_AHP = Team_priority_using_AHP.round(5)"
   ]
  },
  {
   "cell_type": "code",
   "execution_count": 49,
   "metadata": {},
   "outputs": [
    {
     "data": {
      "text/plain": [
       "array([1.69305, 0.80903, 1.     , 1.27679, 0.93966, 1.51875, 0.60434,\n",
       "       1.27174, 0.90424])"
      ]
     },
     "execution_count": 49,
     "metadata": {},
     "output_type": "execute_result"
    }
   ],
   "source": [
    "Team_priority_using_AHP['AHP'].unique()"
   ]
  },
  {
   "cell_type": "code",
   "execution_count": 50,
   "metadata": {},
   "outputs": [],
   "source": [
    "dictw={1.69305:1, 0.80903:8, 1.:5, 1.27679:3, 0.93966:6,\n",
    "       1.51875:2, 0.60434:9, 1.27174:4 , 0.90424:7 }"
   ]
  },
  {
   "cell_type": "markdown",
   "metadata": {},
   "source": [
    "- Addidng the AHP values that we got into the main model"
   ]
  },
  {
   "cell_type": "code",
   "execution_count": 51,
   "metadata": {},
   "outputs": [
    {
     "data": {
      "text/html": [
       "<div>\n",
       "<style scoped>\n",
       "    .dataframe tbody tr th:only-of-type {\n",
       "        vertical-align: middle;\n",
       "    }\n",
       "\n",
       "    .dataframe tbody tr th {\n",
       "        vertical-align: top;\n",
       "    }\n",
       "\n",
       "    .dataframe thead th {\n",
       "        text-align: right;\n",
       "    }\n",
       "</style>\n",
       "<table border=\"1\" class=\"dataframe\">\n",
       "  <thead>\n",
       "    <tr style=\"text-align: right;\">\n",
       "      <th></th>\n",
       "      <th>Team</th>\n",
       "      <th>Year</th>\n",
       "      <th>AHP</th>\n",
       "    </tr>\n",
       "  </thead>\n",
       "  <tbody>\n",
       "    <tr>\n",
       "      <th>0</th>\n",
       "      <td>CSK</td>\n",
       "      <td>2008</td>\n",
       "      <td>1.0</td>\n",
       "    </tr>\n",
       "    <tr>\n",
       "      <th>1</th>\n",
       "      <td>CSK</td>\n",
       "      <td>2009</td>\n",
       "      <td>1.0</td>\n",
       "    </tr>\n",
       "    <tr>\n",
       "      <th>2</th>\n",
       "      <td>CSK</td>\n",
       "      <td>2010</td>\n",
       "      <td>1.0</td>\n",
       "    </tr>\n",
       "    <tr>\n",
       "      <th>3</th>\n",
       "      <td>CSK</td>\n",
       "      <td>2011</td>\n",
       "      <td>1.0</td>\n",
       "    </tr>\n",
       "    <tr>\n",
       "      <th>4</th>\n",
       "      <td>CSK</td>\n",
       "      <td>2012</td>\n",
       "      <td>1.0</td>\n",
       "    </tr>\n",
       "  </tbody>\n",
       "</table>\n",
       "</div>"
      ],
      "text/plain": [
       "  Team  Year  AHP\n",
       "0  CSK  2008  1.0\n",
       "1  CSK  2009  1.0\n",
       "2  CSK  2010  1.0\n",
       "3  CSK  2011  1.0\n",
       "4  CSK  2012  1.0"
      ]
     },
     "execution_count": 51,
     "metadata": {},
     "output_type": "execute_result"
    }
   ],
   "source": [
    "Team_priority_using_AHP = Team_priority_using_AHP.replace(dictw)\n",
    "Team_priority_using_AHP.head()"
   ]
  },
  {
   "cell_type": "markdown",
   "metadata": {},
   "source": [
    "# Merge "
   ]
  },
  {
   "cell_type": "markdown",
   "metadata": {},
   "source": [
    "### This section is for merging the 2 dataframes \n",
    "\n",
    "- Match Data : Data containing all the match features\n",
    "- Strength Data : Features that we built \n",
    "- Feature Data Format: ['Team', 'Year', 'Feature_1', 'Feature_2', ....] "
   ]
  },
  {
   "cell_type": "code",
   "execution_count": 52,
   "metadata": {},
   "outputs": [],
   "source": [
    "# Team_Points = pd.read_csv('team_points.csv')\n",
    "# Team_Points.head()\n",
    "    "
   ]
  },
  {
   "cell_type": "markdown",
   "metadata": {},
   "source": [
    "match_data\n",
    "TeamStrength\n",
    "Team_priority_using_AHP"
   ]
  },
  {
   "cell_type": "code",
   "execution_count": 53,
   "metadata": {},
   "outputs": [],
   "source": [
    "def feature_joiner(df1,df2):\n",
    "    \"\"\"Reads Dataframe containing match data (df1) & Dataframe containing Team Features (df2) and \n",
    "    returns df1 with additional features joined from df2\n",
    "    \n",
    "    df2 should be in this format:\n",
    "    df2.columns = ['Team', 'Year', 'Feature_1', 'Feature_2', ....] \"\"\"\n",
    "    \n",
    "    new_columns = list('TEAM1_'+df2.columns[2:])+list('TEAM2_'+df2.columns[2:])   #Extracting names of new columns\n",
    "    n_features = int(len(new_columns)/2)                                          #Number of new features for a given team    \n",
    "    \n",
    "    df1 = pd.concat([df1, pd.DataFrame(columns = new_columns)],sort=False)        #Adding new columns to the original dataframe\n",
    "    \n",
    "    for team in df2.iloc[:,0].unique():   #Iteration over teams\n",
    "        for year in df2[df2.iloc[:,0] == team].iloc[:,1].unique():    #Iteration over seasons\n",
    "            #Reading index of rows with team in TEAM1 column\n",
    "            i = df1[(df1.loc[:,'TEAM1'] == team) & (df1.loc[:,'SEASON'] == year)].index\n",
    "            #Assigning values\n",
    "            df1.iloc[i, -n_features*2:-n_features] = df2[(df2.iloc[:,0] == team) & (df2.iloc[:,1] == year)].iloc[:,2:].values\n",
    "            \n",
    "            #Reading index of rows with team in TEAM2 column\n",
    "            j = df1[(df1.loc[:,'TEAM2'] == team) & (df1.loc[:,'SEASON'] == year)].index\n",
    "            #Assigning values\n",
    "            df1.iloc[j, -n_features:] = df2[(df2.iloc[:,0] == team) & (df2.iloc[:,1] == year)].iloc[:,2:].values\n",
    "        \n",
    "    return df1"
   ]
  },
  {
   "cell_type": "code",
   "execution_count": 54,
   "metadata": {},
   "outputs": [
    {
     "data": {
      "text/html": [
       "<div>\n",
       "<style scoped>\n",
       "    .dataframe tbody tr th:only-of-type {\n",
       "        vertical-align: middle;\n",
       "    }\n",
       "\n",
       "    .dataframe tbody tr th {\n",
       "        vertical-align: top;\n",
       "    }\n",
       "\n",
       "    .dataframe thead th {\n",
       "        text-align: right;\n",
       "    }\n",
       "</style>\n",
       "<table border=\"1\" class=\"dataframe\">\n",
       "  <thead>\n",
       "    <tr style=\"text-align: right;\">\n",
       "      <th></th>\n",
       "      <th>0</th>\n",
       "      <th>1</th>\n",
       "      <th>2</th>\n",
       "      <th>3</th>\n",
       "      <th>4</th>\n",
       "    </tr>\n",
       "  </thead>\n",
       "  <tbody>\n",
       "    <tr>\n",
       "      <th>ID</th>\n",
       "      <td>60</td>\n",
       "      <td>61</td>\n",
       "      <td>62</td>\n",
       "      <td>63</td>\n",
       "      <td>64</td>\n",
       "    </tr>\n",
       "    <tr>\n",
       "      <th>SEASON</th>\n",
       "      <td>2008</td>\n",
       "      <td>2008</td>\n",
       "      <td>2008</td>\n",
       "      <td>2008</td>\n",
       "      <td>2008</td>\n",
       "    </tr>\n",
       "    <tr>\n",
       "      <th>CITY</th>\n",
       "      <td>Bangalore</td>\n",
       "      <td>Chandigarh</td>\n",
       "      <td>Delhi</td>\n",
       "      <td>Mumbai</td>\n",
       "      <td>Kolkata</td>\n",
       "    </tr>\n",
       "    <tr>\n",
       "      <th>CITY_Corrrected</th>\n",
       "      <td>RCB</td>\n",
       "      <td>KXIP</td>\n",
       "      <td>DD</td>\n",
       "      <td>MI</td>\n",
       "      <td>KKR</td>\n",
       "    </tr>\n",
       "    <tr>\n",
       "      <th>TEAM1</th>\n",
       "      <td>KKR</td>\n",
       "      <td>CSK</td>\n",
       "      <td>DD</td>\n",
       "      <td>RCB</td>\n",
       "      <td>KKR</td>\n",
       "    </tr>\n",
       "    <tr>\n",
       "      <th>TEAM1_MODEL</th>\n",
       "      <td>1</td>\n",
       "      <td>1</td>\n",
       "      <td>1</td>\n",
       "      <td>1</td>\n",
       "      <td>1</td>\n",
       "    </tr>\n",
       "    <tr>\n",
       "      <th>TEAM2</th>\n",
       "      <td>RCB</td>\n",
       "      <td>KXIP</td>\n",
       "      <td>RR</td>\n",
       "      <td>MI</td>\n",
       "      <td>SRH</td>\n",
       "    </tr>\n",
       "    <tr>\n",
       "      <th>TEAM2_MODEL</th>\n",
       "      <td>0</td>\n",
       "      <td>0</td>\n",
       "      <td>0</td>\n",
       "      <td>0</td>\n",
       "      <td>0</td>\n",
       "    </tr>\n",
       "    <tr>\n",
       "      <th>TOSS_WINNER</th>\n",
       "      <td>RCB</td>\n",
       "      <td>CSK</td>\n",
       "      <td>RR</td>\n",
       "      <td>MI</td>\n",
       "      <td>SRH</td>\n",
       "    </tr>\n",
       "    <tr>\n",
       "      <th>TOSS_DECISION</th>\n",
       "      <td>field</td>\n",
       "      <td>bat</td>\n",
       "      <td>bat</td>\n",
       "      <td>bat</td>\n",
       "      <td>bat</td>\n",
       "    </tr>\n",
       "    <tr>\n",
       "      <th>RESULT</th>\n",
       "      <td>normal</td>\n",
       "      <td>normal</td>\n",
       "      <td>normal</td>\n",
       "      <td>normal</td>\n",
       "      <td>normal</td>\n",
       "    </tr>\n",
       "    <tr>\n",
       "      <th>WINNER</th>\n",
       "      <td>KKR</td>\n",
       "      <td>CSK</td>\n",
       "      <td>DD</td>\n",
       "      <td>RCB</td>\n",
       "      <td>KKR</td>\n",
       "    </tr>\n",
       "    <tr>\n",
       "      <th>WIN_BY_RUNS</th>\n",
       "      <td>140</td>\n",
       "      <td>33</td>\n",
       "      <td>0</td>\n",
       "      <td>0</td>\n",
       "      <td>0</td>\n",
       "    </tr>\n",
       "    <tr>\n",
       "      <th>TOSS_WINNER_MODEL</th>\n",
       "      <td>0</td>\n",
       "      <td>1</td>\n",
       "      <td>0</td>\n",
       "      <td>0</td>\n",
       "      <td>0</td>\n",
       "    </tr>\n",
       "    <tr>\n",
       "      <th>WINNER_MODEL</th>\n",
       "      <td>1</td>\n",
       "      <td>1</td>\n",
       "      <td>1</td>\n",
       "      <td>1</td>\n",
       "      <td>1</td>\n",
       "    </tr>\n",
       "    <tr>\n",
       "      <th>TOSS_DECISION_MODEL</th>\n",
       "      <td>0</td>\n",
       "      <td>1</td>\n",
       "      <td>1</td>\n",
       "      <td>1</td>\n",
       "      <td>1</td>\n",
       "    </tr>\n",
       "    <tr>\n",
       "      <th>CITY_MODEL</th>\n",
       "      <td>0</td>\n",
       "      <td>0</td>\n",
       "      <td>1</td>\n",
       "      <td>0</td>\n",
       "      <td>1</td>\n",
       "    </tr>\n",
       "    <tr>\n",
       "      <th>TEAM1_WIN_RATE</th>\n",
       "      <td>0</td>\n",
       "      <td>0</td>\n",
       "      <td>0</td>\n",
       "      <td>0</td>\n",
       "      <td>1</td>\n",
       "    </tr>\n",
       "    <tr>\n",
       "      <th>TEAM2_WIN_RATE</th>\n",
       "      <td>0</td>\n",
       "      <td>0</td>\n",
       "      <td>0</td>\n",
       "      <td>0</td>\n",
       "      <td>0</td>\n",
       "    </tr>\n",
       "    <tr>\n",
       "      <th>TEAM1_Team_Strength</th>\n",
       "      <td>27.0606</td>\n",
       "      <td>22.7465</td>\n",
       "      <td>25.4751</td>\n",
       "      <td>24.4765</td>\n",
       "      <td>27.0606</td>\n",
       "    </tr>\n",
       "    <tr>\n",
       "      <th>TEAM1_Batting_Team_Strength</th>\n",
       "      <td>16.8779</td>\n",
       "      <td>17.1468</td>\n",
       "      <td>17.4038</td>\n",
       "      <td>16.3418</td>\n",
       "      <td>16.8779</td>\n",
       "    </tr>\n",
       "    <tr>\n",
       "      <th>TEAM1_Bowling_Team_Strength</th>\n",
       "      <td>18.1737</td>\n",
       "      <td>11.4974</td>\n",
       "      <td>14.5124</td>\n",
       "      <td>12.7543</td>\n",
       "      <td>18.1737</td>\n",
       "    </tr>\n",
       "    <tr>\n",
       "      <th>TEAM1_Cumulative_Team_Strength</th>\n",
       "      <td>27.0606</td>\n",
       "      <td>22.7465</td>\n",
       "      <td>25.4751</td>\n",
       "      <td>24.4765</td>\n",
       "      <td>27.0606</td>\n",
       "    </tr>\n",
       "    <tr>\n",
       "      <th>TEAM2_Team_Strength</th>\n",
       "      <td>24.4765</td>\n",
       "      <td>23.7252</td>\n",
       "      <td>24.3381</td>\n",
       "      <td>28.9109</td>\n",
       "      <td>26.0771</td>\n",
       "    </tr>\n",
       "    <tr>\n",
       "      <th>TEAM2_Batting_Team_Strength</th>\n",
       "      <td>16.3418</td>\n",
       "      <td>17.8717</td>\n",
       "      <td>12.8134</td>\n",
       "      <td>19.571</td>\n",
       "      <td>15.9039</td>\n",
       "    </tr>\n",
       "    <tr>\n",
       "      <th>TEAM2_Bowling_Team_Strength</th>\n",
       "      <td>12.7543</td>\n",
       "      <td>9.74266</td>\n",
       "      <td>13.946</td>\n",
       "      <td>19.0154</td>\n",
       "      <td>14.0053</td>\n",
       "    </tr>\n",
       "    <tr>\n",
       "      <th>TEAM2_Cumulative_Team_Strength</th>\n",
       "      <td>24.4765</td>\n",
       "      <td>23.7252</td>\n",
       "      <td>24.3381</td>\n",
       "      <td>28.9109</td>\n",
       "      <td>26.0771</td>\n",
       "    </tr>\n",
       "  </tbody>\n",
       "</table>\n",
       "</div>"
      ],
      "text/plain": [
       "                                        0           1        2        3  \\\n",
       "ID                                     60          61       62       63   \n",
       "SEASON                               2008        2008     2008     2008   \n",
       "CITY                            Bangalore  Chandigarh    Delhi   Mumbai   \n",
       "CITY_Corrrected                       RCB        KXIP       DD       MI   \n",
       "TEAM1                                 KKR         CSK       DD      RCB   \n",
       "TEAM1_MODEL                             1           1        1        1   \n",
       "TEAM2                                 RCB        KXIP       RR       MI   \n",
       "TEAM2_MODEL                             0           0        0        0   \n",
       "TOSS_WINNER                           RCB         CSK       RR       MI   \n",
       "TOSS_DECISION                       field         bat      bat      bat   \n",
       "RESULT                             normal      normal   normal   normal   \n",
       "WINNER                                KKR         CSK       DD      RCB   \n",
       "WIN_BY_RUNS                           140          33        0        0   \n",
       "TOSS_WINNER_MODEL                       0           1        0        0   \n",
       "WINNER_MODEL                            1           1        1        1   \n",
       "TOSS_DECISION_MODEL                     0           1        1        1   \n",
       "CITY_MODEL                              0           0        1        0   \n",
       "TEAM1_WIN_RATE                          0           0        0        0   \n",
       "TEAM2_WIN_RATE                          0           0        0        0   \n",
       "TEAM1_Team_Strength               27.0606     22.7465  25.4751  24.4765   \n",
       "TEAM1_Batting_Team_Strength       16.8779     17.1468  17.4038  16.3418   \n",
       "TEAM1_Bowling_Team_Strength       18.1737     11.4974  14.5124  12.7543   \n",
       "TEAM1_Cumulative_Team_Strength    27.0606     22.7465  25.4751  24.4765   \n",
       "TEAM2_Team_Strength               24.4765     23.7252  24.3381  28.9109   \n",
       "TEAM2_Batting_Team_Strength       16.3418     17.8717  12.8134   19.571   \n",
       "TEAM2_Bowling_Team_Strength       12.7543     9.74266   13.946  19.0154   \n",
       "TEAM2_Cumulative_Team_Strength    24.4765     23.7252  24.3381  28.9109   \n",
       "\n",
       "                                      4  \n",
       "ID                                   64  \n",
       "SEASON                             2008  \n",
       "CITY                            Kolkata  \n",
       "CITY_Corrrected                     KKR  \n",
       "TEAM1                               KKR  \n",
       "TEAM1_MODEL                           1  \n",
       "TEAM2                               SRH  \n",
       "TEAM2_MODEL                           0  \n",
       "TOSS_WINNER                         SRH  \n",
       "TOSS_DECISION                       bat  \n",
       "RESULT                           normal  \n",
       "WINNER                              KKR  \n",
       "WIN_BY_RUNS                           0  \n",
       "TOSS_WINNER_MODEL                     0  \n",
       "WINNER_MODEL                          1  \n",
       "TOSS_DECISION_MODEL                   1  \n",
       "CITY_MODEL                            1  \n",
       "TEAM1_WIN_RATE                        1  \n",
       "TEAM2_WIN_RATE                        0  \n",
       "TEAM1_Team_Strength             27.0606  \n",
       "TEAM1_Batting_Team_Strength     16.8779  \n",
       "TEAM1_Bowling_Team_Strength     18.1737  \n",
       "TEAM1_Cumulative_Team_Strength  27.0606  \n",
       "TEAM2_Team_Strength             26.0771  \n",
       "TEAM2_Batting_Team_Strength     15.9039  \n",
       "TEAM2_Bowling_Team_Strength     14.0053  \n",
       "TEAM2_Cumulative_Team_Strength  26.0771  "
      ]
     },
     "execution_count": 54,
     "metadata": {},
     "output_type": "execute_result"
    }
   ],
   "source": [
    "Data = feature_joiner(match_data, TeamStrength)\n",
    "Data.head().T"
   ]
  },
  {
   "cell_type": "code",
   "execution_count": 55,
   "metadata": {},
   "outputs": [
    {
     "data": {
      "text/plain": [
       "MI      105\n",
       "SRH     102\n",
       "CSK      89\n",
       "KXIP     88\n",
       "KKR      86\n",
       "DD       78\n",
       "RCB      77\n",
       "RR       68\n",
       "RPS      37\n",
       "GL       10\n",
       "KTK       7\n",
       "Name: TEAM1, dtype: int64"
      ]
     },
     "execution_count": 55,
     "metadata": {},
     "output_type": "execute_result"
    }
   ],
   "source": [
    "Data['TEAM1'].value_counts()"
   ]
  },
  {
   "cell_type": "markdown",
   "metadata": {},
   "source": [
    "# AHP Strength"
   ]
  },
  {
   "cell_type": "code",
   "execution_count": 56,
   "metadata": {},
   "outputs": [
    {
     "ename": "FileNotFoundError",
     "evalue": "[Errno 2] File ahp_final.csv does not exist: 'ahp_final.csv'",
     "output_type": "error",
     "traceback": [
      "\u001b[1;31m---------------------------------------------------------------------------\u001b[0m",
      "\u001b[1;31mFileNotFoundError\u001b[0m                         Traceback (most recent call last)",
      "\u001b[1;32m<ipython-input-56-8c09e07258da>\u001b[0m in \u001b[0;36m<module>\u001b[1;34m\u001b[0m\n\u001b[1;32m----> 1\u001b[1;33m \u001b[0mAhpStrength\u001b[0m \u001b[1;33m=\u001b[0m \u001b[0mpd\u001b[0m\u001b[1;33m.\u001b[0m\u001b[0mread_csv\u001b[0m\u001b[1;33m(\u001b[0m\u001b[1;34m'ahp_final.csv'\u001b[0m\u001b[1;33m)\u001b[0m\u001b[1;33m\u001b[0m\u001b[1;33m\u001b[0m\u001b[0m\n\u001b[0m\u001b[0;32m      2\u001b[0m \u001b[0mAhpStrength\u001b[0m\u001b[1;33m.\u001b[0m\u001b[0mhead\u001b[0m\u001b[1;33m(\u001b[0m\u001b[1;33m)\u001b[0m\u001b[1;33m\u001b[0m\u001b[1;33m\u001b[0m\u001b[0m\n",
      "\u001b[1;32m~\\anaconda3\\lib\\site-packages\\pandas\\io\\parsers.py\u001b[0m in \u001b[0;36mparser_f\u001b[1;34m(filepath_or_buffer, sep, delimiter, header, names, index_col, usecols, squeeze, prefix, mangle_dupe_cols, dtype, engine, converters, true_values, false_values, skipinitialspace, skiprows, skipfooter, nrows, na_values, keep_default_na, na_filter, verbose, skip_blank_lines, parse_dates, infer_datetime_format, keep_date_col, date_parser, dayfirst, cache_dates, iterator, chunksize, compression, thousands, decimal, lineterminator, quotechar, quoting, doublequote, escapechar, comment, encoding, dialect, error_bad_lines, warn_bad_lines, delim_whitespace, low_memory, memory_map, float_precision)\u001b[0m\n\u001b[0;32m    674\u001b[0m         )\n\u001b[0;32m    675\u001b[0m \u001b[1;33m\u001b[0m\u001b[0m\n\u001b[1;32m--> 676\u001b[1;33m         \u001b[1;32mreturn\u001b[0m \u001b[0m_read\u001b[0m\u001b[1;33m(\u001b[0m\u001b[0mfilepath_or_buffer\u001b[0m\u001b[1;33m,\u001b[0m \u001b[0mkwds\u001b[0m\u001b[1;33m)\u001b[0m\u001b[1;33m\u001b[0m\u001b[1;33m\u001b[0m\u001b[0m\n\u001b[0m\u001b[0;32m    677\u001b[0m \u001b[1;33m\u001b[0m\u001b[0m\n\u001b[0;32m    678\u001b[0m     \u001b[0mparser_f\u001b[0m\u001b[1;33m.\u001b[0m\u001b[0m__name__\u001b[0m \u001b[1;33m=\u001b[0m \u001b[0mname\u001b[0m\u001b[1;33m\u001b[0m\u001b[1;33m\u001b[0m\u001b[0m\n",
      "\u001b[1;32m~\\anaconda3\\lib\\site-packages\\pandas\\io\\parsers.py\u001b[0m in \u001b[0;36m_read\u001b[1;34m(filepath_or_buffer, kwds)\u001b[0m\n\u001b[0;32m    446\u001b[0m \u001b[1;33m\u001b[0m\u001b[0m\n\u001b[0;32m    447\u001b[0m     \u001b[1;31m# Create the parser.\u001b[0m\u001b[1;33m\u001b[0m\u001b[1;33m\u001b[0m\u001b[1;33m\u001b[0m\u001b[0m\n\u001b[1;32m--> 448\u001b[1;33m     \u001b[0mparser\u001b[0m \u001b[1;33m=\u001b[0m \u001b[0mTextFileReader\u001b[0m\u001b[1;33m(\u001b[0m\u001b[0mfp_or_buf\u001b[0m\u001b[1;33m,\u001b[0m \u001b[1;33m**\u001b[0m\u001b[0mkwds\u001b[0m\u001b[1;33m)\u001b[0m\u001b[1;33m\u001b[0m\u001b[1;33m\u001b[0m\u001b[0m\n\u001b[0m\u001b[0;32m    449\u001b[0m \u001b[1;33m\u001b[0m\u001b[0m\n\u001b[0;32m    450\u001b[0m     \u001b[1;32mif\u001b[0m \u001b[0mchunksize\u001b[0m \u001b[1;32mor\u001b[0m \u001b[0miterator\u001b[0m\u001b[1;33m:\u001b[0m\u001b[1;33m\u001b[0m\u001b[1;33m\u001b[0m\u001b[0m\n",
      "\u001b[1;32m~\\anaconda3\\lib\\site-packages\\pandas\\io\\parsers.py\u001b[0m in \u001b[0;36m__init__\u001b[1;34m(self, f, engine, **kwds)\u001b[0m\n\u001b[0;32m    878\u001b[0m             \u001b[0mself\u001b[0m\u001b[1;33m.\u001b[0m\u001b[0moptions\u001b[0m\u001b[1;33m[\u001b[0m\u001b[1;34m\"has_index_names\"\u001b[0m\u001b[1;33m]\u001b[0m \u001b[1;33m=\u001b[0m \u001b[0mkwds\u001b[0m\u001b[1;33m[\u001b[0m\u001b[1;34m\"has_index_names\"\u001b[0m\u001b[1;33m]\u001b[0m\u001b[1;33m\u001b[0m\u001b[1;33m\u001b[0m\u001b[0m\n\u001b[0;32m    879\u001b[0m \u001b[1;33m\u001b[0m\u001b[0m\n\u001b[1;32m--> 880\u001b[1;33m         \u001b[0mself\u001b[0m\u001b[1;33m.\u001b[0m\u001b[0m_make_engine\u001b[0m\u001b[1;33m(\u001b[0m\u001b[0mself\u001b[0m\u001b[1;33m.\u001b[0m\u001b[0mengine\u001b[0m\u001b[1;33m)\u001b[0m\u001b[1;33m\u001b[0m\u001b[1;33m\u001b[0m\u001b[0m\n\u001b[0m\u001b[0;32m    881\u001b[0m \u001b[1;33m\u001b[0m\u001b[0m\n\u001b[0;32m    882\u001b[0m     \u001b[1;32mdef\u001b[0m \u001b[0mclose\u001b[0m\u001b[1;33m(\u001b[0m\u001b[0mself\u001b[0m\u001b[1;33m)\u001b[0m\u001b[1;33m:\u001b[0m\u001b[1;33m\u001b[0m\u001b[1;33m\u001b[0m\u001b[0m\n",
      "\u001b[1;32m~\\anaconda3\\lib\\site-packages\\pandas\\io\\parsers.py\u001b[0m in \u001b[0;36m_make_engine\u001b[1;34m(self, engine)\u001b[0m\n\u001b[0;32m   1112\u001b[0m     \u001b[1;32mdef\u001b[0m \u001b[0m_make_engine\u001b[0m\u001b[1;33m(\u001b[0m\u001b[0mself\u001b[0m\u001b[1;33m,\u001b[0m \u001b[0mengine\u001b[0m\u001b[1;33m=\u001b[0m\u001b[1;34m\"c\"\u001b[0m\u001b[1;33m)\u001b[0m\u001b[1;33m:\u001b[0m\u001b[1;33m\u001b[0m\u001b[1;33m\u001b[0m\u001b[0m\n\u001b[0;32m   1113\u001b[0m         \u001b[1;32mif\u001b[0m \u001b[0mengine\u001b[0m \u001b[1;33m==\u001b[0m \u001b[1;34m\"c\"\u001b[0m\u001b[1;33m:\u001b[0m\u001b[1;33m\u001b[0m\u001b[1;33m\u001b[0m\u001b[0m\n\u001b[1;32m-> 1114\u001b[1;33m             \u001b[0mself\u001b[0m\u001b[1;33m.\u001b[0m\u001b[0m_engine\u001b[0m \u001b[1;33m=\u001b[0m \u001b[0mCParserWrapper\u001b[0m\u001b[1;33m(\u001b[0m\u001b[0mself\u001b[0m\u001b[1;33m.\u001b[0m\u001b[0mf\u001b[0m\u001b[1;33m,\u001b[0m \u001b[1;33m**\u001b[0m\u001b[0mself\u001b[0m\u001b[1;33m.\u001b[0m\u001b[0moptions\u001b[0m\u001b[1;33m)\u001b[0m\u001b[1;33m\u001b[0m\u001b[1;33m\u001b[0m\u001b[0m\n\u001b[0m\u001b[0;32m   1115\u001b[0m         \u001b[1;32melse\u001b[0m\u001b[1;33m:\u001b[0m\u001b[1;33m\u001b[0m\u001b[1;33m\u001b[0m\u001b[0m\n\u001b[0;32m   1116\u001b[0m             \u001b[1;32mif\u001b[0m \u001b[0mengine\u001b[0m \u001b[1;33m==\u001b[0m \u001b[1;34m\"python\"\u001b[0m\u001b[1;33m:\u001b[0m\u001b[1;33m\u001b[0m\u001b[1;33m\u001b[0m\u001b[0m\n",
      "\u001b[1;32m~\\anaconda3\\lib\\site-packages\\pandas\\io\\parsers.py\u001b[0m in \u001b[0;36m__init__\u001b[1;34m(self, src, **kwds)\u001b[0m\n\u001b[0;32m   1889\u001b[0m         \u001b[0mkwds\u001b[0m\u001b[1;33m[\u001b[0m\u001b[1;34m\"usecols\"\u001b[0m\u001b[1;33m]\u001b[0m \u001b[1;33m=\u001b[0m \u001b[0mself\u001b[0m\u001b[1;33m.\u001b[0m\u001b[0musecols\u001b[0m\u001b[1;33m\u001b[0m\u001b[1;33m\u001b[0m\u001b[0m\n\u001b[0;32m   1890\u001b[0m \u001b[1;33m\u001b[0m\u001b[0m\n\u001b[1;32m-> 1891\u001b[1;33m         \u001b[0mself\u001b[0m\u001b[1;33m.\u001b[0m\u001b[0m_reader\u001b[0m \u001b[1;33m=\u001b[0m \u001b[0mparsers\u001b[0m\u001b[1;33m.\u001b[0m\u001b[0mTextReader\u001b[0m\u001b[1;33m(\u001b[0m\u001b[0msrc\u001b[0m\u001b[1;33m,\u001b[0m \u001b[1;33m**\u001b[0m\u001b[0mkwds\u001b[0m\u001b[1;33m)\u001b[0m\u001b[1;33m\u001b[0m\u001b[1;33m\u001b[0m\u001b[0m\n\u001b[0m\u001b[0;32m   1892\u001b[0m         \u001b[0mself\u001b[0m\u001b[1;33m.\u001b[0m\u001b[0munnamed_cols\u001b[0m \u001b[1;33m=\u001b[0m \u001b[0mself\u001b[0m\u001b[1;33m.\u001b[0m\u001b[0m_reader\u001b[0m\u001b[1;33m.\u001b[0m\u001b[0munnamed_cols\u001b[0m\u001b[1;33m\u001b[0m\u001b[1;33m\u001b[0m\u001b[0m\n\u001b[0;32m   1893\u001b[0m \u001b[1;33m\u001b[0m\u001b[0m\n",
      "\u001b[1;32mpandas\\_libs\\parsers.pyx\u001b[0m in \u001b[0;36mpandas._libs.parsers.TextReader.__cinit__\u001b[1;34m()\u001b[0m\n",
      "\u001b[1;32mpandas\\_libs\\parsers.pyx\u001b[0m in \u001b[0;36mpandas._libs.parsers.TextReader._setup_parser_source\u001b[1;34m()\u001b[0m\n",
      "\u001b[1;31mFileNotFoundError\u001b[0m: [Errno 2] File ahp_final.csv does not exist: 'ahp_final.csv'"
     ]
    }
   ],
   "source": [
    "AhpStrength = pd.read_csv('ahp_final.csv')\n",
    "AhpStrength.head()"
   ]
  },
  {
   "cell_type": "code",
   "execution_count": null,
   "metadata": {},
   "outputs": [],
   "source": [
    "AhpStrength = AhpStrength.replace('PWI','RPS')"
   ]
  },
  {
   "cell_type": "code",
   "execution_count": null,
   "metadata": {},
   "outputs": [],
   "source": [
    "AhpStrength = AhpStrength.replace('PWI','RPS')\n",
    "AhpStrength.loc[((AhpStrength['Year'] < 2016) & (AhpStrength['Team'] == 'DC')),'Team']='SRH'\n",
    "AhpStrength.loc[((AhpStrength['Year'] > 2016) & (AhpStrength['Team'] == 'DC')),'Team']='DD'\n",
    "Team_Ahp = AhpStrength.groupby(['Year', 'Team'])['AHP_bat','AHP_bowl','AHP_bat+bowl'].mean().reset_index()"
   ]
  },
  {
   "cell_type": "code",
   "execution_count": null,
   "metadata": {},
   "outputs": [],
   "source": [
    "AhpStrength.loc[((AhpStrength['Year'] > 2016) & (AhpStrength['Team'] == 'DC')),'Team']='DD'"
   ]
  },
  {
   "cell_type": "code",
   "execution_count": null,
   "metadata": {},
   "outputs": [],
   "source": [
    "#Team_Ahp.to_csv('Final_Team_Ahp_Strength.csv')"
   ]
  },
  {
   "cell_type": "code",
   "execution_count": null,
   "metadata": {},
   "outputs": [],
   "source": [
    "Team_Ahp = AhpStrength.groupby(['Year', 'Team'])['AHP_bat','AHP_bowl','AHP_bat+bowl'].mean().reset_index()\n",
    "Team_Ahp.head()"
   ]
  },
  {
   "cell_type": "code",
   "execution_count": null,
   "metadata": {},
   "outputs": [],
   "source": [
    "New_Data = feature_joiner(match_data, AhpStrength)\n",
    "New_Data.head().T"
   ]
  },
  {
   "cell_type": "code",
   "execution_count": null,
   "metadata": {},
   "outputs": [],
   "source": [
    "Data['TEAM1_WINxSTREN'] = Data['TEAM1_WIN_RATE']*Data['TEAM1_Team_Strength']\n",
    "Data['TEAM1_WINxCUMSTREN'] = Data['TEAM1_WIN_RATE']*Data['TEAM1_Cumulative_Team_Strength']\n",
    "\n",
    "\n",
    "#Data['TEAM1_WINxAHPMEAN'] = Data['TEAM1_WIN_RATE']*Data['TEAM1_Team AHP mean']\n",
    "#Data['TEAM1_WINxAHPVAL'] = Data['TEAM1_WIN_RATE']*Data['TEAM1_Team AHP value']\n",
    "#Data['TEAM1_WINxAHPMED'] = Data['TEAM1_WIN_RATE']*Data['TEAM1_Team AHP median']\n",
    "\n",
    "Data['TEAM2_WINxSTREN'] = Data['TEAM2_WIN_RATE']*Data['TEAM2_Team_Strength']\n",
    "Data['TEAM2_WINxCUMSTREN'] = Data['TEAM2_WIN_RATE']*Data['TEAM2_Cumulative_Team_Strength']\n",
    "#Data['TEAM2_WINxAHPVAL'] = Data['TEAM2_WIN_RATE']*Data['TEAM2_Team AHP value']\n",
    "#Data['TEAM2_WINxAHPMEAN'] = Data['TEAM2_WIN_RATE']*Data['TEAM2_Team AHP mean']\n",
    "#Data['TEAM2_WINxAHPMED'] = Data['TEAM2_WIN_RATE']*Data['TEAM2_Team AHP median']"
   ]
  },
  {
   "cell_type": "code",
   "execution_count": null,
   "metadata": {},
   "outputs": [],
   "source": [
    "Data['TEAM1_CONSISTENCY'] = ((Data['TEAM1_Team_Strength'] * 0.8) + (Data['TEAM1_Cumulative_Team_Strength'] * 0.2)) / 2\n",
    "Data['TEAM2_CONSISTENCY'] = ((Data['TEAM2_Team_Strength'] * 0.8) + (Data['TEAM2_Cumulative_Team_Strength'] * 0.2)) / 2"
   ]
  },
  {
   "cell_type": "code",
   "execution_count": null,
   "metadata": {},
   "outputs": [],
   "source": [
    "Data.columns"
   ]
  },
  {
   "cell_type": "code",
   "execution_count": null,
   "metadata": {},
   "outputs": [],
   "source": [
    "Data.loc[(Data['TOSS_WINNER_MODEL'] == 1) & (Data['TOSS_DECISION_MODEL'] == 1),'TEAM1_CUMUSTR_TOSS'] = 1 *Data['TEAM1_Cumulative_Team_Strength'] * 0.61\n",
    "Data.loc[(Data['TOSS_WINNER_MODEL'] == 1) & (Data['TOSS_DECISION_MODEL'] == 1),'TEAM2_CUMUSTR_TOSS'] = 0 *Data['TEAM2_Cumulative_Team_Strength'] * 0.39\n",
    "\n",
    "Data.loc[(Data['TOSS_WINNER_MODEL'] == 1) & (Data['TOSS_DECISION_MODEL'] == 0),'TEAM1_CUMUSTR_TOSS'] = 0 * Data['TEAM1_Cumulative_Team_Strength'] * 0.39\n",
    "Data.loc[(Data['TOSS_WINNER_MODEL'] == 1) & (Data['TOSS_DECISION_MODEL'] == 0),'TEAM2_CUMUSTR_TOSS'] = 1 * Data['TEAM2_Cumulative_Team_Strength'] * 0.61\n",
    "\n",
    "\n",
    "Data.loc[(Data['TOSS_WINNER_MODEL'] == 0) & (Data['TOSS_DECISION_MODEL'] == 1),'TEAM2_CUMUSTR_TOSS'] = 1 * Data['TEAM2_Cumulative_Team_Strength'] * 0.61\n",
    "Data.loc[(Data['TOSS_WINNER_MODEL'] == 0) & (Data['TOSS_DECISION_MODEL'] == 1),'TEAM1_CUMUSTR_TOSS'] = 0 * Data['TEAM1_Cumulative_Team_Strength'] * 0.39\n",
    "\n",
    "Data.loc[(Data['TOSS_WINNER_MODEL'] == 0) & (Data['TOSS_DECISION_MODEL'] == 0),'TEAM2_CUMUSTR_TOSS'] = 0 * Data['TEAM2_Cumulative_Team_Strength'] * 0.39\n",
    "Data.loc[(Data['TOSS_WINNER_MODEL'] == 0) & (Data['TOSS_DECISION_MODEL'] == 0),'TEAM1_CUMUSTR_TOSS'] = 1 * Data['TEAM1_Cumulative_Team_Strength'] * 0.61\n"
   ]
  },
  {
   "cell_type": "markdown",
   "metadata": {},
   "source": [
    "if team1 win toss \n",
    "    if team1 chooses field:\n",
    "        team1str = team1str * 0.61\n",
    "        team2str = team2str * 0.39\n",
    "    else:\n",
    "        team1str = team1str * 0.39\n",
    "        team2str = team2str * 0.61\n",
    "else team2 win toss\n",
    "    if team2 chooses field:\n",
    "        team2str = team1str * 0.61\n",
    "        team1str = team2str * 0.39\n",
    "    else:\n",
    "        team2str = team1str * 0.39\n",
    "        team1str = team2str * 0.61"
   ]
  },
  {
   "cell_type": "code",
   "execution_count": null,
   "metadata": {
    "scrolled": false
   },
   "outputs": [],
   "source": [
    "Diff_Features = Data.columns[Data.columns.str.contains('TEAM1_')].str.replace('TEAM1_','DIFF_').drop('DIFF_MODEL')\n",
    "Diff_Features"
   ]
  },
  {
   "cell_type": "code",
   "execution_count": null,
   "metadata": {},
   "outputs": [],
   "source": [
    "Data[list('TEAM1_'+Diff_Features.str.replace('DIFF_',''))+list('TEAM2_'+Diff_Features.str.replace('DIFF_',''))]=\\\n",
    "Data[list('TEAM1_'+Diff_Features.str.replace('DIFF_',''))+list('TEAM2_'+Diff_Features.str.replace('DIFF_',''))].astype('float64',copy=True)"
   ]
  },
  {
   "cell_type": "code",
   "execution_count": null,
   "metadata": {},
   "outputs": [],
   "source": [
    "for f in Diff_Features:\n",
    "    Data[f] = Data['TEAM1_'+f.replace('DIFF_','')]-Data['TEAM2_'+f.replace('DIFF_','')]\n"
   ]
  },
  {
   "cell_type": "code",
   "execution_count": null,
   "metadata": {},
   "outputs": [],
   "source": [
    "Ratio_Features = Data.columns[Data.columns.str.contains('TEAM1_')].str.replace('TEAM1_','RATIO_').drop('RATIO_MODEL')\n",
    "Ratio_Features"
   ]
  },
  {
   "cell_type": "code",
   "execution_count": null,
   "metadata": {},
   "outputs": [],
   "source": [
    "Data.head()"
   ]
  },
  {
   "cell_type": "code",
   "execution_count": null,
   "metadata": {},
   "outputs": [],
   "source": [
    "Data.dropna(inplace = True)"
   ]
  },
  {
   "cell_type": "code",
   "execution_count": null,
   "metadata": {
    "scrolled": false
   },
   "outputs": [],
   "source": [
    "Data.isnull().sum()"
   ]
  },
  {
   "cell_type": "code",
   "execution_count": null,
   "metadata": {},
   "outputs": [],
   "source": [
    "X = Data.drop(['ID','CITY',\n",
    "             'CITY_Corrrected', \n",
    "             'TEAM1', 'TEAM2', \n",
    "             'TEAM1_MODEL', 'TEAM2_MODEL', \n",
    "             'TOSS_WINNER', 'TOSS_DECISION', 'RESULT', \n",
    "             'WINNER','WINNER_MODEL',\n",
    "             'WIN_BY_RUNS'],axis=1)"
   ]
  },
  {
   "cell_type": "code",
   "execution_count": null,
   "metadata": {},
   "outputs": [],
   "source": [
    "y = Data['WINNER_MODEL'] "
   ]
  },
  {
   "cell_type": "code",
   "execution_count": null,
   "metadata": {},
   "outputs": [],
   "source": [
    "X.head()"
   ]
  },
  {
   "cell_type": "markdown",
   "metadata": {},
   "source": [
    "# Solving the Asymmetry: Mirroring the Data"
   ]
  },
  {
   "cell_type": "markdown",
   "metadata": {},
   "source": [
    "|TEAM1|TEAM2|TEAM1_STRENGTH|TEAM2_STRENGTH|WINNER|\n",
    "|-----|-----|--------------|--------------|------|\n",
    "|CSK|MI|X|Y|1|\n"
   ]
  },
  {
   "cell_type": "markdown",
   "metadata": {},
   "source": [
    "When we consider the above row, it is apparent to a human that when TEAM1 & TEAM2 are switched, the results will still be the same. However, to a model this is not apparent and hence we need to input the this information.<br>\n",
    "Therefore, we mirror each row in the training set so that the model understands both the cases"
   ]
  },
  {
   "cell_type": "markdown",
   "metadata": {},
   "source": [
    "|TEAM1|TEAM2|TEAM1_STRENGTH|TEAM2_STRENGTH|WINNER|\n",
    "|-----|-----|--------------|--------------|------|\n",
    "|CSK|MI|X|Y|1|\n",
    "|MI|CSK|Y|X|0|\n"
   ]
  },
  {
   "cell_type": "markdown",
   "metadata": {},
   "source": [
    "Steps invloved in creating the train and test sets:\n",
    "<ol>\n",
    "    <li>The original dataset is split using <code>train_test_split</code> into training and test sets</li>\n",
    "    <li>The training set is then mirrored as shown above and append to the orginal training set which result in the number of rows being doubled</li>\n",
    "    <li>The test set is also mirrored but we don't append them and create two test sets</li>\n",
    "</ol>"
   ]
  },
  {
   "cell_type": "code",
   "execution_count": null,
   "metadata": {},
   "outputs": [],
   "source": [
    "from sklearn.model_selection import train_test_split"
   ]
  },
  {
   "cell_type": "code",
   "execution_count": null,
   "metadata": {},
   "outputs": [],
   "source": [
    "def symmetric_splitting(X,Y,split_size,random):\n",
    "    \n",
    "    #Splitting the Data into train and test\n",
    "    X_train, X_test, y_train, y_test = train_test_split(X, Y, test_size=split_size, random_state=random)\n",
    "    \n",
    "    #Training Set mirrored and merged\n",
    "    Xsyn_train=pd.DataFrame([],columns=X_train.columns)\n",
    "\n",
    "    Xsyn_train['SEASON'] = X_train['SEASON']\n",
    "    Xsyn_train['TOSS_DECISION_MODEL'] = (X_train['TOSS_DECISION_MODEL']==1)*0+(X_train['TOSS_DECISION_MODEL']==0)*1\n",
    "    Xsyn_train['TOSS_WINNER_MODEL'] = (X_train['TOSS_WINNER_MODEL']==1)*0+(X_train['TOSS_WINNER_MODEL']==0)*1\n",
    "    Xsyn_train['CITY_MODEL'] =(X_train['CITY_MODEL']==1)*0+(X_train['CITY_MODEL']==0)*1+(X_train['CITY_MODEL']==2)*2\n",
    "    \n",
    "    Flip = Data.columns[Data.columns.str.contains('TEAM1_')].str.replace('TEAM1_','').drop('MODEL')\n",
    "    Xsyn_train['TEAM1_'+Flip] = X_train['TEAM2_'+Flip]\n",
    "    Xsyn_train['TEAM2_'+Flip] = X_train['TEAM1_'+Flip]\n",
    "    \n",
    "    Xsyn_train[Diff_Features]=-X_train[Diff_Features]\n",
    "    \n",
    "    ysyn_train = (y_train==1)*0+(y_train==0)*1\n",
    "    \n",
    "    Xsymm_train = X_train.append(Xsyn_train,ignore_index=True)\n",
    "    ysymm_train = y_train.append(ysyn_train,ignore_index=True)\n",
    "    \n",
    "    #Test Set mirrored\n",
    "    Xsyn_test=pd.DataFrame([],columns=X_train.columns)\n",
    "\n",
    "    Xsyn_test['SEASON'] = X_test['SEASON']\n",
    "    Xsyn_test['TOSS_DECISION_MODEL'] = (X_test['TOSS_DECISION_MODEL']==1)*0+(X_test['TOSS_DECISION_MODEL']==0)*1\n",
    "    Xsyn_test['TOSS_WINNER_MODEL'] = (X_test['TOSS_WINNER_MODEL']==1)*0+(X_test['TOSS_WINNER_MODEL']==0)*1\n",
    "    Xsyn_test['CITY_MODEL'] =(X_test['CITY_MODEL']==1)*0+(X_test['CITY_MODEL']==0)*1+(X_test['CITY_MODEL']==2)*2\n",
    "    \n",
    "    Xsyn_test['TEAM1_'+Flip] = X_test['TEAM2_'+Flip]\n",
    "    Xsyn_test['TEAM2_'+Flip] = X_test['TEAM1_'+Flip]\n",
    "    \n",
    "    Xsyn_test[Diff_Features]=-X_test[Diff_Features]\n",
    "    \n",
    "    ysyn_test = (y_test==1)*0+(y_test==0)*1\n",
    "    \n",
    "    return Xsymm_train, ysymm_train, X_test, y_test, Xsyn_test, ysyn_test"
   ]
  },
  {
   "cell_type": "code",
   "execution_count": null,
   "metadata": {},
   "outputs": [],
   "source": [
    "X_train, y_train, X_test1, y_test1, X_test2, y_test2 = symmetric_splitting(X,y,0.2,101)"
   ]
  },
  {
   "cell_type": "code",
   "execution_count": null,
   "metadata": {},
   "outputs": [],
   "source": [
    "X_train.isnull().sum()"
   ]
  },
  {
   "cell_type": "code",
   "execution_count": null,
   "metadata": {},
   "outputs": [],
   "source": [
    "X_train.head().T"
   ]
  },
  {
   "cell_type": "markdown",
   "metadata": {},
   "source": [
    "# Model Ambiguity"
   ]
  },
  {
   "cell_type": "markdown",
   "metadata": {},
   "source": [
    "The asymmetric nature of the model in a few rows leads to ambiguity in the results.<br>\n",
    "For instance:"
   ]
  },
  {
   "cell_type": "markdown",
   "metadata": {},
   "source": [
    "|TEST SET|TEAM1|TEAM2|WINNER|PREDICTION|\n",
    "|--------|-----|-----|------|----------|\n",
    "|    1   | KKR | KXIP|  1   |    1     |\n",
    "|    2   | KXIP| KKR |  0   |    1     |\n"
   ]
  },
  {
   "cell_type": "markdown",
   "metadata": {},
   "source": [
    "So in the above case, we have different predictions for same case. We will call such an occurance as Model Ambiguity. Note that this is not the same as incorrect prediction as the prediction will count correct in either test set 1 or test set 2."
   ]
  },
  {
   "cell_type": "markdown",
   "metadata": {},
   "source": [
    "Therefore we will evalute the model using 5 parameter rather than just training and test accuracy:\n",
    "<ul>\n",
    "    <li>Training Accuracy:  Percent of correct predictions in mirror and merged train set</li>\n",
    "    <li>Test 1 Accuracy:    Percent of correct prediction in original test set</li>\n",
    "    <li>Test 2 Accuracy:    Percent of correct prediction in mirrored test set</li>\n",
    "    <li>Real Test Accuracy: Percent of correct prediction after discrediting the scores for ambiguous rows</li>\n",
    "    <li>Ambiguity:          Percent of rows in which ambiguity is observed</li>\n",
    "</ul>"
   ]
  },
  {
   "cell_type": "code",
   "execution_count": null,
   "metadata": {},
   "outputs": [],
   "source": [
    "def print_score(model,X_t,y_t,X_v1,y_v1,X_v2,y_v2, print_result=False):\n",
    "    \n",
    "    ambiguity = sum(model.predict(X_test1)==model.predict(X_test2))/len(model.predict(X_test1))\n",
    "    \n",
    "    ambi_rows = X_test1[model.predict(X_test1)==model.predict(X_test2)]\n",
    "    real_test_score = model.score(X_test1.drop(ambi_rows.index),y_test1.drop(ambi_rows.index))\\\n",
    "    *len(y_test1.drop(ambi_rows.index))/len(y_test1)\n",
    "    \n",
    "    if print_result == True:\n",
    "        print(f\"\"\"Training Accuracy of the model:      {model.score(X_t,y_t):.3%}\n",
    "Test 1 Accuracy of the model:        {model.score(X_v1,y_v1):.3%}\n",
    "Test 2 Accuracy of the model:        {model.score(X_v2,y_v2):.3%}\n",
    "True Test Accuracy of the model:     {real_test_score:.3%}\n",
    "Ambiguity of the model:              {ambiguity:.3%}\"\"\")\n",
    "    \n",
    "    return model.score(X_t,y_t),model.score(X_v1,y_v1),model.score(X_v2,y_v2),real_test_score,ambiguity"
   ]
  },
  {
   "cell_type": "markdown",
   "metadata": {},
   "source": [
    "# Modelling\n",
    "We observed that Tree based classifier are performing better on this Data than other clasifiers.<br>So we primarily focused on Tree based classifiers and additionally support vector classifier."
   ]
  },
  {
   "cell_type": "code",
   "execution_count": null,
   "metadata": {},
   "outputs": [],
   "source": [
    "from sklearn.ensemble import RandomForestClassifier\n",
    "from sklearn.ensemble import RandomForestRegressor\n",
    "from sklearn.svm import SVC\n",
    "from xgboost import XGBClassifier\n",
    "from sklearn.linear_model import LogisticRegression\n",
    "from sklearn.ensemble import ExtraTreesClassifier\n",
    "from sklearn.ensemble import AdaBoostClassifier\n",
    "\n",
    "from sklearn.feature_selection import RFE\n",
    "from sklearn.feature_selection import RFECV\n",
    "from sklearn.inspection import permutation_importance\n",
    "\n",
    "from sklearn.base import clone"
   ]
  },
  {
   "cell_type": "markdown",
   "metadata": {},
   "source": [
    "### Loading the models to be tested along with the hyperparameters"
   ]
  },
  {
   "cell_type": "code",
   "execution_count": null,
   "metadata": {},
   "outputs": [],
   "source": [
    "RFC = RandomForestClassifier(n_estimators=500,\n",
    "                             max_depth=5,\n",
    "                             min_samples_leaf=5,\n",
    "                             n_jobs=-1,\n",
    "                             max_features='log2',\n",
    "                             random_state=1)\n",
    "#                             oob_score=True)\n",
    "\n",
    "ETC = ExtraTreesClassifier(n_estimators=500,\n",
    "                             max_depth=5,\n",
    "                             min_samples_leaf=5,\n",
    "                             n_jobs=-1,\n",
    "                             max_features='log2',\n",
    "                             random_state=1)\n",
    "#                             oob_score=True)\n",
    "\n",
    "ABC = AdaBoostClassifier(n_estimators=200,\n",
    "                         learning_rate = 0.5,\n",
    "                         random_state=0)\n",
    "\n",
    "XGC = XGBClassifier(n_estimators=700,\n",
    "                    learning_rate=0.01,\n",
    "                    max_depth=5)\n",
    "\n",
    "SVMC = SVC(C=0.5,\n",
    "           kernel='linear')"
   ]
  },
  {
   "cell_type": "markdown",
   "metadata": {},
   "source": [
    "### The Random Forest Classifier is cloned and used to select top 10 features using <code>RFE</code>. The above defined models are evaluted using these selected features."
   ]
  },
  {
   "cell_type": "code",
   "execution_count": null,
   "metadata": {},
   "outputs": [],
   "source": [
    "mod = clone(RFC)\n",
    "selector = RFE(mod, n_features_to_select=10, step=1)\n",
    "selector = selector.fit(X_train, y_train)"
   ]
  },
  {
   "cell_type": "code",
   "execution_count": null,
   "metadata": {
    "scrolled": true
   },
   "outputs": [],
   "source": [
    "print_score(selector,X_train, y_train, X_test1, y_test1, X_test2, y_test2)"
   ]
  },
  {
   "cell_type": "code",
   "execution_count": null,
   "metadata": {},
   "outputs": [],
   "source": [
    "X_train = X_train[X_train.columns[selector.support_]]\n",
    "X_test1 = X_test1[X_train.columns[selector.support_]]\n",
    "X_test2 = X_test2[X_train.columns[selector.support_]]"
   ]
  },
  {
   "cell_type": "markdown",
   "metadata": {},
   "source": [
    "### Multi Model Evalution\n",
    "Set the <code>split_ratio</code> for dividing train and test sets<br>\n",
    "Change the <code>rand_st</code> to set the random states for <code>train_test_split</code><br>\n",
    "Load the models defined earlier into <code>all_mod</code> for evaluation"
   ]
  },
  {
   "cell_type": "code",
   "execution_count": null,
   "metadata": {},
   "outputs": [],
   "source": [
    "split_ratio=0.2\n",
    "rand_st = [0, 10, 20, 30, 42, 50, 60, 70, 80, 90, 101]\n",
    "all_mod = [RFC, ETC, ABC, XGC, SVMC]\n",
    "\n",
    "df_metrics=pd.DataFrame([],columns=['Train Accuracy','Test Accuracy 1','Test Accuracy 2','Real Test Accuracy','Ambiguity'],\n",
    "                        index=pd.MultiIndex(levels=[[],[]],codes=[[],[]],names=['Model','Random State']))\n",
    "\n",
    "for model in all_mod:\n",
    "    for random_st in rand_st:\n",
    "        X_train, y_train, X_test1, y_test1, X_test2, y_test2 = symmetric_splitting(X,y, 0.1, random_st)\n",
    "        model.fit(X_train, y_train)\n",
    "        TRA, TSA1, TSA2, RTA, AMB = print_score(model,X_train, y_train, X_test1, y_test1, X_test2, y_test2)\n",
    "        \n",
    "        mod_name = [k for k,v in globals().items() if v is model][0]\n",
    "        bomb=pd.Series(dict(zip(df_metrics.columns,(np.array([TRA, TSA1, TSA2, RTA, AMB])*100).round(2))),\n",
    "                       name=(mod_name,random_st))\n",
    "        df_metrics = df_metrics.append(bomb)\n",
    "\n",
    "df_metrics"
   ]
  }
 ],
 "metadata": {
  "kernelspec": {
   "display_name": "Python 3",
   "language": "python",
   "name": "python3"
  },
  "language_info": {
   "codemirror_mode": {
    "name": "ipython",
    "version": 3
   },
   "file_extension": ".py",
   "mimetype": "text/x-python",
   "name": "python",
   "nbconvert_exporter": "python",
   "pygments_lexer": "ipython3",
   "version": "3.7.6"
  }
 },
 "nbformat": 4,
 "nbformat_minor": 4
}
